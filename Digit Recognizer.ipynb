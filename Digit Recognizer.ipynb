{
 "cells": [
  {
   "cell_type": "markdown",
   "metadata": {},
   "source": [
    "## TRAIN THE MNIST MODEL AND PREDICT THE HANDWRITTEN MULTIPLE DIGITS"
   ]
  },
  {
   "cell_type": "code",
   "execution_count": 44,
   "metadata": {},
   "outputs": [],
   "source": [
    "# Importing libraries \n",
    "\n",
    "import pandas as pd\n",
    "import numpy as np\n",
    "import matplotlib.image as mpimg \n",
    "import matplotlib.pyplot as plt\n",
    "import cv2\n",
    "import numpy as np\n",
    "from keras.datasets import mnist\n",
    "from keras.layers import Dense, Flatten\n",
    "from keras.layers.convolutional import Conv2D\n",
    "from keras.models import Sequential\n",
    "from keras.utils import to_categorical"
   ]
  },
  {
   "cell_type": "code",
   "execution_count": 46,
   "metadata": {},
   "outputs": [],
   "source": [
    "# Splitting dataset into train and test data\n",
    "(X_train, y_train), (X_test, y_test) = mnist.load_data()"
   ]
  },
  {
   "cell_type": "code",
   "execution_count": 3,
   "metadata": {},
   "outputs": [
    {
     "data": {
      "image/png": "[encoded data removed]",
      "text/plain": [
       "<Figure size 432x288 with 1 Axes>"
      ]
     },
     "metadata": {
      "needs_background": "light"
     },
     "output_type": "display_data"
    },
    {
     "name": "stdout",
     "output_type": "stream",
     "text": [
      "5\n"
     ]
    }
   ],
   "source": [
    "plt.imshow(X_train[0], cmap=\"gray\")\n",
    "plt.show()\n",
    "print (y_train[0])"
   ]
  },
  {
   "cell_type": "code",
   "execution_count": 4,
   "metadata": {},
   "outputs": [
    {
     "name": "stdout",
     "output_type": "stream",
     "text": [
      "Shape of X_train: (60000, 28, 28)\n",
      "Shape of y_train: (60000,)\n",
      "Shape of X_test: (10000, 28, 28)\n",
      "Shape of y_test: (10000,)\n"
     ]
    }
   ],
   "source": [
    "## Checking out the shapes involved in dataset\n",
    "print (\"Shape of X_train: {}\".format(X_train.shape))\n",
    "print (\"Shape of y_train: {}\".format(y_train.shape))\n",
    "print (\"Shape of X_test: {}\".format(X_test.shape))\n",
    "print (\"Shape of y_test: {}\".format(y_test.shape))"
   ]
  },
  {
   "cell_type": "code",
   "execution_count": 5,
   "metadata": {},
   "outputs": [],
   "source": [
    "# reshaping the dataset\n",
    "X_train = X_train.reshape(60000, 28, 28, 1)\n",
    "X_test = X_test.reshape(10000, 28, 28, 1)"
   ]
  },
  {
   "cell_type": "code",
   "execution_count": 6,
   "metadata": {},
   "outputs": [
    {
     "name": "stdout",
     "output_type": "stream",
     "text": [
      "Shape of X_train: (60000, 28, 28, 1)\n",
      "Shape of y_train: (60000,)\n",
      "Shape of X_test: (10000, 28, 28, 1)\n",
      "Shape of y_test: (10000,)\n"
     ]
    }
   ],
   "source": [
    "print (\"Shape of X_train: {}\".format(X_train.shape))\n",
    "print (\"Shape of y_train: {}\".format(y_train.shape))\n",
    "print (\"Shape of X_test: {}\".format(X_test.shape))\n",
    "print (\"Shape of y_test: {}\".format(y_test.shape))"
   ]
  },
  {
   "cell_type": "code",
   "execution_count": 7,
   "metadata": {},
   "outputs": [],
   "source": [
    "# One hot encoding\n",
    "y_train = to_categorical(y_train)\n",
    "y_test = to_categorical(y_test)"
   ]
  },
  {
   "cell_type": "code",
   "execution_count": 8,
   "metadata": {},
   "outputs": [
    {
     "name": "stdout",
     "output_type": "stream",
     "text": [
      "WARNING:tensorflow:From C:\\Users\\dell\\Machine\\Anaconda3\\lib\\site-packages\\tensorflow\\python\\ops\\resource_variable_ops.py:435: colocate_with (from tensorflow.python.framework.ops) is deprecated and will be removed in a future version.\n",
      "Instructions for updating:\n",
      "Colocations handled automatically by placer.\n"
     ]
    }
   ],
   "source": [
    "# Declare the model\n",
    "model = Sequential()\n",
    "\n",
    "# Declare the layers\n",
    "layer_1 = Conv2D(32, kernel_size=3, activation='relu', input_shape=(28, 28, 1))\n",
    "layer_2 = Conv2D(64, kernel_size=3, activation='relu')\n",
    "layer_3 = Flatten()\n",
    "layer_4 = Dense(10, activation='softmax')\n",
    "\n",
    "# Add the layers to the model\n",
    "model.add(layer_1)\n",
    "model.add(layer_2)\n",
    "model.add(layer_3)\n",
    "model.add(layer_4)"
   ]
  },
  {
   "cell_type": "code",
   "execution_count": 9,
   "metadata": {},
   "outputs": [],
   "source": [
    "# Compilation\n",
    "model.compile(optimizer='adam', loss='categorical_crossentropy', metrics=['accuracy'])"
   ]
  },
  {
   "cell_type": "code",
   "execution_count": 10,
   "metadata": {},
   "outputs": [
    {
     "name": "stdout",
     "output_type": "stream",
     "text": [
      "WARNING:tensorflow:From C:\\Users\\dell\\Machine\\Anaconda3\\lib\\site-packages\\tensorflow\\python\\ops\\math_ops.py:3066: to_int32 (from tensorflow.python.ops.math_ops) is deprecated and will be removed in a future version.\n",
      "Instructions for updating:\n",
      "Use tf.cast instead.\n",
      "Train on 60000 samples, validate on 10000 samples\n",
      "Epoch 1/3\n",
      "60000/60000 [==============================] - 139s 2ms/step - loss: 14.5448 - accuracy: 0.0975 - val_loss: 14.5482 - val_accuracy: 0.0974\n",
      "Epoch 2/3\n",
      "60000/60000 [==============================] - 144s 2ms/step - loss: 14.5463 - accuracy: 0.0975 - val_loss: 14.5482 - val_accuracy: 0.0974\n",
      "Epoch 3/3\n",
      "60000/60000 [==============================] - 139s 2ms/step - loss: 14.5463 - accuracy: 0.0975 - val_loss: 14.5482 - val_accuracy: 0.0974\n"
     ]
    },
    {
     "data": {
      "text/plain": [
       "<keras.callbacks.callbacks.History at 0x20d2c29cdd8>"
      ]
     },
     "execution_count": 10,
     "metadata": {},
     "output_type": "execute_result"
    }
   ],
   "source": [
    "# training the model\n",
    "model.fit(X_train, y_train, validation_data=(X_test, y_test), epochs=3)"
   ]
  },
  {
   "cell_type": "code",
   "execution_count": 11,
   "metadata": {},
   "outputs": [
    {
     "name": "stdout",
     "output_type": "stream",
     "text": [
      "Prediction (Softmax) from the neural network:\n",
      "\n",
      " [[0. 0. 0. 0. 0. 0. 0. 0. 1. 0.]]\n",
      "\n",
      "\n",
      "Hard-maxed form of the prediction: \n",
      "\n",
      " [[0. 0. 0. 0. 0. 0. 0. 0. 1. 0.]]\n",
      "\n",
      "\n",
      "--------- Prediction --------- \n",
      "\n",
      "\n"
     ]
    },
    {
     "data": {
      "image/png": "[encoded data removed]",
      "text/plain": [
       "<Figure size 432x288 with 1 Axes>"
      ]
     },
     "metadata": {
      "needs_background": "light"
     },
     "output_type": "display_data"
    },
    {
     "name": "stdout",
     "output_type": "stream",
     "text": [
      "\n",
      "\n",
      "Final Output: 8\n"
     ]
    }
   ],
   "source": [
    "example = X_train[1]\n",
    "prediction = model.predict(example.reshape(1, 28, 28, 1))\n",
    "\n",
    "## First output\n",
    "print (\"Prediction (Softmax) from the neural network:\\n\\n {}\".format(prediction))\n",
    "\n",
    "## Second output\n",
    "hard_maxed_prediction = np.zeros(prediction.shape)\n",
    "hard_maxed_prediction[0][np.argmax(prediction)] = 1\n",
    "print (\"\\n\\nHard-maxed form of the prediction: \\n\\n {}\".format(hard_maxed_prediction))\n",
    "\n",
    "## Third output\n",
    "print (\"--------- Prediction---------\")\n",
    "plt.imshow(example.reshape(28, 28), cmap=\"gray\")\n",
    "plt.show()\n",
    "\n",
    "print(\"\\n\\nFinal Output: {}\".format(np.argmax(prediction)))"
   ]
  },
  {
   "cell_type": "code",
   "execution_count": 42,
   "metadata": {},
   "outputs": [
    {
     "data": {
      "image/png": "[encoded data removed]",
      "text/plain": [
       "<Figure size 432x288 with 1 Axes>"
      ]
     },
     "metadata": {
      "needs_background": "light"
     },
     "output_type": "display_data"
    }
   ],
   "source": [
    "# Read Images \n",
    "img = mpimg.imread('predict.jpg') \n",
    "\n",
    "# converting image to gray\n",
    "grey = cv2.cvtColor(img.copy(), cv2.COLOR_BGR2GRAY)\n",
    "\n",
    "# Thresholding image\n",
    "ret, thresh = cv2.threshold(grey.copy(), 215, 255, cv2.THRESH_BINARY_INV)\n",
    "im2, contours, hierarchy = cv2.findContours(thresh.copy(), cv2.RETR_EXTERNAL, cv2.CHAIN_APPROX_SIMPLE)\n",
    "\n",
    "preprocessed_digits = []\n",
    "for c in contours:\n",
    "    x,y,w,h = cv2.boundingRect(c)\n",
    "    \n",
    "    # Creating a rectangle around the digit in the original image (for displaying the digits fetched via contours)\n",
    "    cv2.rectangle(img, (x,y), (x+w, y+h), color=(0, 255, 0), thickness=7)\n",
    "    \n",
    "    # Cropping out the digit from the image corresponding to the current contours in the for loop\n",
    "    digit = thresh[y:y+h, x:x+w]\n",
    "    \n",
    "    # Resizing that digit to (18, 18)\n",
    "    resized_digit = cv2.resize(digit, (18,18))\n",
    "    \n",
    "    # Padding the digit with 5 pixels of black color (zeros) in each side to finally produce the image of (28, 28)\n",
    "    padded_digit = np.pad(resized_digit, ((5,5),(5,5)), \"constant\", constant_values=0)\n",
    "    \n",
    "    # Adding the preprocessed digit to the list of preprocessed digits\n",
    "    preprocessed_digits.append(padded_digit)\n",
    "plt.imshow(img, cmap=\"gray\")\n",
    "plt.show()\n",
    "    \n",
    "inp = np.array(preprocessed_digits)"
   ]
  },
  {
   "cell_type": "code",
   "execution_count": 43,
   "metadata": {},
   "outputs": [
    {
     "name": "stdout",
     "output_type": "stream",
     "text": [
      "\n",
      "\n",
      "---------------------------------------\n",
      "\n",
      "\n",
      "=========PREDICTION============ \n",
      "\n",
      "\n"
     ]
    },
    {
     "data": {
      "image/png": "[encoded data removed]",
      "text/plain": [
       "<Figure size 432x288 with 1 Axes>"
      ]
     },
     "metadata": {
      "needs_background": "light"
     },
     "output_type": "display_data"
    },
    {
     "name": "stdout",
     "output_type": "stream",
     "text": [
      "\n",
      "\n",
      "Final Output: 8\n",
      "\n",
      "Prediction (Softmax) from the neural network:\n",
      "\n",
      " [[0. 0. 0. 0. 0. 0. 0. 0. 1. 0.]]\n",
      "\n",
      "\n",
      "Hard-maxed form of the prediction: \n",
      "\n",
      " [[0. 0. 0. 0. 0. 0. 0. 0. 1. 0.]]\n",
      "\n",
      "\n",
      "---------------------------------------\n",
      "\n",
      "\n",
      "\n",
      "\n",
      "---------------------------------------\n",
      "\n",
      "\n",
      "=========PREDICTION============ \n",
      "\n",
      "\n"
     ]
    },
    {
     "data": {
      "image/png": "[encoded data removed]",
      "text/plain": [
       "<Figure size 432x288 with 1 Axes>"
      ]
     },
     "metadata": {
      "needs_background": "light"
     },
     "output_type": "display_data"
    },
    {
     "name": "stdout",
     "output_type": "stream",
     "text": [
      "\n",
      "\n",
      "Final Output: 8\n",
      "\n",
      "Prediction (Softmax) from the neural network:\n",
      "\n",
      " [[0. 0. 0. 0. 0. 0. 0. 0. 1. 0.]]\n",
      "\n",
      "\n",
      "Hard-maxed form of the prediction: \n",
      "\n",
      " [[0. 0. 0. 0. 0. 0. 0. 0. 1. 0.]]\n",
      "\n",
      "\n",
      "---------------------------------------\n",
      "\n",
      "\n",
      "\n",
      "\n",
      "---------------------------------------\n",
      "\n",
      "\n",
      "=========PREDICTION============ \n",
      "\n",
      "\n"
     ]
    },
    {
     "data": {
      "image/png": "[encoded data removed]",
      "text/plain": [
       "<Figure size 432x288 with 1 Axes>"
      ]
     },
     "metadata": {
      "needs_background": "light"
     },
     "output_type": "display_data"
    },
    {
     "name": "stdout",
     "output_type": "stream",
     "text": [
      "\n",
      "\n",
      "Final Output: 8\n",
      "\n",
      "Prediction (Softmax) from the neural network:\n",
      "\n",
      " [[0. 0. 0. 0. 0. 0. 0. 0. 1. 0.]]\n",
      "\n",
      "\n",
      "Hard-maxed form of the prediction: \n",
      "\n",
      " [[0. 0. 0. 0. 0. 0. 0. 0. 1. 0.]]\n",
      "\n",
      "\n",
      "---------------------------------------\n",
      "\n",
      "\n",
      "\n",
      "\n",
      "---------------------------------------\n",
      "\n",
      "\n",
      "=========PREDICTION============ \n",
      "\n",
      "\n"
     ]
    },
    {
     "data": {
      "image/png": "[encoded data removed]",
      "text/plain": [
       "<Figure size 432x288 with 1 Axes>"
      ]
     },
     "metadata": {
      "needs_background": "light"
     },
     "output_type": "display_data"
    },
    {
     "name": "stdout",
     "output_type": "stream",
     "text": [
      "\n",
      "\n",
      "Final Output: 8\n",
      "\n",
      "Prediction (Softmax) from the neural network:\n",
      "\n",
      " [[0. 0. 0. 0. 0. 0. 0. 0. 1. 0.]]\n",
      "\n",
      "\n",
      "Hard-maxed form of the prediction: \n",
      "\n",
      " [[0. 0. 0. 0. 0. 0. 0. 0. 1. 0.]]\n",
      "\n",
      "\n",
      "---------------------------------------\n",
      "\n",
      "\n",
      "\n",
      "\n",
      "---------------------------------------\n",
      "\n",
      "\n",
      "=========PREDICTION============ \n",
      "\n",
      "\n"
     ]
    },
    {
     "data": {
      "image/png": "[encoded data removed]",
      "text/plain": [
       "<Figure size 432x288 with 1 Axes>"
      ]
     },
     "metadata": {
      "needs_background": "light"
     },
     "output_type": "display_data"
    },
    {
     "name": "stdout",
     "output_type": "stream",
     "text": [
      "\n",
      "\n",
      "Final Output: 8\n",
      "\n",
      "Prediction (Softmax) from the neural network:\n",
      "\n",
      " [[0. 0. 0. 0. 0. 0. 0. 0. 1. 0.]]\n",
      "\n",
      "\n",
      "Hard-maxed form of the prediction: \n",
      "\n",
      " [[0. 0. 0. 0. 0. 0. 0. 0. 1. 0.]]\n",
      "\n",
      "\n",
      "---------------------------------------\n",
      "\n",
      "\n",
      "\n",
      "\n",
      "---------------------------------------\n",
      "\n",
      "\n",
      "=========PREDICTION============ \n",
      "\n",
      "\n"
     ]
    },
    {
     "data": {
      "image/png": "[encoded data removed]",
      "text/plain": [
       "<Figure size 432x288 with 1 Axes>"
      ]
     },
     "metadata": {
      "needs_background": "light"
     },
     "output_type": "display_data"
    },
    {
     "name": "stdout",
     "output_type": "stream",
     "text": [
      "\n",
      "\n",
      "Final Output: 8\n",
      "\n",
      "Prediction (Softmax) from the neural network:\n",
      "\n",
      " [[0. 0. 0. 0. 0. 0. 0. 0. 1. 0.]]\n",
      "\n",
      "\n",
      "Hard-maxed form of the prediction: \n",
      "\n",
      " [[0. 0. 0. 0. 0. 0. 0. 0. 1. 0.]]\n",
      "\n",
      "\n",
      "---------------------------------------\n",
      "\n",
      "\n",
      "\n",
      "\n",
      "---------------------------------------\n",
      "\n",
      "\n",
      "=========PREDICTION============ \n",
      "\n",
      "\n"
     ]
    },
    {
     "data": {
      "image/png": "[encoded data removed]",
      "text/plain": [
       "<Figure size 432x288 with 1 Axes>"
      ]
     },
     "metadata": {
      "needs_background": "light"
     },
     "output_type": "display_data"
    },
    {
     "name": "stdout",
     "output_type": "stream",
     "text": [
      "\n",
      "\n",
      "Final Output: 8\n",
      "\n",
      "Prediction (Softmax) from the neural network:\n",
      "\n",
      " [[0. 0. 0. 0. 0. 0. 0. 0. 1. 0.]]\n",
      "\n",
      "\n",
      "Hard-maxed form of the prediction: \n",
      "\n",
      " [[0. 0. 0. 0. 0. 0. 0. 0. 1. 0.]]\n",
      "\n",
      "\n",
      "---------------------------------------\n",
      "\n",
      "\n",
      "\n",
      "\n",
      "---------------------------------------\n",
      "\n",
      "\n",
      "=========PREDICTION============ \n",
      "\n",
      "\n"
     ]
    },
    {
     "data": {
      "image/png": "[encoded data removed]",
      "text/plain": [
       "<Figure size 432x288 with 1 Axes>"
      ]
     },
     "metadata": {
      "needs_background": "light"
     },
     "output_type": "display_data"
    },
    {
     "name": "stdout",
     "output_type": "stream",
     "text": [
      "\n",
      "\n",
      "Final Output: 8\n",
      "\n",
      "Prediction (Softmax) from the neural network:\n",
      "\n",
      " [[0. 0. 0. 0. 0. 0. 0. 0. 1. 0.]]\n",
      "\n",
      "\n",
      "Hard-maxed form of the prediction: \n",
      "\n",
      " [[0. 0. 0. 0. 0. 0. 0. 0. 1. 0.]]\n",
      "\n",
      "\n",
      "---------------------------------------\n",
      "\n",
      "\n",
      "\n",
      "\n",
      "---------------------------------------\n",
      "\n",
      "\n",
      "=========PREDICTION============ \n",
      "\n",
      "\n"
     ]
    },
    {
     "data": {
      "image/png": "[encoded data removed]",
      "text/plain": [
       "<Figure size 432x288 with 1 Axes>"
      ]
     },
     "metadata": {
      "needs_background": "light"
     },
     "output_type": "display_data"
    },
    {
     "name": "stdout",
     "output_type": "stream",
     "text": [
      "\n",
      "\n",
      "Final Output: 8\n",
      "\n",
      "Prediction (Softmax) from the neural network:\n",
      "\n",
      " [[0. 0. 0. 0. 0. 0. 0. 0. 1. 0.]]\n",
      "\n",
      "\n",
      "Hard-maxed form of the prediction: \n",
      "\n",
      " [[0. 0. 0. 0. 0. 0. 0. 0. 1. 0.]]\n",
      "\n",
      "\n",
      "---------------------------------------\n",
      "\n",
      "\n",
      "\n",
      "\n",
      "---------------------------------------\n",
      "\n",
      "\n",
      "=========PREDICTION============ \n",
      "\n",
      "\n"
     ]
    },
    {
     "data": {
      "image/png": "[encoded data removed]",
      "text/plain": [
       "<Figure size 432x288 with 1 Axes>"
      ]
     },
     "metadata": {
      "needs_background": "light"
     },
     "output_type": "display_data"
    },
    {
     "name": "stdout",
     "output_type": "stream",
     "text": [
      "\n",
      "\n",
      "Final Output: 8\n",
      "\n",
      "Prediction (Softmax) from the neural network:\n",
      "\n",
      " [[0. 0. 0. 0. 0. 0. 0. 0. 1. 0.]]\n",
      "\n",
      "\n",
      "Hard-maxed form of the prediction: \n",
      "\n",
      " [[0. 0. 0. 0. 0. 0. 0. 0. 1. 0.]]\n",
      "\n",
      "\n",
      "---------------------------------------\n",
      "\n",
      "\n",
      "\n",
      "\n",
      "---------------------------------------\n",
      "\n",
      "\n",
      "=========PREDICTION============ \n",
      "\n",
      "\n"
     ]
    },
    {
     "data": {
      "image/png": "[encoded data removed]",
      "text/plain": [
       "<Figure size 432x288 with 1 Axes>"
      ]
     },
     "metadata": {
      "needs_background": "light"
     },
     "output_type": "display_data"
    },
    {
     "name": "stdout",
     "output_type": "stream",
     "text": [
      "\n",
      "\n",
      "Final Output: 8\n",
      "\n",
      "Prediction (Softmax) from the neural network:\n",
      "\n",
      " [[0. 0. 0. 0. 0. 0. 0. 0. 1. 0.]]\n",
      "\n",
      "\n",
      "Hard-maxed form of the prediction: \n",
      "\n",
      " [[0. 0. 0. 0. 0. 0. 0. 0. 1. 0.]]\n",
      "\n",
      "\n",
      "---------------------------------------\n",
      "\n",
      "\n",
      "\n",
      "\n",
      "---------------------------------------\n",
      "\n",
      "\n",
      "=========PREDICTION============ \n",
      "\n",
      "\n"
     ]
    },
    {
     "data": {
      "image/png": "[encoded data removed]",
      "text/plain": [
       "<Figure size 432x288 with 1 Axes>"
      ]
     },
     "metadata": {
      "needs_background": "light"
     },
     "output_type": "display_data"
    },
    {
     "name": "stdout",
     "output_type": "stream",
     "text": [
      "\n",
      "\n",
      "Final Output: 8\n",
      "\n",
      "Prediction (Softmax) from the neural network:\n",
      "\n",
      " [[0. 0. 0. 0. 0. 0. 0. 0. 1. 0.]]\n",
      "\n",
      "\n",
      "Hard-maxed form of the prediction: \n",
      "\n",
      " [[0. 0. 0. 0. 0. 0. 0. 0. 1. 0.]]\n",
      "\n",
      "\n",
      "---------------------------------------\n",
      "\n",
      "\n",
      "\n",
      "\n",
      "---------------------------------------\n",
      "\n",
      "\n",
      "=========PREDICTION============ \n",
      "\n",
      "\n"
     ]
    },
    {
     "data": {
      "image/png": "[encoded data removed]",
      "text/plain": [
       "<Figure size 432x288 with 1 Axes>"
      ]
     },
     "metadata": {
      "needs_background": "light"
     },
     "output_type": "display_data"
    },
    {
     "name": "stdout",
     "output_type": "stream",
     "text": [
      "\n",
      "\n",
      "Final Output: 8\n",
      "\n",
      "Prediction (Softmax) from the neural network:\n",
      "\n",
      " [[0. 0. 0. 0. 0. 0. 0. 0. 1. 0.]]\n",
      "\n",
      "\n",
      "Hard-maxed form of the prediction: \n",
      "\n",
      " [[0. 0. 0. 0. 0. 0. 0. 0. 1. 0.]]\n",
      "\n",
      "\n",
      "---------------------------------------\n",
      "\n",
      "\n",
      "\n",
      "\n",
      "---------------------------------------\n",
      "\n",
      "\n",
      "=========PREDICTION============ \n",
      "\n",
      "\n"
     ]
    },
    {
     "data": {
      "image/png": "[encoded data removed]",
      "text/plain": [
       "<Figure size 432x288 with 1 Axes>"
      ]
     },
     "metadata": {
      "needs_background": "light"
     },
     "output_type": "display_data"
    },
    {
     "name": "stdout",
     "output_type": "stream",
     "text": [
      "\n",
      "\n",
      "Final Output: 8\n",
      "\n",
      "Prediction (Softmax) from the neural network:\n",
      "\n",
      " [[0. 0. 0. 0. 0. 0. 0. 0. 1. 0.]]\n",
      "\n",
      "\n",
      "Hard-maxed form of the prediction: \n",
      "\n",
      " [[0. 0. 0. 0. 0. 0. 0. 0. 1. 0.]]\n",
      "\n",
      "\n",
      "---------------------------------------\n",
      "\n",
      "\n",
      "\n",
      "\n",
      "---------------------------------------\n",
      "\n",
      "\n",
      "=========PREDICTION============ \n",
      "\n",
      "\n"
     ]
    },
    {
     "data": {
      "image/png": "[encoded data removed]",
      "text/plain": [
       "<Figure size 432x288 with 1 Axes>"
      ]
     },
     "metadata": {
      "needs_background": "light"
     },
     "output_type": "display_data"
    },
    {
     "name": "stdout",
     "output_type": "stream",
     "text": [
      "\n",
      "\n",
      "Final Output: 8\n",
      "\n",
      "Prediction (Softmax) from the neural network:\n",
      "\n",
      " [[0. 0. 0. 0. 0. 0. 0. 0. 1. 0.]]\n",
      "\n",
      "\n",
      "Hard-maxed form of the prediction: \n",
      "\n",
      " [[0. 0. 0. 0. 0. 0. 0. 0. 1. 0.]]\n",
      "\n",
      "\n",
      "---------------------------------------\n",
      "\n",
      "\n",
      "\n",
      "\n",
      "---------------------------------------\n",
      "\n",
      "\n",
      "=========PREDICTION============ \n",
      "\n",
      "\n"
     ]
    },
    {
     "data": {
      "image/png": "[encoded data removed]",
      "text/plain": [
       "<Figure size 432x288 with 1 Axes>"
      ]
     },
     "metadata": {
      "needs_background": "light"
     },
     "output_type": "display_data"
    },
    {
     "name": "stdout",
     "output_type": "stream",
     "text": [
      "\n",
      "\n",
      "Final Output: 8\n",
      "\n",
      "Prediction (Softmax) from the neural network:\n",
      "\n",
      " [[0. 0. 0. 0. 0. 0. 0. 0. 1. 0.]]\n",
      "\n",
      "\n",
      "Hard-maxed form of the prediction: \n",
      "\n",
      " [[0. 0. 0. 0. 0. 0. 0. 0. 1. 0.]]\n",
      "\n",
      "\n",
      "---------------------------------------\n",
      "\n",
      "\n",
      "\n",
      "\n",
      "---------------------------------------\n",
      "\n",
      "\n",
      "=========PREDICTION============ \n",
      "\n",
      "\n"
     ]
    },
    {
     "data": {
      "image/png": "[encoded data removed]",
      "text/plain": [
       "<Figure size 432x288 with 1 Axes>"
      ]
     },
     "metadata": {
      "needs_background": "light"
     },
     "output_type": "display_data"
    },
    {
     "name": "stdout",
     "output_type": "stream",
     "text": [
      "\n",
      "\n",
      "Final Output: 8\n",
      "\n",
      "Prediction (Softmax) from the neural network:\n",
      "\n",
      " [[0. 0. 0. 0. 0. 0. 0. 0. 1. 0.]]\n",
      "\n",
      "\n",
      "Hard-maxed form of the prediction: \n",
      "\n",
      " [[0. 0. 0. 0. 0. 0. 0. 0. 1. 0.]]\n",
      "\n",
      "\n",
      "---------------------------------------\n",
      "\n",
      "\n",
      "\n",
      "\n",
      "---------------------------------------\n",
      "\n",
      "\n",
      "=========PREDICTION============ \n",
      "\n",
      "\n"
     ]
    },
    {
     "data": {
      "image/png": "[encoded data removed]",
      "text/plain": [
       "<Figure size 432x288 with 1 Axes>"
      ]
     },
     "metadata": {
      "needs_background": "light"
     },
     "output_type": "display_data"
    },
    {
     "name": "stdout",
     "output_type": "stream",
     "text": [
      "\n",
      "\n",
      "Final Output: 8\n",
      "\n",
      "Prediction (Softmax) from the neural network:\n",
      "\n",
      " [[0. 0. 0. 0. 0. 0. 0. 0. 1. 0.]]\n",
      "\n",
      "\n",
      "Hard-maxed form of the prediction: \n",
      "\n",
      " [[0. 0. 0. 0. 0. 0. 0. 0. 1. 0.]]\n",
      "\n",
      "\n",
      "---------------------------------------\n",
      "\n",
      "\n",
      "\n",
      "\n",
      "---------------------------------------\n",
      "\n",
      "\n",
      "=========PREDICTION============ \n",
      "\n",
      "\n"
     ]
    },
    {
     "data": {
      "image/png": "[encoded data removed]",
      "text/plain": [
       "<Figure size 432x288 with 1 Axes>"
      ]
     },
     "metadata": {
      "needs_background": "light"
     },
     "output_type": "display_data"
    },
    {
     "name": "stdout",
     "output_type": "stream",
     "text": [
      "\n",
      "\n",
      "Final Output: 8\n",
      "\n",
      "Prediction (Softmax) from the neural network:\n",
      "\n",
      " [[0. 0. 0. 0. 0. 0. 0. 0. 1. 0.]]\n",
      "\n",
      "\n",
      "Hard-maxed form of the prediction: \n",
      "\n",
      " [[0. 0. 0. 0. 0. 0. 0. 0. 1. 0.]]\n",
      "\n",
      "\n",
      "---------------------------------------\n",
      "\n",
      "\n",
      "\n",
      "\n",
      "---------------------------------------\n",
      "\n",
      "\n",
      "=========PREDICTION============ \n",
      "\n",
      "\n"
     ]
    },
    {
     "data": {
      "image/png": "[encoded data removed]",
      "text/plain": [
       "<Figure size 432x288 with 1 Axes>"
      ]
     },
     "metadata": {
      "needs_background": "light"
     },
     "output_type": "display_data"
    },
    {
     "name": "stdout",
     "output_type": "stream",
     "text": [
      "\n",
      "\n",
      "Final Output: 8\n",
      "\n",
      "Prediction (Softmax) from the neural network:\n",
      "\n",
      " [[0. 0. 0. 0. 0. 0. 0. 0. 1. 0.]]\n",
      "\n",
      "\n",
      "Hard-maxed form of the prediction: \n",
      "\n",
      " [[0. 0. 0. 0. 0. 0. 0. 0. 1. 0.]]\n",
      "\n",
      "\n",
      "---------------------------------------\n",
      "\n",
      "\n",
      "\n",
      "\n",
      "---------------------------------------\n",
      "\n",
      "\n",
      "=========PREDICTION============ \n",
      "\n",
      "\n"
     ]
    },
    {
     "data": {
      "image/png": "[encoded data removed]",
      "text/plain": [
       "<Figure size 432x288 with 1 Axes>"
      ]
     },
     "metadata": {
      "needs_background": "light"
     },
     "output_type": "display_data"
    },
    {
     "name": "stdout",
     "output_type": "stream",
     "text": [
      "\n",
      "\n",
      "Final Output: 8\n",
      "\n",
      "Prediction (Softmax) from the neural network:\n",
      "\n",
      " [[0. 0. 0. 0. 0. 0. 0. 0. 1. 0.]]\n",
      "\n",
      "\n",
      "Hard-maxed form of the prediction: \n",
      "\n",
      " [[0. 0. 0. 0. 0. 0. 0. 0. 1. 0.]]\n",
      "\n",
      "\n",
      "---------------------------------------\n",
      "\n",
      "\n",
      "\n",
      "\n",
      "---------------------------------------\n",
      "\n",
      "\n",
      "=========PREDICTION============ \n",
      "\n",
      "\n"
     ]
    },
    {
     "data": {
      "image/png": "[encoded data removed]",
      "text/plain": [
       "<Figure size 432x288 with 1 Axes>"
      ]
     },
     "metadata": {
      "needs_background": "light"
     },
     "output_type": "display_data"
    },
    {
     "name": "stdout",
     "output_type": "stream",
     "text": [
      "\n",
      "\n",
      "Final Output: 8\n",
      "\n",
      "Prediction (Softmax) from the neural network:\n",
      "\n",
      " [[0. 0. 0. 0. 0. 0. 0. 0. 1. 0.]]\n",
      "\n",
      "\n",
      "Hard-maxed form of the prediction: \n",
      "\n",
      " [[0. 0. 0. 0. 0. 0. 0. 0. 1. 0.]]\n",
      "\n",
      "\n",
      "---------------------------------------\n",
      "\n",
      "\n",
      "\n",
      "\n",
      "---------------------------------------\n",
      "\n",
      "\n",
      "=========PREDICTION============ \n",
      "\n",
      "\n"
     ]
    },
    {
     "data": {
      "image/png": "[encoded data removed]",
      "text/plain": [
       "<Figure size 432x288 with 1 Axes>"
      ]
     },
     "metadata": {
      "needs_background": "light"
     },
     "output_type": "display_data"
    },
    {
     "name": "stdout",
     "output_type": "stream",
     "text": [
      "\n",
      "\n",
      "Final Output: 8\n",
      "\n",
      "Prediction (Softmax) from the neural network:\n",
      "\n",
      " [[0. 0. 0. 0. 0. 0. 0. 0. 1. 0.]]\n",
      "\n",
      "\n",
      "Hard-maxed form of the prediction: \n",
      "\n",
      " [[0. 0. 0. 0. 0. 0. 0. 0. 1. 0.]]\n",
      "\n",
      "\n",
      "---------------------------------------\n",
      "\n",
      "\n",
      "\n",
      "\n",
      "---------------------------------------\n",
      "\n",
      "\n",
      "=========PREDICTION============ \n",
      "\n",
      "\n"
     ]
    },
    {
     "data": {
      "image/png": "[encoded data removed]",
      "text/plain": [
       "<Figure size 432x288 with 1 Axes>"
      ]
     },
     "metadata": {
      "needs_background": "light"
     },
     "output_type": "display_data"
    },
    {
     "name": "stdout",
     "output_type": "stream",
     "text": [
      "\n",
      "\n",
      "Final Output: 8\n",
      "\n",
      "Prediction (Softmax) from the neural network:\n",
      "\n",
      " [[0. 0. 0. 0. 0. 0. 0. 0. 1. 0.]]\n",
      "\n",
      "\n",
      "Hard-maxed form of the prediction: \n",
      "\n",
      " [[0. 0. 0. 0. 0. 0. 0. 0. 1. 0.]]\n",
      "\n",
      "\n",
      "---------------------------------------\n",
      "\n",
      "\n",
      "\n",
      "\n",
      "---------------------------------------\n",
      "\n",
      "\n",
      "=========PREDICTION============ \n",
      "\n",
      "\n"
     ]
    },
    {
     "data": {
      "image/png": "[encoded data removed]",
      "text/plain": [
       "<Figure size 432x288 with 1 Axes>"
      ]
     },
     "metadata": {
      "needs_background": "light"
     },
     "output_type": "display_data"
    },
    {
     "name": "stdout",
     "output_type": "stream",
     "text": [
      "\n",
      "\n",
      "Final Output: 8\n",
      "\n",
      "Prediction (Softmax) from the neural network:\n",
      "\n",
      " [[0. 0. 0. 0. 0. 0. 0. 0. 1. 0.]]\n",
      "\n",
      "\n",
      "Hard-maxed form of the prediction: \n",
      "\n",
      " [[0. 0. 0. 0. 0. 0. 0. 0. 1. 0.]]\n",
      "\n",
      "\n",
      "---------------------------------------\n",
      "\n",
      "\n",
      "\n",
      "\n",
      "---------------------------------------\n",
      "\n",
      "\n",
      "=========PREDICTION============ \n",
      "\n",
      "\n"
     ]
    },
    {
     "data": {
      "image/png": "[encoded data removed]",
      "text/plain": [
       "<Figure size 432x288 with 1 Axes>"
      ]
     },
     "metadata": {
      "needs_background": "light"
     },
     "output_type": "display_data"
    },
    {
     "name": "stdout",
     "output_type": "stream",
     "text": [
      "\n",
      "\n",
      "Final Output: 8\n",
      "\n",
      "Prediction (Softmax) from the neural network:\n",
      "\n",
      " [[0. 0. 0. 0. 0. 0. 0. 0. 1. 0.]]\n",
      "\n",
      "\n",
      "Hard-maxed form of the prediction: \n",
      "\n",
      " [[0. 0. 0. 0. 0. 0. 0. 0. 1. 0.]]\n",
      "\n",
      "\n",
      "---------------------------------------\n",
      "\n",
      "\n",
      "\n",
      "\n",
      "---------------------------------------\n",
      "\n",
      "\n",
      "=========PREDICTION============ \n",
      "\n",
      "\n"
     ]
    },
    {
     "data": {
      "image/png": "[encoded data removed]",
      "text/plain": [
       "<Figure size 432x288 with 1 Axes>"
      ]
     },
     "metadata": {
      "needs_background": "light"
     },
     "output_type": "display_data"
    },
    {
     "name": "stdout",
     "output_type": "stream",
     "text": [
      "\n",
      "\n",
      "Final Output: 8\n",
      "\n",
      "Prediction (Softmax) from the neural network:\n",
      "\n",
      " [[0. 0. 0. 0. 0. 0. 0. 0. 1. 0.]]\n",
      "\n",
      "\n",
      "Hard-maxed form of the prediction: \n",
      "\n",
      " [[0. 0. 0. 0. 0. 0. 0. 0. 1. 0.]]\n",
      "\n",
      "\n",
      "---------------------------------------\n",
      "\n",
      "\n",
      "\n",
      "\n",
      "---------------------------------------\n",
      "\n",
      "\n",
      "=========PREDICTION============ \n",
      "\n",
      "\n"
     ]
    },
    {
     "data": {
      "image/png": "[encoded data removed]",
      "text/plain": [
       "<Figure size 432x288 with 1 Axes>"
      ]
     },
     "metadata": {
      "needs_background": "light"
     },
     "output_type": "display_data"
    },
    {
     "name": "stdout",
     "output_type": "stream",
     "text": [
      "\n",
      "\n",
      "Final Output: 8\n",
      "\n",
      "Prediction (Softmax) from the neural network:\n",
      "\n",
      " [[0. 0. 0. 0. 0. 0. 0. 0. 1. 0.]]\n",
      "\n",
      "\n",
      "Hard-maxed form of the prediction: \n",
      "\n",
      " [[0. 0. 0. 0. 0. 0. 0. 0. 1. 0.]]\n",
      "\n",
      "\n",
      "---------------------------------------\n",
      "\n",
      "\n",
      "\n",
      "\n",
      "---------------------------------------\n",
      "\n",
      "\n",
      "=========PREDICTION============ \n",
      "\n",
      "\n"
     ]
    },
    {
     "data": {
      "image/png": "[encoded data removed]",
      "text/plain": [
       "<Figure size 432x288 with 1 Axes>"
      ]
     },
     "metadata": {
      "needs_background": "light"
     },
     "output_type": "display_data"
    },
    {
     "name": "stdout",
     "output_type": "stream",
     "text": [
      "\n",
      "\n",
      "Final Output: 8\n",
      "\n",
      "Prediction (Softmax) from the neural network:\n",
      "\n",
      " [[0. 0. 0. 0. 0. 0. 0. 0. 1. 0.]]\n",
      "\n",
      "\n",
      "Hard-maxed form of the prediction: \n",
      "\n",
      " [[0. 0. 0. 0. 0. 0. 0. 0. 1. 0.]]\n",
      "\n",
      "\n",
      "---------------------------------------\n",
      "\n",
      "\n",
      "\n",
      "\n",
      "---------------------------------------\n",
      "\n",
      "\n",
      "=========PREDICTION============ \n",
      "\n",
      "\n"
     ]
    },
    {
     "data": {
      "image/png": "[encoded data removed]",
      "text/plain": [
       "<Figure size 432x288 with 1 Axes>"
      ]
     },
     "metadata": {
      "needs_background": "light"
     },
     "output_type": "display_data"
    },
    {
     "name": "stdout",
     "output_type": "stream",
     "text": [
      "\n",
      "\n",
      "Final Output: 8\n",
      "\n",
      "Prediction (Softmax) from the neural network:\n",
      "\n",
      " [[0. 0. 0. 0. 0. 0. 0. 0. 1. 0.]]\n",
      "\n",
      "\n",
      "Hard-maxed form of the prediction: \n",
      "\n",
      " [[0. 0. 0. 0. 0. 0. 0. 0. 1. 0.]]\n",
      "\n",
      "\n",
      "---------------------------------------\n",
      "\n",
      "\n",
      "\n",
      "\n",
      "---------------------------------------\n",
      "\n",
      "\n",
      "=========PREDICTION============ \n",
      "\n",
      "\n"
     ]
    },
    {
     "data": {
      "image/png": "[encoded data removed]",
      "text/plain": [
       "<Figure size 432x288 with 1 Axes>"
      ]
     },
     "metadata": {
      "needs_background": "light"
     },
     "output_type": "display_data"
    },
    {
     "name": "stdout",
     "output_type": "stream",
     "text": [
      "\n",
      "\n",
      "Final Output: 8\n",
      "\n",
      "Prediction (Softmax) from the neural network:\n",
      "\n",
      " [[0. 0. 0. 0. 0. 0. 0. 0. 1. 0.]]\n",
      "\n",
      "\n",
      "Hard-maxed form of the prediction: \n",
      "\n",
      " [[0. 0. 0. 0. 0. 0. 0. 0. 1. 0.]]\n",
      "\n",
      "\n",
      "---------------------------------------\n",
      "\n",
      "\n",
      "\n",
      "\n",
      "---------------------------------------\n",
      "\n",
      "\n",
      "=========PREDICTION============ \n",
      "\n",
      "\n"
     ]
    },
    {
     "data": {
      "image/png": "[encoded data removed]",
      "text/plain": [
       "<Figure size 432x288 with 1 Axes>"
      ]
     },
     "metadata": {
      "needs_background": "light"
     },
     "output_type": "display_data"
    },
    {
     "name": "stdout",
     "output_type": "stream",
     "text": [
      "\n",
      "\n",
      "Final Output: 8\n",
      "\n",
      "Prediction (Softmax) from the neural network:\n",
      "\n",
      " [[0. 0. 0. 0. 0. 0. 0. 0. 1. 0.]]\n",
      "\n",
      "\n",
      "Hard-maxed form of the prediction: \n",
      "\n",
      " [[0. 0. 0. 0. 0. 0. 0. 0. 1. 0.]]\n",
      "\n",
      "\n",
      "---------------------------------------\n",
      "\n",
      "\n",
      "\n",
      "\n",
      "---------------------------------------\n",
      "\n",
      "\n",
      "=========PREDICTION============ \n",
      "\n",
      "\n"
     ]
    },
    {
     "data": {
      "image/png": "[encoded data removed]",
      "text/plain": [
       "<Figure size 432x288 with 1 Axes>"
      ]
     },
     "metadata": {
      "needs_background": "light"
     },
     "output_type": "display_data"
    },
    {
     "name": "stdout",
     "output_type": "stream",
     "text": [
      "\n",
      "\n",
      "Final Output: 8\n",
      "\n",
      "Prediction (Softmax) from the neural network:\n",
      "\n",
      " [[0. 0. 0. 0. 0. 0. 0. 0. 1. 0.]]\n",
      "\n",
      "\n",
      "Hard-maxed form of the prediction: \n",
      "\n",
      " [[0. 0. 0. 0. 0. 0. 0. 0. 1. 0.]]\n",
      "\n",
      "\n",
      "---------------------------------------\n",
      "\n",
      "\n",
      "\n",
      "\n",
      "---------------------------------------\n",
      "\n",
      "\n",
      "=========PREDICTION============ \n",
      "\n",
      "\n"
     ]
    },
    {
     "data": {
      "image/png": "[encoded data removed]",
      "text/plain": [
       "<Figure size 432x288 with 1 Axes>"
      ]
     },
     "metadata": {
      "needs_background": "light"
     },
     "output_type": "display_data"
    },
    {
     "name": "stdout",
     "output_type": "stream",
     "text": [
      "\n",
      "\n",
      "Final Output: 8\n",
      "\n",
      "Prediction (Softmax) from the neural network:\n",
      "\n",
      " [[0. 0. 0. 0. 0. 0. 0. 0. 1. 0.]]\n",
      "\n",
      "\n",
      "Hard-maxed form of the prediction: \n",
      "\n",
      " [[0. 0. 0. 0. 0. 0. 0. 0. 1. 0.]]\n",
      "\n",
      "\n",
      "---------------------------------------\n",
      "\n",
      "\n",
      "\n",
      "\n",
      "---------------------------------------\n",
      "\n",
      "\n",
      "=========PREDICTION============ \n",
      "\n",
      "\n"
     ]
    },
    {
     "data": {
      "image/png": "[encoded data removed]",
      "text/plain": [
       "<Figure size 432x288 with 1 Axes>"
      ]
     },
     "metadata": {
      "needs_background": "light"
     },
     "output_type": "display_data"
    },
    {
     "name": "stdout",
     "output_type": "stream",
     "text": [
      "\n",
      "\n",
      "Final Output: 8\n",
      "\n",
      "Prediction (Softmax) from the neural network:\n",
      "\n",
      " [[0. 0. 0. 0. 0. 0. 0. 0. 1. 0.]]\n",
      "\n",
      "\n",
      "Hard-maxed form of the prediction: \n",
      "\n",
      " [[0. 0. 0. 0. 0. 0. 0. 0. 1. 0.]]\n",
      "\n",
      "\n",
      "---------------------------------------\n",
      "\n",
      "\n",
      "\n",
      "\n",
      "---------------------------------------\n",
      "\n",
      "\n",
      "=========PREDICTION============ \n",
      "\n",
      "\n"
     ]
    },
    {
     "data": {
      "image/png": "[encoded data removed]",
      "text/plain": [
       "<Figure size 432x288 with 1 Axes>"
      ]
     },
     "metadata": {
      "needs_background": "light"
     },
     "output_type": "display_data"
    },
    {
     "name": "stdout",
     "output_type": "stream",
     "text": [
      "\n",
      "\n",
      "Final Output: 8\n",
      "\n",
      "Prediction (Softmax) from the neural network:\n",
      "\n",
      " [[0. 0. 0. 0. 0. 0. 0. 0. 1. 0.]]\n",
      "\n",
      "\n",
      "Hard-maxed form of the prediction: \n",
      "\n",
      " [[0. 0. 0. 0. 0. 0. 0. 0. 1. 0.]]\n",
      "\n",
      "\n",
      "---------------------------------------\n",
      "\n",
      "\n",
      "\n",
      "\n",
      "---------------------------------------\n",
      "\n",
      "\n",
      "=========PREDICTION============ \n",
      "\n",
      "\n"
     ]
    },
    {
     "data": {
      "image/png": "[encoded data removed]",
      "text/plain": [
       "<Figure size 432x288 with 1 Axes>"
      ]
     },
     "metadata": {
      "needs_background": "light"
     },
     "output_type": "display_data"
    },
    {
     "name": "stdout",
     "output_type": "stream",
     "text": [
      "\n",
      "\n",
      "Final Output: 8\n",
      "\n",
      "Prediction (Softmax) from the neural network:\n",
      "\n",
      " [[0. 0. 0. 0. 0. 0. 0. 0. 1. 0.]]\n",
      "\n",
      "\n",
      "Hard-maxed form of the prediction: \n",
      "\n",
      " [[0. 0. 0. 0. 0. 0. 0. 0. 1. 0.]]\n",
      "\n",
      "\n",
      "---------------------------------------\n",
      "\n",
      "\n",
      "\n",
      "\n",
      "---------------------------------------\n",
      "\n",
      "\n",
      "=========PREDICTION============ \n",
      "\n",
      "\n"
     ]
    },
    {
     "data": {
      "image/png": "[encoded data removed]",
      "text/plain": [
       "<Figure size 432x288 with 1 Axes>"
      ]
     },
     "metadata": {
      "needs_background": "light"
     },
     "output_type": "display_data"
    },
    {
     "name": "stdout",
     "output_type": "stream",
     "text": [
      "\n",
      "\n",
      "Final Output: 8\n",
      "\n",
      "Prediction (Softmax) from the neural network:\n",
      "\n",
      " [[0. 0. 0. 0. 0. 0. 0. 0. 1. 0.]]\n",
      "\n",
      "\n",
      "Hard-maxed form of the prediction: \n",
      "\n",
      " [[0. 0. 0. 0. 0. 0. 0. 0. 1. 0.]]\n",
      "\n",
      "\n",
      "---------------------------------------\n",
      "\n",
      "\n",
      "\n",
      "\n",
      "---------------------------------------\n",
      "\n",
      "\n",
      "=========PREDICTION============ \n",
      "\n",
      "\n"
     ]
    },
    {
     "data": {
      "image/png": "[encoded data removed]",
      "text/plain": [
       "<Figure size 432x288 with 1 Axes>"
      ]
     },
     "metadata": {
      "needs_background": "light"
     },
     "output_type": "display_data"
    },
    {
     "name": "stdout",
     "output_type": "stream",
     "text": [
      "\n",
      "\n",
      "Final Output: 8\n",
      "\n",
      "Prediction (Softmax) from the neural network:\n",
      "\n",
      " [[0. 0. 0. 0. 0. 0. 0. 0. 1. 0.]]\n",
      "\n",
      "\n",
      "Hard-maxed form of the prediction: \n",
      "\n",
      " [[0. 0. 0. 0. 0. 0. 0. 0. 1. 0.]]\n",
      "\n",
      "\n",
      "---------------------------------------\n",
      "\n",
      "\n",
      "\n",
      "\n",
      "---------------------------------------\n",
      "\n",
      "\n",
      "=========PREDICTION============ \n",
      "\n",
      "\n"
     ]
    },
    {
     "data": {
      "image/png": "[encoded data removed]",
      "text/plain": [
       "<Figure size 432x288 with 1 Axes>"
      ]
     },
     "metadata": {
      "needs_background": "light"
     },
     "output_type": "display_data"
    },
    {
     "name": "stdout",
     "output_type": "stream",
     "text": [
      "\n",
      "\n",
      "Final Output: 8\n",
      "\n",
      "Prediction (Softmax) from the neural network:\n",
      "\n",
      " [[0. 0. 0. 0. 0. 0. 0. 0. 1. 0.]]\n",
      "\n",
      "\n",
      "Hard-maxed form of the prediction: \n",
      "\n",
      " [[0. 0. 0. 0. 0. 0. 0. 0. 1. 0.]]\n",
      "\n",
      "\n",
      "---------------------------------------\n",
      "\n",
      "\n",
      "\n",
      "\n",
      "---------------------------------------\n",
      "\n",
      "\n",
      "=========PREDICTION============ \n",
      "\n",
      "\n"
     ]
    },
    {
     "data": {
      "image/png": "[encoded data removed]",
      "text/plain": [
       "<Figure size 432x288 with 1 Axes>"
      ]
     },
     "metadata": {
      "needs_background": "light"
     },
     "output_type": "display_data"
    },
    {
     "name": "stdout",
     "output_type": "stream",
     "text": [
      "\n",
      "\n",
      "Final Output: 8\n",
      "\n",
      "Prediction (Softmax) from the neural network:\n",
      "\n",
      " [[0. 0. 0. 0. 0. 0. 0. 0. 1. 0.]]\n",
      "\n",
      "\n",
      "Hard-maxed form of the prediction: \n",
      "\n",
      " [[0. 0. 0. 0. 0. 0. 0. 0. 1. 0.]]\n",
      "\n",
      "\n",
      "---------------------------------------\n",
      "\n",
      "\n",
      "\n",
      "\n",
      "---------------------------------------\n",
      "\n",
      "\n",
      "=========PREDICTION============ \n",
      "\n",
      "\n"
     ]
    },
    {
     "data": {
      "image/png": "[encoded data removed]",
      "text/plain": [
       "<Figure size 432x288 with 1 Axes>"
      ]
     },
     "metadata": {
      "needs_background": "light"
     },
     "output_type": "display_data"
    },
    {
     "name": "stdout",
     "output_type": "stream",
     "text": [
      "\n",
      "\n",
      "Final Output: 8\n",
      "\n",
      "Prediction (Softmax) from the neural network:\n",
      "\n",
      " [[0. 0. 0. 0. 0. 0. 0. 0. 1. 0.]]\n",
      "\n",
      "\n",
      "Hard-maxed form of the prediction: \n",
      "\n",
      " [[0. 0. 0. 0. 0. 0. 0. 0. 1. 0.]]\n",
      "\n",
      "\n",
      "---------------------------------------\n",
      "\n",
      "\n",
      "\n",
      "\n",
      "---------------------------------------\n",
      "\n",
      "\n",
      "=========PREDICTION============ \n",
      "\n",
      "\n"
     ]
    },
    {
     "data": {
      "image/png": "[encoded data removed]",
      "text/plain": [
       "<Figure size 432x288 with 1 Axes>"
      ]
     },
     "metadata": {
      "needs_background": "light"
     },
     "output_type": "display_data"
    },
    {
     "name": "stdout",
     "output_type": "stream",
     "text": [
      "\n",
      "\n",
      "Final Output: 8\n",
      "\n",
      "Prediction (Softmax) from the neural network:\n",
      "\n",
      " [[0. 0. 0. 0. 0. 0. 0. 0. 1. 0.]]\n",
      "\n",
      "\n",
      "Hard-maxed form of the prediction: \n",
      "\n",
      " [[0. 0. 0. 0. 0. 0. 0. 0. 1. 0.]]\n",
      "\n",
      "\n",
      "---------------------------------------\n",
      "\n",
      "\n",
      "\n",
      "\n",
      "---------------------------------------\n",
      "\n",
      "\n",
      "=========PREDICTION============ \n",
      "\n",
      "\n"
     ]
    },
    {
     "data": {
      "image/png": "[encoded data removed]",
      "text/plain": [
       "<Figure size 432x288 with 1 Axes>"
      ]
     },
     "metadata": {
      "needs_background": "light"
     },
     "output_type": "display_data"
    },
    {
     "name": "stdout",
     "output_type": "stream",
     "text": [
      "\n",
      "\n",
      "Final Output: 8\n",
      "\n",
      "Prediction (Softmax) from the neural network:\n",
      "\n",
      " [[0. 0. 0. 0. 0. 0. 0. 0. 1. 0.]]\n",
      "\n",
      "\n",
      "Hard-maxed form of the prediction: \n",
      "\n",
      " [[0. 0. 0. 0. 0. 0. 0. 0. 1. 0.]]\n",
      "\n",
      "\n",
      "---------------------------------------\n",
      "\n",
      "\n",
      "\n",
      "\n",
      "---------------------------------------\n",
      "\n",
      "\n",
      "=========PREDICTION============ \n",
      "\n",
      "\n"
     ]
    },
    {
     "data": {
      "image/png": "[encoded data removed]",
      "text/plain": [
       "<Figure size 432x288 with 1 Axes>"
      ]
     },
     "metadata": {
      "needs_background": "light"
     },
     "output_type": "display_data"
    },
    {
     "name": "stdout",
     "output_type": "stream",
     "text": [
      "\n",
      "\n",
      "Final Output: 8\n",
      "\n",
      "Prediction (Softmax) from the neural network:\n",
      "\n",
      " [[0. 0. 0. 0. 0. 0. 0. 0. 1. 0.]]\n",
      "\n",
      "\n",
      "Hard-maxed form of the prediction: \n",
      "\n",
      " [[0. 0. 0. 0. 0. 0. 0. 0. 1. 0.]]\n",
      "\n",
      "\n",
      "---------------------------------------\n",
      "\n",
      "\n",
      "\n",
      "\n",
      "---------------------------------------\n",
      "\n",
      "\n",
      "=========PREDICTION============ \n",
      "\n",
      "\n"
     ]
    },
    {
     "data": {
      "image/png": "[encoded data removed]",
      "text/plain": [
       "<Figure size 432x288 with 1 Axes>"
      ]
     },
     "metadata": {
      "needs_background": "light"
     },
     "output_type": "display_data"
    },
    {
     "name": "stdout",
     "output_type": "stream",
     "text": [
      "\n",
      "\n",
      "Final Output: 8\n",
      "\n",
      "Prediction (Softmax) from the neural network:\n",
      "\n",
      " [[0. 0. 0. 0. 0. 0. 0. 0. 1. 0.]]\n",
      "\n",
      "\n",
      "Hard-maxed form of the prediction: \n",
      "\n",
      " [[0. 0. 0. 0. 0. 0. 0. 0. 1. 0.]]\n",
      "\n",
      "\n",
      "---------------------------------------\n",
      "\n",
      "\n",
      "\n",
      "\n",
      "---------------------------------------\n",
      "\n",
      "\n",
      "=========PREDICTION============ \n",
      "\n",
      "\n"
     ]
    },
    {
     "data": {
      "image/png": "[encoded data removed]",
      "text/plain": [
       "<Figure size 432x288 with 1 Axes>"
      ]
     },
     "metadata": {
      "needs_background": "light"
     },
     "output_type": "display_data"
    },
    {
     "name": "stdout",
     "output_type": "stream",
     "text": [
      "\n",
      "\n",
      "Final Output: 8\n",
      "\n",
      "Prediction (Softmax) from the neural network:\n",
      "\n",
      " [[0. 0. 0. 0. 0. 0. 0. 0. 1. 0.]]\n",
      "\n",
      "\n",
      "Hard-maxed form of the prediction: \n",
      "\n",
      " [[0. 0. 0. 0. 0. 0. 0. 0. 1. 0.]]\n",
      "\n",
      "\n",
      "---------------------------------------\n",
      "\n",
      "\n",
      "\n",
      "\n",
      "---------------------------------------\n",
      "\n",
      "\n",
      "=========PREDICTION============ \n",
      "\n",
      "\n"
     ]
    },
    {
     "data": {
      "image/png": "[encoded data removed]",
      "text/plain": [
       "<Figure size 432x288 with 1 Axes>"
      ]
     },
     "metadata": {
      "needs_background": "light"
     },
     "output_type": "display_data"
    },
    {
     "name": "stdout",
     "output_type": "stream",
     "text": [
      "\n",
      "\n",
      "Final Output: 8\n",
      "\n",
      "Prediction (Softmax) from the neural network:\n",
      "\n",
      " [[0. 0. 0. 0. 0. 0. 0. 0. 1. 0.]]\n",
      "\n",
      "\n",
      "Hard-maxed form of the prediction: \n",
      "\n",
      " [[0. 0. 0. 0. 0. 0. 0. 0. 1. 0.]]\n",
      "\n",
      "\n",
      "---------------------------------------\n",
      "\n",
      "\n",
      "\n",
      "\n",
      "---------------------------------------\n",
      "\n",
      "\n",
      "=========PREDICTION============ \n",
      "\n",
      "\n"
     ]
    },
    {
     "data": {
      "image/png": "[encoded data removed]",
      "text/plain": [
       "<Figure size 432x288 with 1 Axes>"
      ]
     },
     "metadata": {
      "needs_background": "light"
     },
     "output_type": "display_data"
    },
    {
     "name": "stdout",
     "output_type": "stream",
     "text": [
      "\n",
      "\n",
      "Final Output: 8\n",
      "\n",
      "Prediction (Softmax) from the neural network:\n",
      "\n",
      " [[0. 0. 0. 0. 0. 0. 0. 0. 1. 0.]]\n",
      "\n",
      "\n",
      "Hard-maxed form of the prediction: \n",
      "\n",
      " [[0. 0. 0. 0. 0. 0. 0. 0. 1. 0.]]\n",
      "\n",
      "\n",
      "---------------------------------------\n",
      "\n",
      "\n",
      "\n",
      "\n",
      "---------------------------------------\n",
      "\n",
      "\n",
      "=========PREDICTION============ \n",
      "\n",
      "\n"
     ]
    },
    {
     "data": {
      "image/png": "[encoded data removed]",
      "text/plain": [
       "<Figure size 432x288 with 1 Axes>"
      ]
     },
     "metadata": {
      "needs_background": "light"
     },
     "output_type": "display_data"
    },
    {
     "name": "stdout",
     "output_type": "stream",
     "text": [
      "\n",
      "\n",
      "Final Output: 8\n",
      "\n",
      "Prediction (Softmax) from the neural network:\n",
      "\n",
      " [[0. 0. 0. 0. 0. 0. 0. 0. 1. 0.]]\n",
      "\n",
      "\n",
      "Hard-maxed form of the prediction: \n",
      "\n",
      " [[0. 0. 0. 0. 0. 0. 0. 0. 1. 0.]]\n",
      "\n",
      "\n",
      "---------------------------------------\n",
      "\n",
      "\n",
      "\n",
      "\n",
      "---------------------------------------\n",
      "\n",
      "\n",
      "=========PREDICTION============ \n",
      "\n",
      "\n"
     ]
    },
    {
     "data": {
      "image/png": "[encoded data removed]",
      "text/plain": [
       "<Figure size 432x288 with 1 Axes>"
      ]
     },
     "metadata": {
      "needs_background": "light"
     },
     "output_type": "display_data"
    },
    {
     "name": "stdout",
     "output_type": "stream",
     "text": [
      "\n",
      "\n",
      "Final Output: 8\n",
      "\n",
      "Prediction (Softmax) from the neural network:\n",
      "\n",
      " [[0. 0. 0. 0. 0. 0. 0. 0. 1. 0.]]\n",
      "\n",
      "\n",
      "Hard-maxed form of the prediction: \n",
      "\n",
      " [[0. 0. 0. 0. 0. 0. 0. 0. 1. 0.]]\n",
      "\n",
      "\n",
      "---------------------------------------\n",
      "\n",
      "\n",
      "\n",
      "\n",
      "---------------------------------------\n",
      "\n",
      "\n",
      "=========PREDICTION============ \n",
      "\n",
      "\n"
     ]
    },
    {
     "data": {
      "image/png": "[encoded data removed]",
      "text/plain": [
       "<Figure size 432x288 with 1 Axes>"
      ]
     },
     "metadata": {
      "needs_background": "light"
     },
     "output_type": "display_data"
    },
    {
     "name": "stdout",
     "output_type": "stream",
     "text": [
      "\n",
      "\n",
      "Final Output: 8\n",
      "\n",
      "Prediction (Softmax) from the neural network:\n",
      "\n",
      " [[0. 0. 0. 0. 0. 0. 0. 0. 1. 0.]]\n",
      "\n",
      "\n",
      "Hard-maxed form of the prediction: \n",
      "\n",
      " [[0. 0. 0. 0. 0. 0. 0. 0. 1. 0.]]\n",
      "\n",
      "\n",
      "---------------------------------------\n",
      "\n",
      "\n",
      "\n",
      "\n",
      "---------------------------------------\n",
      "\n",
      "\n",
      "=========PREDICTION============ \n",
      "\n",
      "\n"
     ]
    },
    {
     "data": {
      "image/png": "[encoded data removed]",
      "text/plain": [
       "<Figure size 432x288 with 1 Axes>"
      ]
     },
     "metadata": {
      "needs_background": "light"
     },
     "output_type": "display_data"
    },
    {
     "name": "stdout",
     "output_type": "stream",
     "text": [
      "\n",
      "\n",
      "Final Output: 8\n",
      "\n",
      "Prediction (Softmax) from the neural network:\n",
      "\n",
      " [[0. 0. 0. 0. 0. 0. 0. 0. 1. 0.]]\n",
      "\n",
      "\n",
      "Hard-maxed form of the prediction: \n",
      "\n",
      " [[0. 0. 0. 0. 0. 0. 0. 0. 1. 0.]]\n",
      "\n",
      "\n",
      "---------------------------------------\n",
      "\n",
      "\n",
      "\n",
      "\n",
      "---------------------------------------\n",
      "\n",
      "\n",
      "=========PREDICTION============ \n",
      "\n",
      "\n"
     ]
    },
    {
     "data": {
      "image/png": "[encoded data removed]",
      "text/plain": [
       "<Figure size 432x288 with 1 Axes>"
      ]
     },
     "metadata": {
      "needs_background": "light"
     },
     "output_type": "display_data"
    },
    {
     "name": "stdout",
     "output_type": "stream",
     "text": [
      "\n",
      "\n",
      "Final Output: 8\n",
      "\n",
      "Prediction (Softmax) from the neural network:\n",
      "\n",
      " [[0. 0. 0. 0. 0. 0. 0. 0. 1. 0.]]\n",
      "\n",
      "\n",
      "Hard-maxed form of the prediction: \n",
      "\n",
      " [[0. 0. 0. 0. 0. 0. 0. 0. 1. 0.]]\n",
      "\n",
      "\n",
      "---------------------------------------\n",
      "\n",
      "\n",
      "\n",
      "\n",
      "---------------------------------------\n",
      "\n",
      "\n",
      "=========PREDICTION============ \n",
      "\n",
      "\n"
     ]
    },
    {
     "data": {
      "image/png": "[encoded data removed]",
      "text/plain": [
       "<Figure size 432x288 with 1 Axes>"
      ]
     },
     "metadata": {
      "needs_background": "light"
     },
     "output_type": "display_data"
    },
    {
     "name": "stdout",
     "output_type": "stream",
     "text": [
      "\n",
      "\n",
      "Final Output: 8\n",
      "\n",
      "Prediction (Softmax) from the neural network:\n",
      "\n",
      " [[0. 0. 0. 0. 0. 0. 0. 0. 1. 0.]]\n",
      "\n",
      "\n",
      "Hard-maxed form of the prediction: \n",
      "\n",
      " [[0. 0. 0. 0. 0. 0. 0. 0. 1. 0.]]\n",
      "\n",
      "\n",
      "---------------------------------------\n",
      "\n",
      "\n",
      "\n",
      "\n",
      "---------------------------------------\n",
      "\n",
      "\n",
      "=========PREDICTION============ \n",
      "\n",
      "\n"
     ]
    },
    {
     "data": {
      "image/png": "[encoded data removed]",
      "text/plain": [
       "<Figure size 432x288 with 1 Axes>"
      ]
     },
     "metadata": {
      "needs_background": "light"
     },
     "output_type": "display_data"
    },
    {
     "name": "stdout",
     "output_type": "stream",
     "text": [
      "\n",
      "\n",
      "Final Output: 8\n",
      "\n",
      "Prediction (Softmax) from the neural network:\n",
      "\n",
      " [[0. 0. 0. 0. 0. 0. 0. 0. 1. 0.]]\n",
      "\n",
      "\n",
      "Hard-maxed form of the prediction: \n",
      "\n",
      " [[0. 0. 0. 0. 0. 0. 0. 0. 1. 0.]]\n",
      "\n",
      "\n",
      "---------------------------------------\n",
      "\n",
      "\n",
      "\n",
      "\n",
      "---------------------------------------\n",
      "\n",
      "\n",
      "=========PREDICTION============ \n",
      "\n",
      "\n"
     ]
    },
    {
     "data": {
      "image/png": "[encoded data removed]",
      "text/plain": [
       "<Figure size 432x288 with 1 Axes>"
      ]
     },
     "metadata": {
      "needs_background": "light"
     },
     "output_type": "display_data"
    },
    {
     "name": "stdout",
     "output_type": "stream",
     "text": [
      "\n",
      "\n",
      "Final Output: 8\n",
      "\n",
      "Prediction (Softmax) from the neural network:\n",
      "\n",
      " [[0. 0. 0. 0. 0. 0. 0. 0. 1. 0.]]\n",
      "\n",
      "\n",
      "Hard-maxed form of the prediction: \n",
      "\n",
      " [[0. 0. 0. 0. 0. 0. 0. 0. 1. 0.]]\n",
      "\n",
      "\n",
      "---------------------------------------\n",
      "\n",
      "\n",
      "\n",
      "\n",
      "---------------------------------------\n",
      "\n",
      "\n",
      "=========PREDICTION============ \n",
      "\n",
      "\n"
     ]
    },
    {
     "data": {
      "image/png": "[encoded data removed]",
      "text/plain": [
       "<Figure size 432x288 with 1 Axes>"
      ]
     },
     "metadata": {
      "needs_background": "light"
     },
     "output_type": "display_data"
    },
    {
     "name": "stdout",
     "output_type": "stream",
     "text": [
      "\n",
      "\n",
      "Final Output: 8\n",
      "\n",
      "Prediction (Softmax) from the neural network:\n",
      "\n",
      " [[0. 0. 0. 0. 0. 0. 0. 0. 1. 0.]]\n",
      "\n",
      "\n",
      "Hard-maxed form of the prediction: \n",
      "\n",
      " [[0. 0. 0. 0. 0. 0. 0. 0. 1. 0.]]\n",
      "\n",
      "\n",
      "---------------------------------------\n",
      "\n",
      "\n",
      "\n",
      "\n",
      "---------------------------------------\n",
      "\n",
      "\n",
      "=========PREDICTION============ \n",
      "\n",
      "\n"
     ]
    },
    {
     "data": {
      "image/png": "[encoded data removed]",
      "text/plain": [
       "<Figure size 432x288 with 1 Axes>"
      ]
     },
     "metadata": {
      "needs_background": "light"
     },
     "output_type": "display_data"
    },
    {
     "name": "stdout",
     "output_type": "stream",
     "text": [
      "\n",
      "\n",
      "Final Output: 8\n",
      "\n",
      "Prediction (Softmax) from the neural network:\n",
      "\n",
      " [[0. 0. 0. 0. 0. 0. 0. 0. 1. 0.]]\n",
      "\n",
      "\n",
      "Hard-maxed form of the prediction: \n",
      "\n",
      " [[0. 0. 0. 0. 0. 0. 0. 0. 1. 0.]]\n",
      "\n",
      "\n",
      "---------------------------------------\n",
      "\n",
      "\n",
      "\n",
      "\n",
      "---------------------------------------\n",
      "\n",
      "\n",
      "=========PREDICTION============ \n",
      "\n",
      "\n"
     ]
    },
    {
     "data": {
      "image/png": "[encoded data removed]",
      "text/plain": [
       "<Figure size 432x288 with 1 Axes>"
      ]
     },
     "metadata": {
      "needs_background": "light"
     },
     "output_type": "display_data"
    },
    {
     "name": "stdout",
     "output_type": "stream",
     "text": [
      "\n",
      "\n",
      "Final Output: 8\n",
      "\n",
      "Prediction (Softmax) from the neural network:\n",
      "\n",
      " [[0. 0. 0. 0. 0. 0. 0. 0. 1. 0.]]\n",
      "\n",
      "\n",
      "Hard-maxed form of the prediction: \n",
      "\n",
      " [[0. 0. 0. 0. 0. 0. 0. 0. 1. 0.]]\n",
      "\n",
      "\n",
      "---------------------------------------\n",
      "\n",
      "\n",
      "\n",
      "\n",
      "---------------------------------------\n",
      "\n",
      "\n",
      "=========PREDICTION============ \n",
      "\n",
      "\n"
     ]
    },
    {
     "data": {
      "image/png": "[encoded data removed]",
      "text/plain": [
       "<Figure size 432x288 with 1 Axes>"
      ]
     },
     "metadata": {
      "needs_background": "light"
     },
     "output_type": "display_data"
    },
    {
     "name": "stdout",
     "output_type": "stream",
     "text": [
      "\n",
      "\n",
      "Final Output: 8\n",
      "\n",
      "Prediction (Softmax) from the neural network:\n",
      "\n",
      " [[0. 0. 0. 0. 0. 0. 0. 0. 1. 0.]]\n",
      "\n",
      "\n",
      "Hard-maxed form of the prediction: \n",
      "\n",
      " [[0. 0. 0. 0. 0. 0. 0. 0. 1. 0.]]\n",
      "\n",
      "\n",
      "---------------------------------------\n",
      "\n",
      "\n",
      "\n",
      "\n",
      "---------------------------------------\n",
      "\n",
      "\n",
      "=========PREDICTION============ \n",
      "\n",
      "\n"
     ]
    },
    {
     "data": {
      "image/png": "[encoded data removed]",
      "text/plain": [
       "<Figure size 432x288 with 1 Axes>"
      ]
     },
     "metadata": {
      "needs_background": "light"
     },
     "output_type": "display_data"
    },
    {
     "name": "stdout",
     "output_type": "stream",
     "text": [
      "\n",
      "\n",
      "Final Output: 8\n",
      "\n",
      "Prediction (Softmax) from the neural network:\n",
      "\n",
      " [[0. 0. 0. 0. 0. 0. 0. 0. 1. 0.]]\n",
      "\n",
      "\n",
      "Hard-maxed form of the prediction: \n",
      "\n",
      " [[0. 0. 0. 0. 0. 0. 0. 0. 1. 0.]]\n",
      "\n",
      "\n",
      "---------------------------------------\n",
      "\n",
      "\n",
      "\n",
      "\n",
      "---------------------------------------\n",
      "\n",
      "\n",
      "=========PREDICTION============ \n",
      "\n",
      "\n"
     ]
    },
    {
     "data": {
      "image/png": "[encoded data removed]",
      "text/plain": [
       "<Figure size 432x288 with 1 Axes>"
      ]
     },
     "metadata": {
      "needs_background": "light"
     },
     "output_type": "display_data"
    },
    {
     "name": "stdout",
     "output_type": "stream",
     "text": [
      "\n",
      "\n",
      "Final Output: 8\n",
      "\n",
      "Prediction (Softmax) from the neural network:\n",
      "\n",
      " [[0. 0. 0. 0. 0. 0. 0. 0. 1. 0.]]\n",
      "\n",
      "\n",
      "Hard-maxed form of the prediction: \n",
      "\n",
      " [[0. 0. 0. 0. 0. 0. 0. 0. 1. 0.]]\n",
      "\n",
      "\n",
      "---------------------------------------\n",
      "\n",
      "\n",
      "\n",
      "\n",
      "---------------------------------------\n",
      "\n",
      "\n",
      "=========PREDICTION============ \n",
      "\n",
      "\n"
     ]
    },
    {
     "data": {
      "image/png": "[encoded data removed]",
      "text/plain": [
       "<Figure size 432x288 with 1 Axes>"
      ]
     },
     "metadata": {
      "needs_background": "light"
     },
     "output_type": "display_data"
    },
    {
     "name": "stdout",
     "output_type": "stream",
     "text": [
      "\n",
      "\n",
      "Final Output: 8\n",
      "\n",
      "Prediction (Softmax) from the neural network:\n",
      "\n",
      " [[0. 0. 0. 0. 0. 0. 0. 0. 1. 0.]]\n",
      "\n",
      "\n",
      "Hard-maxed form of the prediction: \n",
      "\n",
      " [[0. 0. 0. 0. 0. 0. 0. 0. 1. 0.]]\n",
      "\n",
      "\n",
      "---------------------------------------\n",
      "\n",
      "\n",
      "\n",
      "\n",
      "---------------------------------------\n",
      "\n",
      "\n",
      "=========PREDICTION============ \n",
      "\n",
      "\n"
     ]
    },
    {
     "data": {
      "image/png": "[encoded data removed]",
      "text/plain": [
       "<Figure size 432x288 with 1 Axes>"
      ]
     },
     "metadata": {
      "needs_background": "light"
     },
     "output_type": "display_data"
    },
    {
     "name": "stdout",
     "output_type": "stream",
     "text": [
      "\n",
      "\n",
      "Final Output: 8\n",
      "\n",
      "Prediction (Softmax) from the neural network:\n",
      "\n",
      " [[0. 0. 0. 0. 0. 0. 0. 0. 1. 0.]]\n",
      "\n",
      "\n",
      "Hard-maxed form of the prediction: \n",
      "\n",
      " [[0. 0. 0. 0. 0. 0. 0. 0. 1. 0.]]\n",
      "\n",
      "\n",
      "---------------------------------------\n",
      "\n",
      "\n",
      "\n",
      "\n",
      "---------------------------------------\n",
      "\n",
      "\n",
      "=========PREDICTION============ \n",
      "\n",
      "\n"
     ]
    },
    {
     "data": {
      "image/png": "[encoded data removed]",
      "text/plain": [
       "<Figure size 432x288 with 1 Axes>"
      ]
     },
     "metadata": {
      "needs_background": "light"
     },
     "output_type": "display_data"
    },
    {
     "name": "stdout",
     "output_type": "stream",
     "text": [
      "\n",
      "\n",
      "Final Output: 8\n",
      "\n",
      "Prediction (Softmax) from the neural network:\n",
      "\n",
      " [[0. 0. 0. 0. 0. 0. 0. 0. 1. 0.]]\n",
      "\n",
      "\n",
      "Hard-maxed form of the prediction: \n",
      "\n",
      " [[0. 0. 0. 0. 0. 0. 0. 0. 1. 0.]]\n",
      "\n",
      "\n",
      "---------------------------------------\n",
      "\n",
      "\n",
      "\n",
      "\n",
      "---------------------------------------\n",
      "\n",
      "\n",
      "=========PREDICTION============ \n",
      "\n",
      "\n"
     ]
    },
    {
     "data": {
      "image/png": "[encoded data removed]",
      "text/plain": [
       "<Figure size 432x288 with 1 Axes>"
      ]
     },
     "metadata": {
      "needs_background": "light"
     },
     "output_type": "display_data"
    },
    {
     "name": "stdout",
     "output_type": "stream",
     "text": [
      "\n",
      "\n",
      "Final Output: 8\n",
      "\n",
      "Prediction (Softmax) from the neural network:\n",
      "\n",
      " [[0. 0. 0. 0. 0. 0. 0. 0. 1. 0.]]\n",
      "\n",
      "\n",
      "Hard-maxed form of the prediction: \n",
      "\n",
      " [[0. 0. 0. 0. 0. 0. 0. 0. 1. 0.]]\n",
      "\n",
      "\n",
      "---------------------------------------\n",
      "\n",
      "\n",
      "\n",
      "\n",
      "---------------------------------------\n",
      "\n",
      "\n",
      "=========PREDICTION============ \n",
      "\n",
      "\n"
     ]
    },
    {
     "data": {
      "image/png": "[encoded data removed]",
      "text/plain": [
       "<Figure size 432x288 with 1 Axes>"
      ]
     },
     "metadata": {
      "needs_background": "light"
     },
     "output_type": "display_data"
    },
    {
     "name": "stdout",
     "output_type": "stream",
     "text": [
      "\n",
      "\n",
      "Final Output: 8\n",
      "\n",
      "Prediction (Softmax) from the neural network:\n",
      "\n",
      " [[0. 0. 0. 0. 0. 0. 0. 0. 1. 0.]]\n",
      "\n",
      "\n",
      "Hard-maxed form of the prediction: \n",
      "\n",
      " [[0. 0. 0. 0. 0. 0. 0. 0. 1. 0.]]\n",
      "\n",
      "\n",
      "---------------------------------------\n",
      "\n",
      "\n",
      "\n",
      "\n",
      "---------------------------------------\n",
      "\n",
      "\n",
      "=========PREDICTION============ \n",
      "\n",
      "\n"
     ]
    },
    {
     "data": {
      "image/png": "[encoded data removed]",
      "text/plain": [
       "<Figure size 432x288 with 1 Axes>"
      ]
     },
     "metadata": {
      "needs_background": "light"
     },
     "output_type": "display_data"
    },
    {
     "name": "stdout",
     "output_type": "stream",
     "text": [
      "\n",
      "\n",
      "Final Output: 8\n",
      "\n",
      "Prediction (Softmax) from the neural network:\n",
      "\n",
      " [[0. 0. 0. 0. 0. 0. 0. 0. 1. 0.]]\n",
      "\n",
      "\n",
      "Hard-maxed form of the prediction: \n",
      "\n",
      " [[0. 0. 0. 0. 0. 0. 0. 0. 1. 0.]]\n",
      "\n",
      "\n",
      "---------------------------------------\n",
      "\n",
      "\n",
      "\n",
      "\n",
      "---------------------------------------\n",
      "\n",
      "\n",
      "=========PREDICTION============ \n",
      "\n",
      "\n"
     ]
    },
    {
     "data": {
      "image/png": "[encoded data removed]",
      "text/plain": [
       "<Figure size 432x288 with 1 Axes>"
      ]
     },
     "metadata": {
      "needs_background": "light"
     },
     "output_type": "display_data"
    },
    {
     "name": "stdout",
     "output_type": "stream",
     "text": [
      "\n",
      "\n",
      "Final Output: 8\n",
      "\n",
      "Prediction (Softmax) from the neural network:\n",
      "\n",
      " [[0. 0. 0. 0. 0. 0. 0. 0. 1. 0.]]\n",
      "\n",
      "\n",
      "Hard-maxed form of the prediction: \n",
      "\n",
      " [[0. 0. 0. 0. 0. 0. 0. 0. 1. 0.]]\n",
      "\n",
      "\n",
      "---------------------------------------\n",
      "\n",
      "\n",
      "\n",
      "\n",
      "---------------------------------------\n",
      "\n",
      "\n",
      "=========PREDICTION============ \n",
      "\n",
      "\n"
     ]
    },
    {
     "data": {
      "image/png": "[encoded data removed]",
      "text/plain": [
       "<Figure size 432x288 with 1 Axes>"
      ]
     },
     "metadata": {
      "needs_background": "light"
     },
     "output_type": "display_data"
    },
    {
     "name": "stdout",
     "output_type": "stream",
     "text": [
      "\n",
      "\n",
      "Final Output: 8\n",
      "\n",
      "Prediction (Softmax) from the neural network:\n",
      "\n",
      " [[0. 0. 0. 0. 0. 0. 0. 0. 1. 0.]]\n",
      "\n",
      "\n",
      "Hard-maxed form of the prediction: \n",
      "\n",
      " [[0. 0. 0. 0. 0. 0. 0. 0. 1. 0.]]\n",
      "\n",
      "\n",
      "---------------------------------------\n",
      "\n",
      "\n",
      "\n",
      "\n",
      "---------------------------------------\n",
      "\n",
      "\n",
      "=========PREDICTION============ \n",
      "\n",
      "\n"
     ]
    },
    {
     "data": {
      "image/png": "[encoded data removed]",
      "text/plain": [
       "<Figure size 432x288 with 1 Axes>"
      ]
     },
     "metadata": {
      "needs_background": "light"
     },
     "output_type": "display_data"
    },
    {
     "name": "stdout",
     "output_type": "stream",
     "text": [
      "\n",
      "\n",
      "Final Output: 8\n",
      "\n",
      "Prediction (Softmax) from the neural network:\n",
      "\n",
      " [[0. 0. 0. 0. 0. 0. 0. 0. 1. 0.]]\n",
      "\n",
      "\n",
      "Hard-maxed form of the prediction: \n",
      "\n",
      " [[0. 0. 0. 0. 0. 0. 0. 0. 1. 0.]]\n",
      "\n",
      "\n",
      "---------------------------------------\n",
      "\n",
      "\n",
      "\n",
      "\n",
      "---------------------------------------\n",
      "\n",
      "\n",
      "=========PREDICTION============ \n",
      "\n",
      "\n"
     ]
    },
    {
     "data": {
      "image/png": "[encoded data removed]",
      "text/plain": [
       "<Figure size 432x288 with 1 Axes>"
      ]
     },
     "metadata": {
      "needs_background": "light"
     },
     "output_type": "display_data"
    },
    {
     "name": "stdout",
     "output_type": "stream",
     "text": [
      "\n",
      "\n",
      "Final Output: 8\n",
      "\n",
      "Prediction (Softmax) from the neural network:\n",
      "\n",
      " [[0. 0. 0. 0. 0. 0. 0. 0. 1. 0.]]\n",
      "\n",
      "\n",
      "Hard-maxed form of the prediction: \n",
      "\n",
      " [[0. 0. 0. 0. 0. 0. 0. 0. 1. 0.]]\n",
      "\n",
      "\n",
      "---------------------------------------\n",
      "\n",
      "\n",
      "\n",
      "\n",
      "---------------------------------------\n",
      "\n",
      "\n",
      "=========PREDICTION============ \n",
      "\n",
      "\n"
     ]
    },
    {
     "data": {
      "image/png": "[encoded data removed]",
      "text/plain": [
       "<Figure size 432x288 with 1 Axes>"
      ]
     },
     "metadata": {
      "needs_background": "light"
     },
     "output_type": "display_data"
    },
    {
     "name": "stdout",
     "output_type": "stream",
     "text": [
      "\n",
      "\n",
      "Final Output: 8\n",
      "\n",
      "Prediction (Softmax) from the neural network:\n",
      "\n",
      " [[0. 0. 0. 0. 0. 0. 0. 0. 1. 0.]]\n",
      "\n",
      "\n",
      "Hard-maxed form of the prediction: \n",
      "\n",
      " [[0. 0. 0. 0. 0. 0. 0. 0. 1. 0.]]\n",
      "\n",
      "\n",
      "---------------------------------------\n",
      "\n",
      "\n",
      "\n",
      "\n",
      "---------------------------------------\n",
      "\n",
      "\n",
      "=========PREDICTION============ \n",
      "\n",
      "\n"
     ]
    },
    {
     "data": {
      "image/png": "[encoded data removed]",
      "text/plain": [
       "<Figure size 432x288 with 1 Axes>"
      ]
     },
     "metadata": {
      "needs_background": "light"
     },
     "output_type": "display_data"
    },
    {
     "name": "stdout",
     "output_type": "stream",
     "text": [
      "\n",
      "\n",
      "Final Output: 8\n",
      "\n",
      "Prediction (Softmax) from the neural network:\n",
      "\n",
      " [[0. 0. 0. 0. 0. 0. 0. 0. 1. 0.]]\n",
      "\n",
      "\n",
      "Hard-maxed form of the prediction: \n",
      "\n",
      " [[0. 0. 0. 0. 0. 0. 0. 0. 1. 0.]]\n",
      "\n",
      "\n",
      "---------------------------------------\n",
      "\n",
      "\n",
      "\n",
      "\n",
      "---------------------------------------\n",
      "\n",
      "\n",
      "=========PREDICTION============ \n",
      "\n",
      "\n"
     ]
    },
    {
     "data": {
      "image/png": "[encoded data removed]",
      "text/plain": [
       "<Figure size 432x288 with 1 Axes>"
      ]
     },
     "metadata": {
      "needs_background": "light"
     },
     "output_type": "display_data"
    },
    {
     "name": "stdout",
     "output_type": "stream",
     "text": [
      "\n",
      "\n",
      "Final Output: 8\n",
      "\n",
      "Prediction (Softmax) from the neural network:\n",
      "\n",
      " [[0. 0. 0. 0. 0. 0. 0. 0. 1. 0.]]\n",
      "\n",
      "\n",
      "Hard-maxed form of the prediction: \n",
      "\n",
      " [[0. 0. 0. 0. 0. 0. 0. 0. 1. 0.]]\n",
      "\n",
      "\n",
      "---------------------------------------\n",
      "\n",
      "\n",
      "\n",
      "\n",
      "---------------------------------------\n",
      "\n",
      "\n",
      "=========PREDICTION============ \n",
      "\n",
      "\n"
     ]
    },
    {
     "data": {
      "image/png": "[encoded data removed]",
      "text/plain": [
       "<Figure size 432x288 with 1 Axes>"
      ]
     },
     "metadata": {
      "needs_background": "light"
     },
     "output_type": "display_data"
    },
    {
     "name": "stdout",
     "output_type": "stream",
     "text": [
      "\n",
      "\n",
      "Final Output: 8\n",
      "\n",
      "Prediction (Softmax) from the neural network:\n",
      "\n",
      " [[0. 0. 0. 0. 0. 0. 0. 0. 1. 0.]]\n",
      "\n",
      "\n",
      "Hard-maxed form of the prediction: \n",
      "\n",
      " [[0. 0. 0. 0. 0. 0. 0. 0. 1. 0.]]\n",
      "\n",
      "\n",
      "---------------------------------------\n",
      "\n",
      "\n",
      "\n",
      "\n",
      "---------------------------------------\n",
      "\n",
      "\n",
      "=========PREDICTION============ \n",
      "\n",
      "\n"
     ]
    },
    {
     "data": {
      "image/png": "[encoded data removed]",
      "text/plain": [
       "<Figure size 432x288 with 1 Axes>"
      ]
     },
     "metadata": {
      "needs_background": "light"
     },
     "output_type": "display_data"
    },
    {
     "name": "stdout",
     "output_type": "stream",
     "text": [
      "\n",
      "\n",
      "Final Output: 8\n",
      "\n",
      "Prediction (Softmax) from the neural network:\n",
      "\n",
      " [[0. 0. 0. 0. 0. 0. 0. 0. 1. 0.]]\n",
      "\n",
      "\n",
      "Hard-maxed form of the prediction: \n",
      "\n",
      " [[0. 0. 0. 0. 0. 0. 0. 0. 1. 0.]]\n",
      "\n",
      "\n",
      "---------------------------------------\n",
      "\n",
      "\n",
      "\n",
      "\n",
      "---------------------------------------\n",
      "\n",
      "\n",
      "=========PREDICTION============ \n",
      "\n",
      "\n"
     ]
    },
    {
     "data": {
      "image/png": "[encoded data removed]",
      "text/plain": [
       "<Figure size 432x288 with 1 Axes>"
      ]
     },
     "metadata": {
      "needs_background": "light"
     },
     "output_type": "display_data"
    },
    {
     "name": "stdout",
     "output_type": "stream",
     "text": [
      "\n",
      "\n",
      "Final Output: 8\n",
      "\n",
      "Prediction (Softmax) from the neural network:\n",
      "\n",
      " [[0. 0. 0. 0. 0. 0. 0. 0. 1. 0.]]\n",
      "\n",
      "\n",
      "Hard-maxed form of the prediction: \n",
      "\n",
      " [[0. 0. 0. 0. 0. 0. 0. 0. 1. 0.]]\n",
      "\n",
      "\n",
      "---------------------------------------\n",
      "\n",
      "\n",
      "\n",
      "\n",
      "---------------------------------------\n",
      "\n",
      "\n",
      "=========PREDICTION============ \n",
      "\n",
      "\n"
     ]
    },
    {
     "data": {
      "image/png": "[encoded data removed]",
      "text/plain": [
       "<Figure size 432x288 with 1 Axes>"
      ]
     },
     "metadata": {
      "needs_background": "light"
     },
     "output_type": "display_data"
    },
    {
     "name": "stdout",
     "output_type": "stream",
     "text": [
      "\n",
      "\n",
      "Final Output: 8\n",
      "\n",
      "Prediction (Softmax) from the neural network:\n",
      "\n",
      " [[0. 0. 0. 0. 0. 0. 0. 0. 1. 0.]]\n",
      "\n",
      "\n",
      "Hard-maxed form of the prediction: \n",
      "\n",
      " [[0. 0. 0. 0. 0. 0. 0. 0. 1. 0.]]\n",
      "\n",
      "\n",
      "---------------------------------------\n",
      "\n",
      "\n",
      "\n",
      "\n",
      "---------------------------------------\n",
      "\n",
      "\n",
      "=========PREDICTION============ \n",
      "\n",
      "\n"
     ]
    },
    {
     "data": {
      "image/png": "[encoded data removed]",
      "text/plain": [
       "<Figure size 432x288 with 1 Axes>"
      ]
     },
     "metadata": {
      "needs_background": "light"
     },
     "output_type": "display_data"
    },
    {
     "name": "stdout",
     "output_type": "stream",
     "text": [
      "\n",
      "\n",
      "Final Output: 8\n",
      "\n",
      "Prediction (Softmax) from the neural network:\n",
      "\n",
      " [[0. 0. 0. 0. 0. 0. 0. 0. 1. 0.]]\n",
      "\n",
      "\n",
      "Hard-maxed form of the prediction: \n",
      "\n",
      " [[0. 0. 0. 0. 0. 0. 0. 0. 1. 0.]]\n",
      "\n",
      "\n",
      "---------------------------------------\n",
      "\n",
      "\n",
      "\n",
      "\n",
      "---------------------------------------\n",
      "\n",
      "\n",
      "=========PREDICTION============ \n",
      "\n",
      "\n"
     ]
    },
    {
     "data": {
      "image/png": "[encoded data removed]",
      "text/plain": [
       "<Figure size 432x288 with 1 Axes>"
      ]
     },
     "metadata": {
      "needs_background": "light"
     },
     "output_type": "display_data"
    },
    {
     "name": "stdout",
     "output_type": "stream",
     "text": [
      "\n",
      "\n",
      "Final Output: 8\n",
      "\n",
      "Prediction (Softmax) from the neural network:\n",
      "\n",
      " [[0. 0. 0. 0. 0. 0. 0. 0. 1. 0.]]\n",
      "\n",
      "\n",
      "Hard-maxed form of the prediction: \n",
      "\n",
      " [[0. 0. 0. 0. 0. 0. 0. 0. 1. 0.]]\n",
      "\n",
      "\n",
      "---------------------------------------\n",
      "\n",
      "\n",
      "\n",
      "\n",
      "---------------------------------------\n",
      "\n",
      "\n",
      "=========PREDICTION============ \n",
      "\n",
      "\n"
     ]
    },
    {
     "data": {
      "image/png": "[encoded data removed]",
      "text/plain": [
       "<Figure size 432x288 with 1 Axes>"
      ]
     },
     "metadata": {
      "needs_background": "light"
     },
     "output_type": "display_data"
    },
    {
     "name": "stdout",
     "output_type": "stream",
     "text": [
      "\n",
      "\n",
      "Final Output: 8\n",
      "\n",
      "Prediction (Softmax) from the neural network:\n",
      "\n",
      " [[0. 0. 0. 0. 0. 0. 0. 0. 1. 0.]]\n",
      "\n",
      "\n",
      "Hard-maxed form of the prediction: \n",
      "\n",
      " [[0. 0. 0. 0. 0. 0. 0. 0. 1. 0.]]\n",
      "\n",
      "\n",
      "---------------------------------------\n",
      "\n",
      "\n",
      "\n",
      "\n",
      "---------------------------------------\n",
      "\n",
      "\n",
      "=========PREDICTION============ \n",
      "\n",
      "\n"
     ]
    },
    {
     "data": {
      "image/png": "[encoded data removed]",
      "text/plain": [
       "<Figure size 432x288 with 1 Axes>"
      ]
     },
     "metadata": {
      "needs_background": "light"
     },
     "output_type": "display_data"
    },
    {
     "name": "stdout",
     "output_type": "stream",
     "text": [
      "\n",
      "\n",
      "Final Output: 8\n",
      "\n",
      "Prediction (Softmax) from the neural network:\n",
      "\n",
      " [[0. 0. 0. 0. 0. 0. 0. 0. 1. 0.]]\n",
      "\n",
      "\n",
      "Hard-maxed form of the prediction: \n",
      "\n",
      " [[0. 0. 0. 0. 0. 0. 0. 0. 1. 0.]]\n",
      "\n",
      "\n",
      "---------------------------------------\n",
      "\n",
      "\n",
      "\n",
      "\n",
      "---------------------------------------\n",
      "\n",
      "\n",
      "=========PREDICTION============ \n",
      "\n",
      "\n"
     ]
    },
    {
     "data": {
      "image/png": "[encoded data removed]",
      "text/plain": [
       "<Figure size 432x288 with 1 Axes>"
      ]
     },
     "metadata": {
      "needs_background": "light"
     },
     "output_type": "display_data"
    },
    {
     "name": "stdout",
     "output_type": "stream",
     "text": [
      "\n",
      "\n",
      "Final Output: 8\n",
      "\n",
      "Prediction (Softmax) from the neural network:\n",
      "\n",
      " [[0. 0. 0. 0. 0. 0. 0. 0. 1. 0.]]\n",
      "\n",
      "\n",
      "Hard-maxed form of the prediction: \n",
      "\n",
      " [[0. 0. 0. 0. 0. 0. 0. 0. 1. 0.]]\n",
      "\n",
      "\n",
      "---------------------------------------\n",
      "\n",
      "\n",
      "\n",
      "\n",
      "---------------------------------------\n",
      "\n",
      "\n",
      "=========PREDICTION============ \n",
      "\n",
      "\n"
     ]
    },
    {
     "data": {
      "image/png": "[encoded data removed]",
      "text/plain": [
       "<Figure size 432x288 with 1 Axes>"
      ]
     },
     "metadata": {
      "needs_background": "light"
     },
     "output_type": "display_data"
    },
    {
     "name": "stdout",
     "output_type": "stream",
     "text": [
      "\n",
      "\n",
      "Final Output: 8\n",
      "\n",
      "Prediction (Softmax) from the neural network:\n",
      "\n",
      " [[0. 0. 0. 0. 0. 0. 0. 0. 1. 0.]]\n",
      "\n",
      "\n",
      "Hard-maxed form of the prediction: \n",
      "\n",
      " [[0. 0. 0. 0. 0. 0. 0. 0. 1. 0.]]\n",
      "\n",
      "\n",
      "---------------------------------------\n",
      "\n",
      "\n",
      "\n",
      "\n",
      "---------------------------------------\n",
      "\n",
      "\n",
      "=========PREDICTION============ \n",
      "\n",
      "\n"
     ]
    },
    {
     "data": {
      "image/png": "[encoded data removed]",
      "text/plain": [
       "<Figure size 432x288 with 1 Axes>"
      ]
     },
     "metadata": {
      "needs_background": "light"
     },
     "output_type": "display_data"
    },
    {
     "name": "stdout",
     "output_type": "stream",
     "text": [
      "\n",
      "\n",
      "Final Output: 8\n",
      "\n",
      "Prediction (Softmax) from the neural network:\n",
      "\n",
      " [[0. 0. 0. 0. 0. 0. 0. 0. 1. 0.]]\n",
      "\n",
      "\n",
      "Hard-maxed form of the prediction: \n",
      "\n",
      " [[0. 0. 0. 0. 0. 0. 0. 0. 1. 0.]]\n",
      "\n",
      "\n",
      "---------------------------------------\n",
      "\n",
      "\n",
      "\n",
      "\n",
      "---------------------------------------\n",
      "\n",
      "\n",
      "=========PREDICTION============ \n",
      "\n",
      "\n"
     ]
    },
    {
     "data": {
      "image/png": "[encoded data removed]",
      "text/plain": [
       "<Figure size 432x288 with 1 Axes>"
      ]
     },
     "metadata": {
      "needs_background": "light"
     },
     "output_type": "display_data"
    },
    {
     "name": "stdout",
     "output_type": "stream",
     "text": [
      "\n",
      "\n",
      "Final Output: 8\n",
      "\n",
      "Prediction (Softmax) from the neural network:\n",
      "\n",
      " [[0. 0. 0. 0. 0. 0. 0. 0. 1. 0.]]\n",
      "\n",
      "\n",
      "Hard-maxed form of the prediction: \n",
      "\n",
      " [[0. 0. 0. 0. 0. 0. 0. 0. 1. 0.]]\n",
      "\n",
      "\n",
      "---------------------------------------\n",
      "\n",
      "\n",
      "\n",
      "\n",
      "---------------------------------------\n",
      "\n",
      "\n",
      "=========PREDICTION============ \n",
      "\n",
      "\n"
     ]
    },
    {
     "data": {
      "image/png": "[encoded data removed]",
      "text/plain": [
       "<Figure size 432x288 with 1 Axes>"
      ]
     },
     "metadata": {
      "needs_background": "light"
     },
     "output_type": "display_data"
    },
    {
     "name": "stdout",
     "output_type": "stream",
     "text": [
      "\n",
      "\n",
      "Final Output: 8\n",
      "\n",
      "Prediction (Softmax) from the neural network:\n",
      "\n",
      " [[0. 0. 0. 0. 0. 0. 0. 0. 1. 0.]]\n",
      "\n",
      "\n",
      "Hard-maxed form of the prediction: \n",
      "\n",
      " [[0. 0. 0. 0. 0. 0. 0. 0. 1. 0.]]\n",
      "\n",
      "\n",
      "---------------------------------------\n",
      "\n",
      "\n",
      "\n",
      "\n",
      "---------------------------------------\n",
      "\n",
      "\n",
      "=========PREDICTION============ \n",
      "\n",
      "\n"
     ]
    },
    {
     "data": {
      "image/png": "[encoded data removed]",
      "text/plain": [
       "<Figure size 432x288 with 1 Axes>"
      ]
     },
     "metadata": {
      "needs_background": "light"
     },
     "output_type": "display_data"
    },
    {
     "name": "stdout",
     "output_type": "stream",
     "text": [
      "\n",
      "\n",
      "Final Output: 8\n",
      "\n",
      "Prediction (Softmax) from the neural network:\n",
      "\n",
      " [[0. 0. 0. 0. 0. 0. 0. 0. 1. 0.]]\n",
      "\n",
      "\n",
      "Hard-maxed form of the prediction: \n",
      "\n",
      " [[0. 0. 0. 0. 0. 0. 0. 0. 1. 0.]]\n",
      "\n",
      "\n",
      "---------------------------------------\n",
      "\n",
      "\n",
      "\n",
      "\n",
      "---------------------------------------\n",
      "\n",
      "\n",
      "=========PREDICTION============ \n",
      "\n",
      "\n"
     ]
    },
    {
     "data": {
      "image/png": "[encoded data removed]",
      "text/plain": [
       "<Figure size 432x288 with 1 Axes>"
      ]
     },
     "metadata": {
      "needs_background": "light"
     },
     "output_type": "display_data"
    },
    {
     "name": "stdout",
     "output_type": "stream",
     "text": [
      "\n",
      "\n",
      "Final Output: 8\n",
      "\n",
      "Prediction (Softmax) from the neural network:\n",
      "\n",
      " [[0. 0. 0. 0. 0. 0. 0. 0. 1. 0.]]\n",
      "\n",
      "\n",
      "Hard-maxed form of the prediction: \n",
      "\n",
      " [[0. 0. 0. 0. 0. 0. 0. 0. 1. 0.]]\n",
      "\n",
      "\n",
      "---------------------------------------\n",
      "\n",
      "\n",
      "\n",
      "\n",
      "---------------------------------------\n",
      "\n",
      "\n",
      "=========PREDICTION============ \n",
      "\n",
      "\n"
     ]
    },
    {
     "data": {
      "image/png": "[encoded data removed]",
      "text/plain": [
       "<Figure size 432x288 with 1 Axes>"
      ]
     },
     "metadata": {
      "needs_background": "light"
     },
     "output_type": "display_data"
    },
    {
     "name": "stdout",
     "output_type": "stream",
     "text": [
      "\n",
      "\n",
      "Final Output: 8\n",
      "\n",
      "Prediction (Softmax) from the neural network:\n",
      "\n",
      " [[0. 0. 0. 0. 0. 0. 0. 0. 1. 0.]]\n",
      "\n",
      "\n",
      "Hard-maxed form of the prediction: \n",
      "\n",
      " [[0. 0. 0. 0. 0. 0. 0. 0. 1. 0.]]\n",
      "\n",
      "\n",
      "---------------------------------------\n",
      "\n",
      "\n",
      "\n",
      "\n",
      "---------------------------------------\n",
      "\n",
      "\n",
      "=========PREDICTION============ \n",
      "\n",
      "\n"
     ]
    },
    {
     "data": {
      "image/png": "[encoded data removed]",
      "text/plain": [
       "<Figure size 432x288 with 1 Axes>"
      ]
     },
     "metadata": {
      "needs_background": "light"
     },
     "output_type": "display_data"
    },
    {
     "name": "stdout",
     "output_type": "stream",
     "text": [
      "\n",
      "\n",
      "Final Output: 8\n",
      "\n",
      "Prediction (Softmax) from the neural network:\n",
      "\n",
      " [[0. 0. 0. 0. 0. 0. 0. 0. 1. 0.]]\n",
      "\n",
      "\n",
      "Hard-maxed form of the prediction: \n",
      "\n",
      " [[0. 0. 0. 0. 0. 0. 0. 0. 1. 0.]]\n",
      "\n",
      "\n",
      "---------------------------------------\n",
      "\n",
      "\n",
      "\n",
      "\n",
      "---------------------------------------\n",
      "\n",
      "\n",
      "=========PREDICTION============ \n",
      "\n",
      "\n"
     ]
    },
    {
     "data": {
      "image/png": "[encoded data removed]",
      "text/plain": [
       "<Figure size 432x288 with 1 Axes>"
      ]
     },
     "metadata": {
      "needs_background": "light"
     },
     "output_type": "display_data"
    },
    {
     "name": "stdout",
     "output_type": "stream",
     "text": [
      "\n",
      "\n",
      "Final Output: 8\n",
      "\n",
      "Prediction (Softmax) from the neural network:\n",
      "\n",
      " [[0. 0. 0. 0. 0. 0. 0. 0. 1. 0.]]\n",
      "\n",
      "\n",
      "Hard-maxed form of the prediction: \n",
      "\n",
      " [[0. 0. 0. 0. 0. 0. 0. 0. 1. 0.]]\n",
      "\n",
      "\n",
      "---------------------------------------\n",
      "\n",
      "\n",
      "\n",
      "\n",
      "---------------------------------------\n",
      "\n",
      "\n",
      "=========PREDICTION============ \n",
      "\n",
      "\n"
     ]
    },
    {
     "data": {
      "image/png": "[encoded data removed]",
      "text/plain": [
       "<Figure size 432x288 with 1 Axes>"
      ]
     },
     "metadata": {
      "needs_background": "light"
     },
     "output_type": "display_data"
    },
    {
     "name": "stdout",
     "output_type": "stream",
     "text": [
      "\n",
      "\n",
      "Final Output: 8\n",
      "\n",
      "Prediction (Softmax) from the neural network:\n",
      "\n",
      " [[0. 0. 0. 0. 0. 0. 0. 0. 1. 0.]]\n",
      "\n",
      "\n",
      "Hard-maxed form of the prediction: \n",
      "\n",
      " [[0. 0. 0. 0. 0. 0. 0. 0. 1. 0.]]\n",
      "\n",
      "\n",
      "---------------------------------------\n",
      "\n",
      "\n",
      "\n",
      "\n",
      "---------------------------------------\n",
      "\n",
      "\n",
      "=========PREDICTION============ \n",
      "\n",
      "\n"
     ]
    },
    {
     "data": {
      "image/png": "[encoded data removed]",
      "text/plain": [
       "<Figure size 432x288 with 1 Axes>"
      ]
     },
     "metadata": {
      "needs_background": "light"
     },
     "output_type": "display_data"
    },
    {
     "name": "stdout",
     "output_type": "stream",
     "text": [
      "\n",
      "\n",
      "Final Output: 8\n",
      "\n",
      "Prediction (Softmax) from the neural network:\n",
      "\n",
      " [[0. 0. 0. 0. 0. 0. 0. 0. 1. 0.]]\n",
      "\n",
      "\n",
      "Hard-maxed form of the prediction: \n",
      "\n",
      " [[0. 0. 0. 0. 0. 0. 0. 0. 1. 0.]]\n",
      "\n",
      "\n",
      "---------------------------------------\n",
      "\n",
      "\n",
      "\n",
      "\n",
      "---------------------------------------\n",
      "\n",
      "\n",
      "=========PREDICTION============ \n",
      "\n",
      "\n"
     ]
    },
    {
     "data": {
      "image/png": "[encoded data removed]",
      "text/plain": [
       "<Figure size 432x288 with 1 Axes>"
      ]
     },
     "metadata": {
      "needs_background": "light"
     },
     "output_type": "display_data"
    },
    {
     "name": "stdout",
     "output_type": "stream",
     "text": [
      "\n",
      "\n",
      "Final Output: 8\n",
      "\n",
      "Prediction (Softmax) from the neural network:\n",
      "\n",
      " [[0. 0. 0. 0. 0. 0. 0. 0. 1. 0.]]\n",
      "\n",
      "\n",
      "Hard-maxed form of the prediction: \n",
      "\n",
      " [[0. 0. 0. 0. 0. 0. 0. 0. 1. 0.]]\n",
      "\n",
      "\n",
      "---------------------------------------\n",
      "\n",
      "\n",
      "\n",
      "\n",
      "---------------------------------------\n",
      "\n",
      "\n",
      "=========PREDICTION============ \n",
      "\n",
      "\n"
     ]
    },
    {
     "data": {
      "image/png": "[encoded data removed]",
      "text/plain": [
       "<Figure size 432x288 with 1 Axes>"
      ]
     },
     "metadata": {
      "needs_background": "light"
     },
     "output_type": "display_data"
    },
    {
     "name": "stdout",
     "output_type": "stream",
     "text": [
      "\n",
      "\n",
      "Final Output: 8\n",
      "\n",
      "Prediction (Softmax) from the neural network:\n",
      "\n",
      " [[0. 0. 0. 0. 0. 0. 0. 0. 1. 0.]]\n",
      "\n",
      "\n",
      "Hard-maxed form of the prediction: \n",
      "\n",
      " [[0. 0. 0. 0. 0. 0. 0. 0. 1. 0.]]\n",
      "\n",
      "\n",
      "---------------------------------------\n",
      "\n",
      "\n",
      "\n",
      "\n",
      "---------------------------------------\n",
      "\n",
      "\n",
      "=========PREDICTION============ \n",
      "\n",
      "\n"
     ]
    },
    {
     "data": {
      "image/png": "[encoded data removed]",
      "text/plain": [
       "<Figure size 432x288 with 1 Axes>"
      ]
     },
     "metadata": {
      "needs_background": "light"
     },
     "output_type": "display_data"
    },
    {
     "name": "stdout",
     "output_type": "stream",
     "text": [
      "\n",
      "\n",
      "Final Output: 8\n",
      "\n",
      "Prediction (Softmax) from the neural network:\n",
      "\n",
      " [[0. 0. 0. 0. 0. 0. 0. 0. 1. 0.]]\n",
      "\n",
      "\n",
      "Hard-maxed form of the prediction: \n",
      "\n",
      " [[0. 0. 0. 0. 0. 0. 0. 0. 1. 0.]]\n",
      "\n",
      "\n",
      "---------------------------------------\n",
      "\n",
      "\n",
      "\n",
      "\n",
      "---------------------------------------\n",
      "\n",
      "\n",
      "=========PREDICTION============ \n",
      "\n",
      "\n"
     ]
    },
    {
     "data": {
      "image/png": "[encoded data removed]",
      "text/plain": [
       "<Figure size 432x288 with 1 Axes>"
      ]
     },
     "metadata": {
      "needs_background": "light"
     },
     "output_type": "display_data"
    },
    {
     "name": "stdout",
     "output_type": "stream",
     "text": [
      "\n",
      "\n",
      "Final Output: 8\n",
      "\n",
      "Prediction (Softmax) from the neural network:\n",
      "\n",
      " [[0. 0. 0. 0. 0. 0. 0. 0. 1. 0.]]\n",
      "\n",
      "\n",
      "Hard-maxed form of the prediction: \n",
      "\n",
      " [[0. 0. 0. 0. 0. 0. 0. 0. 1. 0.]]\n",
      "\n",
      "\n",
      "---------------------------------------\n",
      "\n",
      "\n",
      "\n",
      "\n",
      "---------------------------------------\n",
      "\n",
      "\n",
      "=========PREDICTION============ \n",
      "\n",
      "\n"
     ]
    },
    {
     "data": {
      "image/png": "[encoded data removed]",
      "text/plain": [
       "<Figure size 432x288 with 1 Axes>"
      ]
     },
     "metadata": {
      "needs_background": "light"
     },
     "output_type": "display_data"
    },
    {
     "name": "stdout",
     "output_type": "stream",
     "text": [
      "\n",
      "\n",
      "Final Output: 8\n",
      "\n",
      "Prediction (Softmax) from the neural network:\n",
      "\n",
      " [[0. 0. 0. 0. 0. 0. 0. 0. 1. 0.]]\n",
      "\n",
      "\n",
      "Hard-maxed form of the prediction: \n",
      "\n",
      " [[0. 0. 0. 0. 0. 0. 0. 0. 1. 0.]]\n",
      "\n",
      "\n",
      "---------------------------------------\n",
      "\n",
      "\n",
      "\n",
      "\n",
      "---------------------------------------\n",
      "\n",
      "\n",
      "=========PREDICTION============ \n",
      "\n",
      "\n"
     ]
    },
    {
     "data": {
      "image/png": "[encoded data removed]",
      "text/plain": [
       "<Figure size 432x288 with 1 Axes>"
      ]
     },
     "metadata": {
      "needs_background": "light"
     },
     "output_type": "display_data"
    },
    {
     "name": "stdout",
     "output_type": "stream",
     "text": [
      "\n",
      "\n",
      "Final Output: 8\n",
      "\n",
      "Prediction (Softmax) from the neural network:\n",
      "\n",
      " [[0. 0. 0. 0. 0. 0. 0. 0. 1. 0.]]\n",
      "\n",
      "\n",
      "Hard-maxed form of the prediction: \n",
      "\n",
      " [[0. 0. 0. 0. 0. 0. 0. 0. 1. 0.]]\n",
      "\n",
      "\n",
      "---------------------------------------\n",
      "\n",
      "\n",
      "\n",
      "\n",
      "---------------------------------------\n",
      "\n",
      "\n",
      "=========PREDICTION============ \n",
      "\n",
      "\n"
     ]
    },
    {
     "data": {
      "image/png": "[encoded data removed]",
      "text/plain": [
       "<Figure size 432x288 with 1 Axes>"
      ]
     },
     "metadata": {
      "needs_background": "light"
     },
     "output_type": "display_data"
    },
    {
     "name": "stdout",
     "output_type": "stream",
     "text": [
      "\n",
      "\n",
      "Final Output: 8\n",
      "\n",
      "Prediction (Softmax) from the neural network:\n",
      "\n",
      " [[0. 0. 0. 0. 0. 0. 0. 0. 1. 0.]]\n",
      "\n",
      "\n",
      "Hard-maxed form of the prediction: \n",
      "\n",
      " [[0. 0. 0. 0. 0. 0. 0. 0. 1. 0.]]\n",
      "\n",
      "\n",
      "---------------------------------------\n",
      "\n",
      "\n",
      "\n",
      "\n",
      "---------------------------------------\n",
      "\n",
      "\n",
      "=========PREDICTION============ \n",
      "\n",
      "\n"
     ]
    },
    {
     "data": {
      "image/png": "[encoded data removed]",
      "text/plain": [
       "<Figure size 432x288 with 1 Axes>"
      ]
     },
     "metadata": {
      "needs_background": "light"
     },
     "output_type": "display_data"
    },
    {
     "name": "stdout",
     "output_type": "stream",
     "text": [
      "\n",
      "\n",
      "Final Output: 8\n",
      "\n",
      "Prediction (Softmax) from the neural network:\n",
      "\n",
      " [[0. 0. 0. 0. 0. 0. 0. 0. 1. 0.]]\n",
      "\n",
      "\n",
      "Hard-maxed form of the prediction: \n",
      "\n",
      " [[0. 0. 0. 0. 0. 0. 0. 0. 1. 0.]]\n",
      "\n",
      "\n",
      "---------------------------------------\n",
      "\n",
      "\n",
      "\n",
      "\n",
      "---------------------------------------\n",
      "\n",
      "\n",
      "=========PREDICTION============ \n",
      "\n",
      "\n"
     ]
    },
    {
     "data": {
      "image/png": "[encoded data removed]",
      "text/plain": [
       "<Figure size 432x288 with 1 Axes>"
      ]
     },
     "metadata": {
      "needs_background": "light"
     },
     "output_type": "display_data"
    },
    {
     "name": "stdout",
     "output_type": "stream",
     "text": [
      "\n",
      "\n",
      "Final Output: 8\n",
      "\n",
      "Prediction (Softmax) from the neural network:\n",
      "\n",
      " [[0. 0. 0. 0. 0. 0. 0. 0. 1. 0.]]\n",
      "\n",
      "\n",
      "Hard-maxed form of the prediction: \n",
      "\n",
      " [[0. 0. 0. 0. 0. 0. 0. 0. 1. 0.]]\n",
      "\n",
      "\n",
      "---------------------------------------\n",
      "\n",
      "\n",
      "\n",
      "\n",
      "---------------------------------------\n",
      "\n",
      "\n",
      "=========PREDICTION============ \n",
      "\n",
      "\n"
     ]
    },
    {
     "data": {
      "image/png": "[encoded data removed]",
      "text/plain": [
       "<Figure size 432x288 with 1 Axes>"
      ]
     },
     "metadata": {
      "needs_background": "light"
     },
     "output_type": "display_data"
    },
    {
     "name": "stdout",
     "output_type": "stream",
     "text": [
      "\n",
      "\n",
      "Final Output: 8\n",
      "\n",
      "Prediction (Softmax) from the neural network:\n",
      "\n",
      " [[0. 0. 0. 0. 0. 0. 0. 0. 1. 0.]]\n",
      "\n",
      "\n",
      "Hard-maxed form of the prediction: \n",
      "\n",
      " [[0. 0. 0. 0. 0. 0. 0. 0. 1. 0.]]\n",
      "\n",
      "\n",
      "---------------------------------------\n",
      "\n",
      "\n",
      "\n",
      "\n",
      "---------------------------------------\n",
      "\n",
      "\n",
      "=========PREDICTION============ \n",
      "\n",
      "\n"
     ]
    },
    {
     "data": {
      "image/png": "[encoded data removed]",
      "text/plain": [
       "<Figure size 432x288 with 1 Axes>"
      ]
     },
     "metadata": {
      "needs_background": "light"
     },
     "output_type": "display_data"
    },
    {
     "name": "stdout",
     "output_type": "stream",
     "text": [
      "\n",
      "\n",
      "Final Output: 8\n",
      "\n",
      "Prediction (Softmax) from the neural network:\n",
      "\n",
      " [[0. 0. 0. 0. 0. 0. 0. 0. 1. 0.]]\n",
      "\n",
      "\n",
      "Hard-maxed form of the prediction: \n",
      "\n",
      " [[0. 0. 0. 0. 0. 0. 0. 0. 1. 0.]]\n",
      "\n",
      "\n",
      "---------------------------------------\n",
      "\n",
      "\n",
      "\n",
      "\n",
      "---------------------------------------\n",
      "\n",
      "\n",
      "=========PREDICTION============ \n",
      "\n",
      "\n"
     ]
    },
    {
     "data": {
      "image/png": "[encoded data removed]",
      "text/plain": [
       "<Figure size 432x288 with 1 Axes>"
      ]
     },
     "metadata": {
      "needs_background": "light"
     },
     "output_type": "display_data"
    },
    {
     "name": "stdout",
     "output_type": "stream",
     "text": [
      "\n",
      "\n",
      "Final Output: 8\n",
      "\n",
      "Prediction (Softmax) from the neural network:\n",
      "\n",
      " [[0. 0. 0. 0. 0. 0. 0. 0. 1. 0.]]\n",
      "\n",
      "\n",
      "Hard-maxed form of the prediction: \n",
      "\n",
      " [[0. 0. 0. 0. 0. 0. 0. 0. 1. 0.]]\n",
      "\n",
      "\n",
      "---------------------------------------\n",
      "\n",
      "\n",
      "\n",
      "\n",
      "---------------------------------------\n",
      "\n",
      "\n",
      "=========PREDICTION============ \n",
      "\n",
      "\n"
     ]
    },
    {
     "data": {
      "image/png": "[encoded data removed]",
      "text/plain": [
       "<Figure size 432x288 with 1 Axes>"
      ]
     },
     "metadata": {
      "needs_background": "light"
     },
     "output_type": "display_data"
    },
    {
     "name": "stdout",
     "output_type": "stream",
     "text": [
      "\n",
      "\n",
      "Final Output: 8\n",
      "\n",
      "Prediction (Softmax) from the neural network:\n",
      "\n",
      " [[0. 0. 0. 0. 0. 0. 0. 0. 1. 0.]]\n",
      "\n",
      "\n",
      "Hard-maxed form of the prediction: \n",
      "\n",
      " [[0. 0. 0. 0. 0. 0. 0. 0. 1. 0.]]\n",
      "\n",
      "\n",
      "---------------------------------------\n",
      "\n",
      "\n",
      "\n",
      "\n",
      "---------------------------------------\n",
      "\n",
      "\n",
      "=========PREDICTION============ \n",
      "\n",
      "\n"
     ]
    },
    {
     "data": {
      "image/png": "[encoded data removed]",
      "text/plain": [
       "<Figure size 432x288 with 1 Axes>"
      ]
     },
     "metadata": {
      "needs_background": "light"
     },
     "output_type": "display_data"
    },
    {
     "name": "stdout",
     "output_type": "stream",
     "text": [
      "\n",
      "\n",
      "Final Output: 8\n",
      "\n",
      "Prediction (Softmax) from the neural network:\n",
      "\n",
      " [[0. 0. 0. 0. 0. 0. 0. 0. 1. 0.]]\n",
      "\n",
      "\n",
      "Hard-maxed form of the prediction: \n",
      "\n",
      " [[0. 0. 0. 0. 0. 0. 0. 0. 1. 0.]]\n",
      "\n",
      "\n",
      "---------------------------------------\n",
      "\n",
      "\n",
      "\n",
      "\n",
      "---------------------------------------\n",
      "\n",
      "\n",
      "=========PREDICTION============ \n",
      "\n",
      "\n"
     ]
    },
    {
     "data": {
      "image/png": "[encoded data removed]",
      "text/plain": [
       "<Figure size 432x288 with 1 Axes>"
      ]
     },
     "metadata": {
      "needs_background": "light"
     },
     "output_type": "display_data"
    },
    {
     "name": "stdout",
     "output_type": "stream",
     "text": [
      "\n",
      "\n",
      "Final Output: 8\n",
      "\n",
      "Prediction (Softmax) from the neural network:\n",
      "\n",
      " [[0. 0. 0. 0. 0. 0. 0. 0. 1. 0.]]\n",
      "\n",
      "\n",
      "Hard-maxed form of the prediction: \n",
      "\n",
      " [[0. 0. 0. 0. 0. 0. 0. 0. 1. 0.]]\n",
      "\n",
      "\n",
      "---------------------------------------\n",
      "\n",
      "\n",
      "\n",
      "\n",
      "---------------------------------------\n",
      "\n",
      "\n",
      "=========PREDICTION============ \n",
      "\n",
      "\n"
     ]
    },
    {
     "data": {
      "image/png": "[encoded data removed]",
      "text/plain": [
       "<Figure size 432x288 with 1 Axes>"
      ]
     },
     "metadata": {
      "needs_background": "light"
     },
     "output_type": "display_data"
    },
    {
     "name": "stdout",
     "output_type": "stream",
     "text": [
      "\n",
      "\n",
      "Final Output: 8\n",
      "\n",
      "Prediction (Softmax) from the neural network:\n",
      "\n",
      " [[0. 0. 0. 0. 0. 0. 0. 0. 1. 0.]]\n",
      "\n",
      "\n",
      "Hard-maxed form of the prediction: \n",
      "\n",
      " [[0. 0. 0. 0. 0. 0. 0. 0. 1. 0.]]\n",
      "\n",
      "\n",
      "---------------------------------------\n",
      "\n",
      "\n",
      "\n",
      "\n",
      "---------------------------------------\n",
      "\n",
      "\n",
      "=========PREDICTION============ \n",
      "\n",
      "\n"
     ]
    },
    {
     "data": {
      "image/png": "[encoded data removed]",
      "text/plain": [
       "<Figure size 432x288 with 1 Axes>"
      ]
     },
     "metadata": {
      "needs_background": "light"
     },
     "output_type": "display_data"
    },
    {
     "name": "stdout",
     "output_type": "stream",
     "text": [
      "\n",
      "\n",
      "Final Output: 8\n",
      "\n",
      "Prediction (Softmax) from the neural network:\n",
      "\n",
      " [[0. 0. 0. 0. 0. 0. 0. 0. 1. 0.]]\n",
      "\n",
      "\n",
      "Hard-maxed form of the prediction: \n",
      "\n",
      " [[0. 0. 0. 0. 0. 0. 0. 0. 1. 0.]]\n",
      "\n",
      "\n",
      "---------------------------------------\n",
      "\n",
      "\n",
      "\n",
      "\n",
      "---------------------------------------\n",
      "\n",
      "\n",
      "=========PREDICTION============ \n",
      "\n",
      "\n"
     ]
    },
    {
     "data": {
      "image/png": "[encoded data removed]",
      "text/plain": [
       "<Figure size 432x288 with 1 Axes>"
      ]
     },
     "metadata": {
      "needs_background": "light"
     },
     "output_type": "display_data"
    },
    {
     "name": "stdout",
     "output_type": "stream",
     "text": [
      "\n",
      "\n",
      "Final Output: 8\n",
      "\n",
      "Prediction (Softmax) from the neural network:\n",
      "\n",
      " [[0. 0. 0. 0. 0. 0. 0. 0. 1. 0.]]\n",
      "\n",
      "\n",
      "Hard-maxed form of the prediction: \n",
      "\n",
      " [[0. 0. 0. 0. 0. 0. 0. 0. 1. 0.]]\n",
      "\n",
      "\n",
      "---------------------------------------\n",
      "\n",
      "\n",
      "\n",
      "\n",
      "---------------------------------------\n",
      "\n",
      "\n",
      "=========PREDICTION============ \n",
      "\n",
      "\n"
     ]
    },
    {
     "data": {
      "image/png": "[encoded data removed]",
      "text/plain": [
       "<Figure size 432x288 with 1 Axes>"
      ]
     },
     "metadata": {
      "needs_background": "light"
     },
     "output_type": "display_data"
    },
    {
     "name": "stdout",
     "output_type": "stream",
     "text": [
      "\n",
      "\n",
      "Final Output: 8\n",
      "\n",
      "Prediction (Softmax) from the neural network:\n",
      "\n",
      " [[0. 0. 0. 0. 0. 0. 0. 0. 1. 0.]]\n",
      "\n",
      "\n",
      "Hard-maxed form of the prediction: \n",
      "\n",
      " [[0. 0. 0. 0. 0. 0. 0. 0. 1. 0.]]\n",
      "\n",
      "\n",
      "---------------------------------------\n",
      "\n",
      "\n",
      "\n",
      "\n",
      "---------------------------------------\n",
      "\n",
      "\n",
      "=========PREDICTION============ \n",
      "\n",
      "\n"
     ]
    },
    {
     "data": {
      "image/png": "[encoded data removed]",
      "text/plain": [
       "<Figure size 432x288 with 1 Axes>"
      ]
     },
     "metadata": {
      "needs_background": "light"
     },
     "output_type": "display_data"
    },
    {
     "name": "stdout",
     "output_type": "stream",
     "text": [
      "\n",
      "\n",
      "Final Output: 8\n",
      "\n",
      "Prediction (Softmax) from the neural network:\n",
      "\n",
      " [[0. 0. 0. 0. 0. 0. 0. 0. 1. 0.]]\n",
      "\n",
      "\n",
      "Hard-maxed form of the prediction: \n",
      "\n",
      " [[0. 0. 0. 0. 0. 0. 0. 0. 1. 0.]]\n",
      "\n",
      "\n",
      "---------------------------------------\n",
      "\n",
      "\n",
      "\n",
      "\n",
      "---------------------------------------\n",
      "\n",
      "\n",
      "=========PREDICTION============ \n",
      "\n",
      "\n"
     ]
    },
    {
     "data": {
      "image/png": "[encoded data removed]",
      "text/plain": [
       "<Figure size 432x288 with 1 Axes>"
      ]
     },
     "metadata": {
      "needs_background": "light"
     },
     "output_type": "display_data"
    },
    {
     "name": "stdout",
     "output_type": "stream",
     "text": [
      "\n",
      "\n",
      "Final Output: 8\n",
      "\n",
      "Prediction (Softmax) from the neural network:\n",
      "\n",
      " [[0. 0. 0. 0. 0. 0. 0. 0. 1. 0.]]\n",
      "\n",
      "\n",
      "Hard-maxed form of the prediction: \n",
      "\n",
      " [[0. 0. 0. 0. 0. 0. 0. 0. 1. 0.]]\n",
      "\n",
      "\n",
      "---------------------------------------\n",
      "\n",
      "\n",
      "\n",
      "\n",
      "---------------------------------------\n",
      "\n",
      "\n",
      "=========PREDICTION============ \n",
      "\n",
      "\n"
     ]
    },
    {
     "data": {
      "image/png": "[encoded data removed]",
      "text/plain": [
       "<Figure size 432x288 with 1 Axes>"
      ]
     },
     "metadata": {
      "needs_background": "light"
     },
     "output_type": "display_data"
    },
    {
     "name": "stdout",
     "output_type": "stream",
     "text": [
      "\n",
      "\n",
      "Final Output: 8\n",
      "\n",
      "Prediction (Softmax) from the neural network:\n",
      "\n",
      " [[0. 0. 0. 0. 0. 0. 0. 0. 1. 0.]]\n",
      "\n",
      "\n",
      "Hard-maxed form of the prediction: \n",
      "\n",
      " [[0. 0. 0. 0. 0. 0. 0. 0. 1. 0.]]\n",
      "\n",
      "\n",
      "---------------------------------------\n",
      "\n",
      "\n",
      "\n",
      "\n",
      "---------------------------------------\n",
      "\n",
      "\n",
      "=========PREDICTION============ \n",
      "\n",
      "\n"
     ]
    },
    {
     "data": {
      "image/png": "[encoded data removed]",
      "text/plain": [
       "<Figure size 432x288 with 1 Axes>"
      ]
     },
     "metadata": {
      "needs_background": "light"
     },
     "output_type": "display_data"
    },
    {
     "name": "stdout",
     "output_type": "stream",
     "text": [
      "\n",
      "\n",
      "Final Output: 8\n",
      "\n",
      "Prediction (Softmax) from the neural network:\n",
      "\n",
      " [[0. 0. 0. 0. 0. 0. 0. 0. 1. 0.]]\n",
      "\n",
      "\n",
      "Hard-maxed form of the prediction: \n",
      "\n",
      " [[0. 0. 0. 0. 0. 0. 0. 0. 1. 0.]]\n",
      "\n",
      "\n",
      "---------------------------------------\n",
      "\n",
      "\n",
      "\n",
      "\n",
      "---------------------------------------\n",
      "\n",
      "\n",
      "=========PREDICTION============ \n",
      "\n",
      "\n"
     ]
    },
    {
     "data": {
      "image/png": "[encoded data removed]",
      "text/plain": [
       "<Figure size 432x288 with 1 Axes>"
      ]
     },
     "metadata": {
      "needs_background": "light"
     },
     "output_type": "display_data"
    },
    {
     "name": "stdout",
     "output_type": "stream",
     "text": [
      "\n",
      "\n",
      "Final Output: 8\n",
      "\n",
      "Prediction (Softmax) from the neural network:\n",
      "\n",
      " [[0. 0. 0. 0. 0. 0. 0. 0. 1. 0.]]\n",
      "\n",
      "\n",
      "Hard-maxed form of the prediction: \n",
      "\n",
      " [[0. 0. 0. 0. 0. 0. 0. 0. 1. 0.]]\n",
      "\n",
      "\n",
      "---------------------------------------\n",
      "\n",
      "\n",
      "\n",
      "\n",
      "---------------------------------------\n",
      "\n",
      "\n",
      "=========PREDICTION============ \n",
      "\n",
      "\n"
     ]
    },
    {
     "data": {
      "image/png": "[encoded data removed]",
      "text/plain": [
       "<Figure size 432x288 with 1 Axes>"
      ]
     },
     "metadata": {
      "needs_background": "light"
     },
     "output_type": "display_data"
    },
    {
     "name": "stdout",
     "output_type": "stream",
     "text": [
      "\n",
      "\n",
      "Final Output: 8\n",
      "\n",
      "Prediction (Softmax) from the neural network:\n",
      "\n",
      " [[0. 0. 0. 0. 0. 0. 0. 0. 1. 0.]]\n",
      "\n",
      "\n",
      "Hard-maxed form of the prediction: \n",
      "\n",
      " [[0. 0. 0. 0. 0. 0. 0. 0. 1. 0.]]\n",
      "\n",
      "\n",
      "---------------------------------------\n",
      "\n",
      "\n",
      "\n",
      "\n",
      "---------------------------------------\n",
      "\n",
      "\n",
      "=========PREDICTION============ \n",
      "\n",
      "\n"
     ]
    },
    {
     "data": {
      "image/png": "[encoded data removed]",
      "text/plain": [
       "<Figure size 432x288 with 1 Axes>"
      ]
     },
     "metadata": {
      "needs_background": "light"
     },
     "output_type": "display_data"
    },
    {
     "name": "stdout",
     "output_type": "stream",
     "text": [
      "\n",
      "\n",
      "Final Output: 8\n",
      "\n",
      "Prediction (Softmax) from the neural network:\n",
      "\n",
      " [[0. 0. 0. 0. 0. 0. 0. 0. 1. 0.]]\n",
      "\n",
      "\n",
      "Hard-maxed form of the prediction: \n",
      "\n",
      " [[0. 0. 0. 0. 0. 0. 0. 0. 1. 0.]]\n",
      "\n",
      "\n",
      "---------------------------------------\n",
      "\n",
      "\n",
      "\n",
      "\n",
      "---------------------------------------\n",
      "\n",
      "\n",
      "=========PREDICTION============ \n",
      "\n",
      "\n"
     ]
    },
    {
     "data": {
      "image/png": "[encoded data removed]",
      "text/plain": [
       "<Figure size 432x288 with 1 Axes>"
      ]
     },
     "metadata": {
      "needs_background": "light"
     },
     "output_type": "display_data"
    },
    {
     "name": "stdout",
     "output_type": "stream",
     "text": [
      "\n",
      "\n",
      "Final Output: 8\n",
      "\n",
      "Prediction (Softmax) from the neural network:\n",
      "\n",
      " [[0. 0. 0. 0. 0. 0. 0. 0. 1. 0.]]\n",
      "\n",
      "\n",
      "Hard-maxed form of the prediction: \n",
      "\n",
      " [[0. 0. 0. 0. 0. 0. 0. 0. 1. 0.]]\n",
      "\n",
      "\n",
      "---------------------------------------\n",
      "\n",
      "\n",
      "\n",
      "\n",
      "---------------------------------------\n",
      "\n",
      "\n",
      "=========PREDICTION============ \n",
      "\n",
      "\n"
     ]
    },
    {
     "data": {
      "image/png": "[encoded data removed]",
      "text/plain": [
       "<Figure size 432x288 with 1 Axes>"
      ]
     },
     "metadata": {
      "needs_background": "light"
     },
     "output_type": "display_data"
    },
    {
     "name": "stdout",
     "output_type": "stream",
     "text": [
      "\n",
      "\n",
      "Final Output: 8\n",
      "\n",
      "Prediction (Softmax) from the neural network:\n",
      "\n",
      " [[0. 0. 0. 0. 0. 0. 0. 0. 1. 0.]]\n",
      "\n",
      "\n",
      "Hard-maxed form of the prediction: \n",
      "\n",
      " [[0. 0. 0. 0. 0. 0. 0. 0. 1. 0.]]\n",
      "\n",
      "\n",
      "---------------------------------------\n",
      "\n",
      "\n",
      "\n",
      "\n",
      "---------------------------------------\n",
      "\n",
      "\n",
      "=========PREDICTION============ \n",
      "\n",
      "\n"
     ]
    },
    {
     "data": {
      "image/png": "[encoded data removed]",
      "text/plain": [
       "<Figure size 432x288 with 1 Axes>"
      ]
     },
     "metadata": {
      "needs_background": "light"
     },
     "output_type": "display_data"
    },
    {
     "name": "stdout",
     "output_type": "stream",
     "text": [
      "\n",
      "\n",
      "Final Output: 8\n",
      "\n",
      "Prediction (Softmax) from the neural network:\n",
      "\n",
      " [[0. 0. 0. 0. 0. 0. 0. 0. 1. 0.]]\n",
      "\n",
      "\n",
      "Hard-maxed form of the prediction: \n",
      "\n",
      " [[0. 0. 0. 0. 0. 0. 0. 0. 1. 0.]]\n",
      "\n",
      "\n",
      "---------------------------------------\n",
      "\n",
      "\n",
      "\n",
      "\n",
      "---------------------------------------\n",
      "\n",
      "\n",
      "=========PREDICTION============ \n",
      "\n",
      "\n"
     ]
    },
    {
     "data": {
      "image/png": "[encoded data removed]",
      "text/plain": [
       "<Figure size 432x288 with 1 Axes>"
      ]
     },
     "metadata": {
      "needs_background": "light"
     },
     "output_type": "display_data"
    },
    {
     "name": "stdout",
     "output_type": "stream",
     "text": [
      "\n",
      "\n",
      "Final Output: 8\n",
      "\n",
      "Prediction (Softmax) from the neural network:\n",
      "\n",
      " [[0. 0. 0. 0. 0. 0. 0. 0. 1. 0.]]\n",
      "\n",
      "\n",
      "Hard-maxed form of the prediction: \n",
      "\n",
      " [[0. 0. 0. 0. 0. 0. 0. 0. 1. 0.]]\n",
      "\n",
      "\n",
      "---------------------------------------\n",
      "\n",
      "\n",
      "\n",
      "\n",
      "---------------------------------------\n",
      "\n",
      "\n",
      "=========PREDICTION============ \n",
      "\n",
      "\n"
     ]
    },
    {
     "data": {
      "image/png": "[encoded data removed]",
      "text/plain": [
       "<Figure size 432x288 with 1 Axes>"
      ]
     },
     "metadata": {
      "needs_background": "light"
     },
     "output_type": "display_data"
    },
    {
     "name": "stdout",
     "output_type": "stream",
     "text": [
      "\n",
      "\n",
      "Final Output: 8\n",
      "\n",
      "Prediction (Softmax) from the neural network:\n",
      "\n",
      " [[0. 0. 0. 0. 0. 0. 0. 0. 1. 0.]]\n",
      "\n",
      "\n",
      "Hard-maxed form of the prediction: \n",
      "\n",
      " [[0. 0. 0. 0. 0. 0. 0. 0. 1. 0.]]\n",
      "\n",
      "\n",
      "---------------------------------------\n",
      "\n",
      "\n",
      "\n",
      "\n",
      "---------------------------------------\n",
      "\n",
      "\n",
      "=========PREDICTION============ \n",
      "\n",
      "\n"
     ]
    },
    {
     "data": {
      "image/png": "[encoded data removed]",
      "text/plain": [
       "<Figure size 432x288 with 1 Axes>"
      ]
     },
     "metadata": {
      "needs_background": "light"
     },
     "output_type": "display_data"
    },
    {
     "name": "stdout",
     "output_type": "stream",
     "text": [
      "\n",
      "\n",
      "Final Output: 8\n",
      "\n",
      "Prediction (Softmax) from the neural network:\n",
      "\n",
      " [[0. 0. 0. 0. 0. 0. 0. 0. 1. 0.]]\n",
      "\n",
      "\n",
      "Hard-maxed form of the prediction: \n",
      "\n",
      " [[0. 0. 0. 0. 0. 0. 0. 0. 1. 0.]]\n",
      "\n",
      "\n",
      "---------------------------------------\n",
      "\n",
      "\n",
      "\n",
      "\n",
      "---------------------------------------\n",
      "\n",
      "\n",
      "=========PREDICTION============ \n",
      "\n",
      "\n"
     ]
    },
    {
     "data": {
      "image/png": "[encoded data removed]",
      "text/plain": [
       "<Figure size 432x288 with 1 Axes>"
      ]
     },
     "metadata": {
      "needs_background": "light"
     },
     "output_type": "display_data"
    },
    {
     "name": "stdout",
     "output_type": "stream",
     "text": [
      "\n",
      "\n",
      "Final Output: 8\n",
      "\n",
      "Prediction (Softmax) from the neural network:\n",
      "\n",
      " [[0. 0. 0. 0. 0. 0. 0. 0. 1. 0.]]\n",
      "\n",
      "\n",
      "Hard-maxed form of the prediction: \n",
      "\n",
      " [[0. 0. 0. 0. 0. 0. 0. 0. 1. 0.]]\n",
      "\n",
      "\n",
      "---------------------------------------\n",
      "\n",
      "\n",
      "\n",
      "\n",
      "---------------------------------------\n",
      "\n",
      "\n",
      "=========PREDICTION============ \n",
      "\n",
      "\n"
     ]
    },
    {
     "data": {
      "image/png": "[encoded data removed]",
      "text/plain": [
       "<Figure size 432x288 with 1 Axes>"
      ]
     },
     "metadata": {
      "needs_background": "light"
     },
     "output_type": "display_data"
    },
    {
     "name": "stdout",
     "output_type": "stream",
     "text": [
      "\n",
      "\n",
      "Final Output: 8\n",
      "\n",
      "Prediction (Softmax) from the neural network:\n",
      "\n",
      " [[0. 0. 0. 0. 0. 0. 0. 0. 1. 0.]]\n",
      "\n",
      "\n",
      "Hard-maxed form of the prediction: \n",
      "\n",
      " [[0. 0. 0. 0. 0. 0. 0. 0. 1. 0.]]\n",
      "\n",
      "\n",
      "---------------------------------------\n",
      "\n",
      "\n",
      "\n",
      "\n",
      "---------------------------------------\n",
      "\n",
      "\n",
      "=========PREDICTION============ \n",
      "\n",
      "\n"
     ]
    },
    {
     "data": {
      "image/png": "[encoded data removed]",
      "text/plain": [
       "<Figure size 432x288 with 1 Axes>"
      ]
     },
     "metadata": {
      "needs_background": "light"
     },
     "output_type": "display_data"
    },
    {
     "name": "stdout",
     "output_type": "stream",
     "text": [
      "\n",
      "\n",
      "Final Output: 8\n",
      "\n",
      "Prediction (Softmax) from the neural network:\n",
      "\n",
      " [[0. 0. 0. 0. 0. 0. 0. 0. 1. 0.]]\n",
      "\n",
      "\n",
      "Hard-maxed form of the prediction: \n",
      "\n",
      " [[0. 0. 0. 0. 0. 0. 0. 0. 1. 0.]]\n",
      "\n",
      "\n",
      "---------------------------------------\n",
      "\n",
      "\n",
      "\n",
      "\n",
      "---------------------------------------\n",
      "\n",
      "\n",
      "=========PREDICTION============ \n",
      "\n",
      "\n"
     ]
    },
    {
     "data": {
      "image/png": "[encoded data removed]",
      "text/plain": [
       "<Figure size 432x288 with 1 Axes>"
      ]
     },
     "metadata": {
      "needs_background": "light"
     },
     "output_type": "display_data"
    },
    {
     "name": "stdout",
     "output_type": "stream",
     "text": [
      "\n",
      "\n",
      "Final Output: 8\n",
      "\n",
      "Prediction (Softmax) from the neural network:\n",
      "\n",
      " [[0. 0. 0. 0. 0. 0. 0. 0. 1. 0.]]\n",
      "\n",
      "\n",
      "Hard-maxed form of the prediction: \n",
      "\n",
      " [[0. 0. 0. 0. 0. 0. 0. 0. 1. 0.]]\n",
      "\n",
      "\n",
      "---------------------------------------\n",
      "\n",
      "\n",
      "\n",
      "\n",
      "---------------------------------------\n",
      "\n",
      "\n",
      "=========PREDICTION============ \n",
      "\n",
      "\n"
     ]
    },
    {
     "data": {
      "image/png": "[encoded data removed]",
      "text/plain": [
       "<Figure size 432x288 with 1 Axes>"
      ]
     },
     "metadata": {
      "needs_background": "light"
     },
     "output_type": "display_data"
    },
    {
     "name": "stdout",
     "output_type": "stream",
     "text": [
      "\n",
      "\n",
      "Final Output: 8\n",
      "\n",
      "Prediction (Softmax) from the neural network:\n",
      "\n",
      " [[0. 0. 0. 0. 0. 0. 0. 0. 1. 0.]]\n",
      "\n",
      "\n",
      "Hard-maxed form of the prediction: \n",
      "\n",
      " [[0. 0. 0. 0. 0. 0. 0. 0. 1. 0.]]\n",
      "\n",
      "\n",
      "---------------------------------------\n",
      "\n",
      "\n",
      "\n",
      "\n",
      "---------------------------------------\n",
      "\n",
      "\n",
      "=========PREDICTION============ \n",
      "\n",
      "\n"
     ]
    },
    {
     "data": {
      "image/png": "[encoded data removed]",
      "text/plain": [
       "<Figure size 432x288 with 1 Axes>"
      ]
     },
     "metadata": {
      "needs_background": "light"
     },
     "output_type": "display_data"
    },
    {
     "name": "stdout",
     "output_type": "stream",
     "text": [
      "\n",
      "\n",
      "Final Output: 8\n",
      "\n",
      "Prediction (Softmax) from the neural network:\n",
      "\n",
      " [[0. 0. 0. 0. 0. 0. 0. 0. 1. 0.]]\n",
      "\n",
      "\n",
      "Hard-maxed form of the prediction: \n",
      "\n",
      " [[0. 0. 0. 0. 0. 0. 0. 0. 1. 0.]]\n",
      "\n",
      "\n",
      "---------------------------------------\n",
      "\n",
      "\n",
      "\n",
      "\n",
      "---------------------------------------\n",
      "\n",
      "\n",
      "=========PREDICTION============ \n",
      "\n",
      "\n"
     ]
    },
    {
     "data": {
      "image/png": "[encoded data removed]",
      "text/plain": [
       "<Figure size 432x288 with 1 Axes>"
      ]
     },
     "metadata": {
      "needs_background": "light"
     },
     "output_type": "display_data"
    },
    {
     "name": "stdout",
     "output_type": "stream",
     "text": [
      "\n",
      "\n",
      "Final Output: 8\n",
      "\n",
      "Prediction (Softmax) from the neural network:\n",
      "\n",
      " [[0. 0. 0. 0. 0. 0. 0. 0. 1. 0.]]\n",
      "\n",
      "\n",
      "Hard-maxed form of the prediction: \n",
      "\n",
      " [[0. 0. 0. 0. 0. 0. 0. 0. 1. 0.]]\n",
      "\n",
      "\n",
      "---------------------------------------\n",
      "\n",
      "\n",
      "\n",
      "\n",
      "---------------------------------------\n",
      "\n",
      "\n",
      "=========PREDICTION============ \n",
      "\n",
      "\n"
     ]
    },
    {
     "data": {
      "image/png": "[encoded data removed]",
      "text/plain": [
       "<Figure size 432x288 with 1 Axes>"
      ]
     },
     "metadata": {
      "needs_background": "light"
     },
     "output_type": "display_data"
    },
    {
     "name": "stdout",
     "output_type": "stream",
     "text": [
      "\n",
      "\n",
      "Final Output: 8\n",
      "\n",
      "Prediction (Softmax) from the neural network:\n",
      "\n",
      " [[0. 0. 0. 0. 0. 0. 0. 0. 1. 0.]]\n",
      "\n",
      "\n",
      "Hard-maxed form of the prediction: \n",
      "\n",
      " [[0. 0. 0. 0. 0. 0. 0. 0. 1. 0.]]\n",
      "\n",
      "\n",
      "---------------------------------------\n",
      "\n",
      "\n",
      "\n",
      "\n",
      "---------------------------------------\n",
      "\n",
      "\n",
      "=========PREDICTION============ \n",
      "\n",
      "\n"
     ]
    },
    {
     "data": {
      "image/png": "[encoded data removed]",
      "text/plain": [
       "<Figure size 432x288 with 1 Axes>"
      ]
     },
     "metadata": {
      "needs_background": "light"
     },
     "output_type": "display_data"
    },
    {
     "name": "stdout",
     "output_type": "stream",
     "text": [
      "\n",
      "\n",
      "Final Output: 8\n",
      "\n",
      "Prediction (Softmax) from the neural network:\n",
      "\n",
      " [[0. 0. 0. 0. 0. 0. 0. 0. 1. 0.]]\n",
      "\n",
      "\n",
      "Hard-maxed form of the prediction: \n",
      "\n",
      " [[0. 0. 0. 0. 0. 0. 0. 0. 1. 0.]]\n",
      "\n",
      "\n",
      "---------------------------------------\n",
      "\n",
      "\n",
      "\n",
      "\n",
      "---------------------------------------\n",
      "\n",
      "\n",
      "=========PREDICTION============ \n",
      "\n",
      "\n"
     ]
    },
    {
     "data": {
      "image/png": "[encoded data removed]",
      "text/plain": [
       "<Figure size 432x288 with 1 Axes>"
      ]
     },
     "metadata": {
      "needs_background": "light"
     },
     "output_type": "display_data"
    },
    {
     "name": "stdout",
     "output_type": "stream",
     "text": [
      "\n",
      "\n",
      "Final Output: 8\n",
      "\n",
      "Prediction (Softmax) from the neural network:\n",
      "\n",
      " [[0. 0. 0. 0. 0. 0. 0. 0. 1. 0.]]\n",
      "\n",
      "\n",
      "Hard-maxed form of the prediction: \n",
      "\n",
      " [[0. 0. 0. 0. 0. 0. 0. 0. 1. 0.]]\n",
      "\n",
      "\n",
      "---------------------------------------\n",
      "\n",
      "\n",
      "\n",
      "\n",
      "---------------------------------------\n",
      "\n",
      "\n",
      "=========PREDICTION============ \n",
      "\n",
      "\n"
     ]
    },
    {
     "data": {
      "image/png": "[encoded data removed]",
      "text/plain": [
       "<Figure size 432x288 with 1 Axes>"
      ]
     },
     "metadata": {
      "needs_background": "light"
     },
     "output_type": "display_data"
    },
    {
     "name": "stdout",
     "output_type": "stream",
     "text": [
      "\n",
      "\n",
      "Final Output: 8\n",
      "\n",
      "Prediction (Softmax) from the neural network:\n",
      "\n",
      " [[0. 0. 0. 0. 0. 0. 0. 0. 1. 0.]]\n",
      "\n",
      "\n",
      "Hard-maxed form of the prediction: \n",
      "\n",
      " [[0. 0. 0. 0. 0. 0. 0. 0. 1. 0.]]\n",
      "\n",
      "\n",
      "---------------------------------------\n",
      "\n",
      "\n",
      "\n",
      "\n",
      "---------------------------------------\n",
      "\n",
      "\n",
      "=========PREDICTION============ \n",
      "\n",
      "\n"
     ]
    },
    {
     "data": {
      "image/png": "[encoded data removed]",
      "text/plain": [
       "<Figure size 432x288 with 1 Axes>"
      ]
     },
     "metadata": {
      "needs_background": "light"
     },
     "output_type": "display_data"
    },
    {
     "name": "stdout",
     "output_type": "stream",
     "text": [
      "\n",
      "\n",
      "Final Output: 8\n",
      "\n",
      "Prediction (Softmax) from the neural network:\n",
      "\n",
      " [[0. 0. 0. 0. 0. 0. 0. 0. 1. 0.]]\n",
      "\n",
      "\n",
      "Hard-maxed form of the prediction: \n",
      "\n",
      " [[0. 0. 0. 0. 0. 0. 0. 0. 1. 0.]]\n",
      "\n",
      "\n",
      "---------------------------------------\n",
      "\n",
      "\n",
      "\n",
      "\n",
      "---------------------------------------\n",
      "\n",
      "\n",
      "=========PREDICTION============ \n",
      "\n",
      "\n"
     ]
    },
    {
     "data": {
      "image/png": "[encoded data removed]",
      "text/plain": [
       "<Figure size 432x288 with 1 Axes>"
      ]
     },
     "metadata": {
      "needs_background": "light"
     },
     "output_type": "display_data"
    },
    {
     "name": "stdout",
     "output_type": "stream",
     "text": [
      "\n",
      "\n",
      "Final Output: 8\n",
      "\n",
      "Prediction (Softmax) from the neural network:\n",
      "\n",
      " [[0. 0. 0. 0. 0. 0. 0. 0. 1. 0.]]\n",
      "\n",
      "\n",
      "Hard-maxed form of the prediction: \n",
      "\n",
      " [[0. 0. 0. 0. 0. 0. 0. 0. 1. 0.]]\n",
      "\n",
      "\n",
      "---------------------------------------\n",
      "\n",
      "\n",
      "\n",
      "\n",
      "---------------------------------------\n",
      "\n",
      "\n",
      "=========PREDICTION============ \n",
      "\n",
      "\n"
     ]
    },
    {
     "data": {
      "image/png": "[encoded data removed]",
      "text/plain": [
       "<Figure size 432x288 with 1 Axes>"
      ]
     },
     "metadata": {
      "needs_background": "light"
     },
     "output_type": "display_data"
    },
    {
     "name": "stdout",
     "output_type": "stream",
     "text": [
      "\n",
      "\n",
      "Final Output: 8\n",
      "\n",
      "Prediction (Softmax) from the neural network:\n",
      "\n",
      " [[0. 0. 0. 0. 0. 0. 0. 0. 1. 0.]]\n",
      "\n",
      "\n",
      "Hard-maxed form of the prediction: \n",
      "\n",
      " [[0. 0. 0. 0. 0. 0. 0. 0. 1. 0.]]\n",
      "\n",
      "\n",
      "---------------------------------------\n",
      "\n",
      "\n",
      "\n",
      "\n",
      "---------------------------------------\n",
      "\n",
      "\n",
      "=========PREDICTION============ \n",
      "\n",
      "\n"
     ]
    },
    {
     "data": {
      "image/png": "[encoded data removed]",
      "text/plain": [
       "<Figure size 432x288 with 1 Axes>"
      ]
     },
     "metadata": {
      "needs_background": "light"
     },
     "output_type": "display_data"
    },
    {
     "name": "stdout",
     "output_type": "stream",
     "text": [
      "\n",
      "\n",
      "Final Output: 8\n",
      "\n",
      "Prediction (Softmax) from the neural network:\n",
      "\n",
      " [[0. 0. 0. 0. 0. 0. 0. 0. 1. 0.]]\n",
      "\n",
      "\n",
      "Hard-maxed form of the prediction: \n",
      "\n",
      " [[0. 0. 0. 0. 0. 0. 0. 0. 1. 0.]]\n",
      "\n",
      "\n",
      "---------------------------------------\n",
      "\n",
      "\n",
      "\n",
      "\n",
      "---------------------------------------\n",
      "\n",
      "\n",
      "=========PREDICTION============ \n",
      "\n",
      "\n"
     ]
    },
    {
     "data": {
      "image/png": "[encoded data removed]",
      "text/plain": [
       "<Figure size 432x288 with 1 Axes>"
      ]
     },
     "metadata": {
      "needs_background": "light"
     },
     "output_type": "display_data"
    },
    {
     "name": "stdout",
     "output_type": "stream",
     "text": [
      "\n",
      "\n",
      "Final Output: 8\n",
      "\n",
      "Prediction (Softmax) from the neural network:\n",
      "\n",
      " [[0. 0. 0. 0. 0. 0. 0. 0. 1. 0.]]\n",
      "\n",
      "\n",
      "Hard-maxed form of the prediction: \n",
      "\n",
      " [[0. 0. 0. 0. 0. 0. 0. 0. 1. 0.]]\n",
      "\n",
      "\n",
      "---------------------------------------\n",
      "\n",
      "\n"
     ]
    }
   ],
   "source": [
    "for digit in preprocessed_digits:\n",
    "    prediction = model.predict(digit.reshape(1, 28, 28, 1))  \n",
    "    \n",
    "    print (\"\\n\\n---------------------------------------\\n\\n\")\n",
    "    print (\"=========PREDICTION============ \\n\\n\")\n",
    "    plt.imshow(digit.reshape(28, 28), cmap=\"gray\")\n",
    "    plt.show()\n",
    "    print(\"\\n\\nFinal Output: {}\".format(np.argmax(prediction)))\n",
    "    \n",
    "    print (\"\\nPrediction (Softmax) from the neural network:\\n\\n {}\".format(prediction))\n",
    "    \n",
    "    hard_maxed_prediction = np.zeros(prediction.shape)\n",
    "    hard_maxed_prediction[0][np.argmax(prediction)] = 1\n",
    "    print (\"\\n\\nHard-maxed form of the prediction: \\n\\n {}\".format(hard_maxed_prediction))\n",
    "    print (\"\\n\\n---------------------------------------\\n\\n\")"
   ]
  },
  {
   "cell_type": "code",
   "execution_count": null,
   "metadata": {},
   "outputs": [],
   "source": []
  }
 ],
 "metadata": {
  "kernelspec": {
   "display_name": "Python 3",
   "language": "python",
   "name": "python3"
  },
  "language_info": {
   "codemirror_mode": {
    "name": "ipython",
    "version": 3
   },
   "file_extension": ".py",
   "mimetype": "text/x-python",
   "name": "python",
   "nbconvert_exporter": "python",
   "pygments_lexer": "ipython3",
   "version": "3.7.3"
  }
 },
 "nbformat": 4,
 "nbformat_minor": 2
}
