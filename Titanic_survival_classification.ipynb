{
 "cells": [
  {
   "cell_type": "markdown",
   "metadata": {
    "colab_type": "text",
    "id": "XHyuIcRGixQy"
   },
   "source": [
    "# Problem Statement\n",
    "\n",
    "Predict Servival on Titanic using Machine Learning(Regression/Classification)"
   ]
  },
  {
   "cell_type": "markdown",
   "metadata": {},
   "source": [
    "## Data\n",
    "\n",
    "Dowloaded from https://www.kaggle.com/c/titanic/data\n",
    "\n",
    "\n",
    "* survival :\tSurvival\t        0 = No, 1 = Yes\n",
    "* pclass   :\tTicket class\t    1 = 1st, 2 = 2nd, 3 = 3rd\n",
    "* sex      :\tSex\t\n",
    "* Age      :\tAge in years\t\n",
    "* sibsp    :\t# of siblings / spouses aboard the Titanic\t\n",
    "* parch    :\t# of parents / children aboard the Titanic\t\n",
    "* ticket   :\tTicket number\t\n",
    "* fare     :\tPassenger fare\t\n",
    "* cabin    :\tCabin number\t\n",
    "* embarked :\tPort of Embarkation :C = Cherbourg, Q = Queenstown, S = Southampton"
   ]
  },
  {
   "cell_type": "markdown",
   "metadata": {
    "colab_type": "text",
    "id": "MetALTTmQKkh"
   },
   "source": [
    "### Importing Libraries"
   ]
  },
  {
   "cell_type": "code",
   "execution_count": 1,
   "metadata": {
    "colab": {},
    "colab_type": "code",
    "id": "eWchGPfa9xW9"
   },
   "outputs": [],
   "source": [
    "#importing libraries \n",
    "import pandas as pd \n",
    "import numpy as np\n",
    "import matplotlib.pyplot as plt"
   ]
  },
  {
   "cell_type": "markdown",
   "metadata": {
    "colab_type": "text",
    "id": "tHKgifnpjyvh"
   },
   "source": [
    "### Importing the data"
   ]
  },
  {
   "cell_type": "code",
   "execution_count": 2,
   "metadata": {
    "colab": {
     "base_uri": "https://localhost:8080/",
     "height": 226
    },
    "colab_type": "code",
    "executionInfo": {
     "elapsed": 3051,
     "status": "ok",
     "timestamp": 1559907752330,
     "user": {
      "displayName": "Aishwarya Singh",
      "photoUrl": "https://lh5.googleusercontent.com/-72ZtNB76Qxg/AAAAAAAAAAI/AAAAAAAAAAc/Nsa5vQruND0/s64/photo.jpg",
      "userId": "01105858832371513140"
     },
     "user_tz": -330
    },
    "id": "NB5xYyHg9xXA",
    "outputId": "7eaac4d1-42cd-4178-96e1-e9ccabc75020"
   },
   "outputs": [
    {
     "data": {
      "text/html": [
       "<div>\n",
       "<style scoped>\n",
       "    .dataframe tbody tr th:only-of-type {\n",
       "        vertical-align: middle;\n",
       "    }\n",
       "\n",
       "    .dataframe tbody tr th {\n",
       "        vertical-align: top;\n",
       "    }\n",
       "\n",
       "    .dataframe thead th {\n",
       "        text-align: right;\n",
       "    }\n",
       "</style>\n",
       "<table border=\"1\" class=\"dataframe\">\n",
       "  <thead>\n",
       "    <tr style=\"text-align: right;\">\n",
       "      <th></th>\n",
       "      <th>Survived</th>\n",
       "      <th>Age</th>\n",
       "      <th>Fare</th>\n",
       "      <th>Pclass_1</th>\n",
       "      <th>Pclass_2</th>\n",
       "      <th>Pclass_3</th>\n",
       "      <th>Sex_female</th>\n",
       "      <th>Sex_male</th>\n",
       "      <th>SibSp_0</th>\n",
       "      <th>SibSp_1</th>\n",
       "      <th>...</th>\n",
       "      <th>Parch_0</th>\n",
       "      <th>Parch_1</th>\n",
       "      <th>Parch_2</th>\n",
       "      <th>Parch_3</th>\n",
       "      <th>Parch_4</th>\n",
       "      <th>Parch_5</th>\n",
       "      <th>Parch_6</th>\n",
       "      <th>Embarked_C</th>\n",
       "      <th>Embarked_Q</th>\n",
       "      <th>Embarked_S</th>\n",
       "    </tr>\n",
       "  </thead>\n",
       "  <tbody>\n",
       "    <tr>\n",
       "      <th>0</th>\n",
       "      <td>0</td>\n",
       "      <td>22.0</td>\n",
       "      <td>7.2500</td>\n",
       "      <td>0</td>\n",
       "      <td>0</td>\n",
       "      <td>1</td>\n",
       "      <td>0</td>\n",
       "      <td>1</td>\n",
       "      <td>0</td>\n",
       "      <td>1</td>\n",
       "      <td>...</td>\n",
       "      <td>1</td>\n",
       "      <td>0</td>\n",
       "      <td>0</td>\n",
       "      <td>0</td>\n",
       "      <td>0</td>\n",
       "      <td>0</td>\n",
       "      <td>0</td>\n",
       "      <td>0</td>\n",
       "      <td>0</td>\n",
       "      <td>1</td>\n",
       "    </tr>\n",
       "    <tr>\n",
       "      <th>1</th>\n",
       "      <td>1</td>\n",
       "      <td>38.0</td>\n",
       "      <td>71.2833</td>\n",
       "      <td>1</td>\n",
       "      <td>0</td>\n",
       "      <td>0</td>\n",
       "      <td>1</td>\n",
       "      <td>0</td>\n",
       "      <td>0</td>\n",
       "      <td>1</td>\n",
       "      <td>...</td>\n",
       "      <td>1</td>\n",
       "      <td>0</td>\n",
       "      <td>0</td>\n",
       "      <td>0</td>\n",
       "      <td>0</td>\n",
       "      <td>0</td>\n",
       "      <td>0</td>\n",
       "      <td>1</td>\n",
       "      <td>0</td>\n",
       "      <td>0</td>\n",
       "    </tr>\n",
       "    <tr>\n",
       "      <th>2</th>\n",
       "      <td>1</td>\n",
       "      <td>26.0</td>\n",
       "      <td>7.9250</td>\n",
       "      <td>0</td>\n",
       "      <td>0</td>\n",
       "      <td>1</td>\n",
       "      <td>1</td>\n",
       "      <td>0</td>\n",
       "      <td>1</td>\n",
       "      <td>0</td>\n",
       "      <td>...</td>\n",
       "      <td>1</td>\n",
       "      <td>0</td>\n",
       "      <td>0</td>\n",
       "      <td>0</td>\n",
       "      <td>0</td>\n",
       "      <td>0</td>\n",
       "      <td>0</td>\n",
       "      <td>0</td>\n",
       "      <td>0</td>\n",
       "      <td>1</td>\n",
       "    </tr>\n",
       "    <tr>\n",
       "      <th>3</th>\n",
       "      <td>1</td>\n",
       "      <td>35.0</td>\n",
       "      <td>53.1000</td>\n",
       "      <td>1</td>\n",
       "      <td>0</td>\n",
       "      <td>0</td>\n",
       "      <td>1</td>\n",
       "      <td>0</td>\n",
       "      <td>0</td>\n",
       "      <td>1</td>\n",
       "      <td>...</td>\n",
       "      <td>1</td>\n",
       "      <td>0</td>\n",
       "      <td>0</td>\n",
       "      <td>0</td>\n",
       "      <td>0</td>\n",
       "      <td>0</td>\n",
       "      <td>0</td>\n",
       "      <td>0</td>\n",
       "      <td>0</td>\n",
       "      <td>1</td>\n",
       "    </tr>\n",
       "    <tr>\n",
       "      <th>4</th>\n",
       "      <td>0</td>\n",
       "      <td>35.0</td>\n",
       "      <td>8.0500</td>\n",
       "      <td>0</td>\n",
       "      <td>0</td>\n",
       "      <td>1</td>\n",
       "      <td>0</td>\n",
       "      <td>1</td>\n",
       "      <td>1</td>\n",
       "      <td>0</td>\n",
       "      <td>...</td>\n",
       "      <td>1</td>\n",
       "      <td>0</td>\n",
       "      <td>0</td>\n",
       "      <td>0</td>\n",
       "      <td>0</td>\n",
       "      <td>0</td>\n",
       "      <td>0</td>\n",
       "      <td>0</td>\n",
       "      <td>0</td>\n",
       "      <td>1</td>\n",
       "    </tr>\n",
       "  </tbody>\n",
       "</table>\n",
       "<p>5 rows × 25 columns</p>\n",
       "</div>"
      ],
      "text/plain": [
       "   Survived   Age     Fare  Pclass_1  Pclass_2  Pclass_3  Sex_female  \\\n",
       "0         0  22.0   7.2500         0         0         1           0   \n",
       "1         1  38.0  71.2833         1         0         0           1   \n",
       "2         1  26.0   7.9250         0         0         1           1   \n",
       "3         1  35.0  53.1000         1         0         0           1   \n",
       "4         0  35.0   8.0500         0         0         1           0   \n",
       "\n",
       "   Sex_male  SibSp_0  SibSp_1  ...  Parch_0  Parch_1  Parch_2  Parch_3  \\\n",
       "0         1        0        1  ...        1        0        0        0   \n",
       "1         0        0        1  ...        1        0        0        0   \n",
       "2         0        1        0  ...        1        0        0        0   \n",
       "3         0        0        1  ...        1        0        0        0   \n",
       "4         1        1        0  ...        1        0        0        0   \n",
       "\n",
       "   Parch_4  Parch_5  Parch_6  Embarked_C  Embarked_Q  Embarked_S  \n",
       "0        0        0        0           0           0           1  \n",
       "1        0        0        0           1           0           0  \n",
       "2        0        0        0           0           0           1  \n",
       "3        0        0        0           0           0           1  \n",
       "4        0        0        0           0           0           1  \n",
       "\n",
       "[5 rows x 25 columns]"
      ]
     },
     "execution_count": 2,
     "metadata": {},
     "output_type": "execute_result"
    }
   ],
   "source": [
    "data = pd.read_csv('data_cleaned.csv')\n",
    "data.head()"
   ]
  },
  {
   "cell_type": "markdown",
   "metadata": {
    "colab_type": "text",
    "id": "hGxgnJmxj3nv"
   },
   "source": [
    "### Segregating variables: Independent and Dependent Variables"
   ]
  },
  {
   "cell_type": "code",
   "execution_count": 3,
   "metadata": {
    "colab": {
     "base_uri": "https://localhost:8080/",
     "height": 34
    },
    "colab_type": "code",
    "executionInfo": {
     "elapsed": 2634,
     "status": "ok",
     "timestamp": 1559907752332,
     "user": {
      "displayName": "Aishwarya Singh",
      "photoUrl": "https://lh5.googleusercontent.com/-72ZtNB76Qxg/AAAAAAAAAAI/AAAAAAAAAAc/Nsa5vQruND0/s64/photo.jpg",
      "userId": "01105858832371513140"
     },
     "user_tz": -330
    },
    "id": "rym4fnPq9xXG",
    "outputId": "103a10b9-f5d8-4ae3-e3a1-c42a9a1a42f2"
   },
   "outputs": [
    {
     "data": {
      "text/plain": [
       "((891, 24), (891,))"
      ]
     },
     "execution_count": 3,
     "metadata": {},
     "output_type": "execute_result"
    }
   ],
   "source": [
    "#seperating independent and dependent variables\n",
    "x = data.drop(['Survived'], axis=1)\n",
    "y = data['Survived']\n",
    "x.shape, y.shape"
   ]
  },
  {
   "cell_type": "markdown",
   "metadata": {
    "colab_type": "text",
    "id": "pAQY_EKnGpZ3"
   },
   "source": [
    "### Splitting the data into train set and the test set"
   ]
  },
  {
   "cell_type": "code",
   "execution_count": 4,
   "metadata": {
    "colab": {},
    "colab_type": "code",
    "id": "-PcDK1re9xXM"
   },
   "outputs": [],
   "source": [
    "# Importing the train test split function\n",
    "from sklearn.model_selection import train_test_split\n",
    "train_x,test_x,train_y,test_y = train_test_split(x,y, random_state = 56)"
   ]
  },
  {
   "cell_type": "markdown",
   "metadata": {
    "colab_type": "text",
    "id": "Fl_ddY0xgfl5"
   },
   "source": [
    "### Normalising using *min_max_scaler*"
   ]
  },
  {
   "cell_type": "code",
   "execution_count": 5,
   "metadata": {
    "colab": {},
    "colab_type": "code",
    "id": "Tsoh_kCkgfmQ"
   },
   "outputs": [],
   "source": [
    "from sklearn.preprocessing import MinMaxScaler\n",
    "scaler = MinMaxScaler()"
   ]
  },
  {
   "cell_type": "code",
   "execution_count": 6,
   "metadata": {
    "colab": {
     "base_uri": "https://localhost:8080/",
     "height": 121
    },
    "colab_type": "code",
    "executionInfo": {
     "elapsed": 2846,
     "status": "ok",
     "timestamp": 1559907753469,
     "user": {
      "displayName": "Aishwarya Singh",
      "photoUrl": "https://lh5.googleusercontent.com/-72ZtNB76Qxg/AAAAAAAAAAI/AAAAAAAAAAc/Nsa5vQruND0/s64/photo.jpg",
      "userId": "01105858832371513140"
     },
     "user_tz": -330
    },
    "id": "-OpAcJQ7gfmj",
    "outputId": "d06ed210-cafc-41ee-f6fd-ace7e7f90710"
   },
   "outputs": [
    {
     "data": {
      "text/plain": [
       "Index(['Age', 'Fare', 'Pclass_1', 'Pclass_2', 'Pclass_3', 'Sex_female',\n",
       "       'Sex_male', 'SibSp_0', 'SibSp_1', 'SibSp_2', 'SibSp_3', 'SibSp_4',\n",
       "       'SibSp_5', 'SibSp_8', 'Parch_0', 'Parch_1', 'Parch_2', 'Parch_3',\n",
       "       'Parch_4', 'Parch_5', 'Parch_6', 'Embarked_C', 'Embarked_Q',\n",
       "       'Embarked_S'],\n",
       "      dtype='object')"
      ]
     },
     "execution_count": 6,
     "metadata": {},
     "output_type": "execute_result"
    }
   ],
   "source": [
    "cols = train_x.columns\n",
    "cols"
   ]
  },
  {
   "cell_type": "code",
   "execution_count": 7,
   "metadata": {
    "colab": {
     "base_uri": "https://localhost:8080/",
     "height": 226
    },
    "colab_type": "code",
    "executionInfo": {
     "elapsed": 2623,
     "status": "ok",
     "timestamp": 1559907753472,
     "user": {
      "displayName": "Aishwarya Singh",
      "photoUrl": "https://lh5.googleusercontent.com/-72ZtNB76Qxg/AAAAAAAAAAI/AAAAAAAAAAc/Nsa5vQruND0/s64/photo.jpg",
      "userId": "01105858832371513140"
     },
     "user_tz": -330
    },
    "id": "TqAHX6eYgfmy",
    "outputId": "eea41bdb-e250-4d8b-d72b-ac15b7322d04"
   },
   "outputs": [
    {
     "data": {
      "text/html": [
       "<div>\n",
       "<style scoped>\n",
       "    .dataframe tbody tr th:only-of-type {\n",
       "        vertical-align: middle;\n",
       "    }\n",
       "\n",
       "    .dataframe tbody tr th {\n",
       "        vertical-align: top;\n",
       "    }\n",
       "\n",
       "    .dataframe thead th {\n",
       "        text-align: right;\n",
       "    }\n",
       "</style>\n",
       "<table border=\"1\" class=\"dataframe\">\n",
       "  <thead>\n",
       "    <tr style=\"text-align: right;\">\n",
       "      <th></th>\n",
       "      <th>Age</th>\n",
       "      <th>Fare</th>\n",
       "      <th>Pclass_1</th>\n",
       "      <th>Pclass_2</th>\n",
       "      <th>Pclass_3</th>\n",
       "      <th>Sex_female</th>\n",
       "      <th>Sex_male</th>\n",
       "      <th>SibSp_0</th>\n",
       "      <th>SibSp_1</th>\n",
       "      <th>SibSp_2</th>\n",
       "      <th>...</th>\n",
       "      <th>Parch_0</th>\n",
       "      <th>Parch_1</th>\n",
       "      <th>Parch_2</th>\n",
       "      <th>Parch_3</th>\n",
       "      <th>Parch_4</th>\n",
       "      <th>Parch_5</th>\n",
       "      <th>Parch_6</th>\n",
       "      <th>Embarked_C</th>\n",
       "      <th>Embarked_Q</th>\n",
       "      <th>Embarked_S</th>\n",
       "    </tr>\n",
       "  </thead>\n",
       "  <tbody>\n",
       "    <tr>\n",
       "      <th>0</th>\n",
       "      <td>0.371701</td>\n",
       "      <td>0.024350</td>\n",
       "      <td>0.0</td>\n",
       "      <td>0.0</td>\n",
       "      <td>1.0</td>\n",
       "      <td>1.0</td>\n",
       "      <td>0.0</td>\n",
       "      <td>1.0</td>\n",
       "      <td>0.0</td>\n",
       "      <td>0.0</td>\n",
       "      <td>...</td>\n",
       "      <td>1.0</td>\n",
       "      <td>0.0</td>\n",
       "      <td>0.0</td>\n",
       "      <td>0.0</td>\n",
       "      <td>0.0</td>\n",
       "      <td>0.0</td>\n",
       "      <td>0.0</td>\n",
       "      <td>0.0</td>\n",
       "      <td>0.0</td>\n",
       "      <td>1.0</td>\n",
       "    </tr>\n",
       "    <tr>\n",
       "      <th>1</th>\n",
       "      <td>0.334004</td>\n",
       "      <td>0.016908</td>\n",
       "      <td>0.0</td>\n",
       "      <td>0.0</td>\n",
       "      <td>1.0</td>\n",
       "      <td>0.0</td>\n",
       "      <td>1.0</td>\n",
       "      <td>1.0</td>\n",
       "      <td>0.0</td>\n",
       "      <td>0.0</td>\n",
       "      <td>...</td>\n",
       "      <td>1.0</td>\n",
       "      <td>0.0</td>\n",
       "      <td>0.0</td>\n",
       "      <td>0.0</td>\n",
       "      <td>0.0</td>\n",
       "      <td>0.0</td>\n",
       "      <td>0.0</td>\n",
       "      <td>0.0</td>\n",
       "      <td>0.0</td>\n",
       "      <td>1.0</td>\n",
       "    </tr>\n",
       "    <tr>\n",
       "      <th>2</th>\n",
       "      <td>0.396833</td>\n",
       "      <td>0.015127</td>\n",
       "      <td>0.0</td>\n",
       "      <td>0.0</td>\n",
       "      <td>1.0</td>\n",
       "      <td>0.0</td>\n",
       "      <td>1.0</td>\n",
       "      <td>1.0</td>\n",
       "      <td>0.0</td>\n",
       "      <td>0.0</td>\n",
       "      <td>...</td>\n",
       "      <td>1.0</td>\n",
       "      <td>0.0</td>\n",
       "      <td>0.0</td>\n",
       "      <td>0.0</td>\n",
       "      <td>0.0</td>\n",
       "      <td>0.0</td>\n",
       "      <td>0.0</td>\n",
       "      <td>0.0</td>\n",
       "      <td>1.0</td>\n",
       "      <td>0.0</td>\n",
       "    </tr>\n",
       "    <tr>\n",
       "      <th>3</th>\n",
       "      <td>0.786378</td>\n",
       "      <td>0.152164</td>\n",
       "      <td>1.0</td>\n",
       "      <td>0.0</td>\n",
       "      <td>0.0</td>\n",
       "      <td>1.0</td>\n",
       "      <td>0.0</td>\n",
       "      <td>0.0</td>\n",
       "      <td>1.0</td>\n",
       "      <td>0.0</td>\n",
       "      <td>...</td>\n",
       "      <td>1.0</td>\n",
       "      <td>0.0</td>\n",
       "      <td>0.0</td>\n",
       "      <td>0.0</td>\n",
       "      <td>0.0</td>\n",
       "      <td>0.0</td>\n",
       "      <td>0.0</td>\n",
       "      <td>0.0</td>\n",
       "      <td>0.0</td>\n",
       "      <td>1.0</td>\n",
       "    </tr>\n",
       "    <tr>\n",
       "      <th>4</th>\n",
       "      <td>0.334004</td>\n",
       "      <td>0.412821</td>\n",
       "      <td>1.0</td>\n",
       "      <td>0.0</td>\n",
       "      <td>0.0</td>\n",
       "      <td>0.0</td>\n",
       "      <td>1.0</td>\n",
       "      <td>1.0</td>\n",
       "      <td>0.0</td>\n",
       "      <td>0.0</td>\n",
       "      <td>...</td>\n",
       "      <td>0.0</td>\n",
       "      <td>0.0</td>\n",
       "      <td>1.0</td>\n",
       "      <td>0.0</td>\n",
       "      <td>0.0</td>\n",
       "      <td>0.0</td>\n",
       "      <td>0.0</td>\n",
       "      <td>1.0</td>\n",
       "      <td>0.0</td>\n",
       "      <td>0.0</td>\n",
       "    </tr>\n",
       "  </tbody>\n",
       "</table>\n",
       "<p>5 rows × 24 columns</p>\n",
       "</div>"
      ],
      "text/plain": [
       "        Age      Fare  Pclass_1  Pclass_2  Pclass_3  Sex_female  Sex_male  \\\n",
       "0  0.371701  0.024350       0.0       0.0       1.0         1.0       0.0   \n",
       "1  0.334004  0.016908       0.0       0.0       1.0         0.0       1.0   \n",
       "2  0.396833  0.015127       0.0       0.0       1.0         0.0       1.0   \n",
       "3  0.786378  0.152164       1.0       0.0       0.0         1.0       0.0   \n",
       "4  0.334004  0.412821       1.0       0.0       0.0         0.0       1.0   \n",
       "\n",
       "   SibSp_0  SibSp_1  SibSp_2  ...  Parch_0  Parch_1  Parch_2  Parch_3  \\\n",
       "0      1.0      0.0      0.0  ...      1.0      0.0      0.0      0.0   \n",
       "1      1.0      0.0      0.0  ...      1.0      0.0      0.0      0.0   \n",
       "2      1.0      0.0      0.0  ...      1.0      0.0      0.0      0.0   \n",
       "3      0.0      1.0      0.0  ...      1.0      0.0      0.0      0.0   \n",
       "4      1.0      0.0      0.0  ...      0.0      0.0      1.0      0.0   \n",
       "\n",
       "   Parch_4  Parch_5  Parch_6  Embarked_C  Embarked_Q  Embarked_S  \n",
       "0      0.0      0.0      0.0         0.0         0.0         1.0  \n",
       "1      0.0      0.0      0.0         0.0         0.0         1.0  \n",
       "2      0.0      0.0      0.0         0.0         1.0         0.0  \n",
       "3      0.0      0.0      0.0         0.0         0.0         1.0  \n",
       "4      0.0      0.0      0.0         1.0         0.0         0.0  \n",
       "\n",
       "[5 rows x 24 columns]"
      ]
     },
     "execution_count": 7,
     "metadata": {},
     "output_type": "execute_result"
    }
   ],
   "source": [
    "train_x_scaled = scaler.fit_transform(train_x)\n",
    "train_x_scaled = pd.DataFrame(train_x_scaled, columns=cols)\n",
    "train_x_scaled.head()"
   ]
  },
  {
   "cell_type": "code",
   "execution_count": 8,
   "metadata": {
    "colab": {
     "base_uri": "https://localhost:8080/",
     "height": 226
    },
    "colab_type": "code",
    "executionInfo": {
     "elapsed": 2421,
     "status": "ok",
     "timestamp": 1559907753473,
     "user": {
      "displayName": "Aishwarya Singh",
      "photoUrl": "https://lh5.googleusercontent.com/-72ZtNB76Qxg/AAAAAAAAAAI/AAAAAAAAAAc/Nsa5vQruND0/s64/photo.jpg",
      "userId": "01105858832371513140"
     },
     "user_tz": -330
    },
    "id": "p4BEqpnpgfnB",
    "outputId": "2ced4da2-ae4e-4f54-da25-269453cd9e25"
   },
   "outputs": [
    {
     "data": {
      "text/html": [
       "<div>\n",
       "<style scoped>\n",
       "    .dataframe tbody tr th:only-of-type {\n",
       "        vertical-align: middle;\n",
       "    }\n",
       "\n",
       "    .dataframe tbody tr th {\n",
       "        vertical-align: top;\n",
       "    }\n",
       "\n",
       "    .dataframe thead th {\n",
       "        text-align: right;\n",
       "    }\n",
       "</style>\n",
       "<table border=\"1\" class=\"dataframe\">\n",
       "  <thead>\n",
       "    <tr style=\"text-align: right;\">\n",
       "      <th></th>\n",
       "      <th>Age</th>\n",
       "      <th>Fare</th>\n",
       "      <th>Pclass_1</th>\n",
       "      <th>Pclass_2</th>\n",
       "      <th>Pclass_3</th>\n",
       "      <th>Sex_female</th>\n",
       "      <th>Sex_male</th>\n",
       "      <th>SibSp_0</th>\n",
       "      <th>SibSp_1</th>\n",
       "      <th>SibSp_2</th>\n",
       "      <th>...</th>\n",
       "      <th>Parch_0</th>\n",
       "      <th>Parch_1</th>\n",
       "      <th>Parch_2</th>\n",
       "      <th>Parch_3</th>\n",
       "      <th>Parch_4</th>\n",
       "      <th>Parch_5</th>\n",
       "      <th>Parch_6</th>\n",
       "      <th>Embarked_C</th>\n",
       "      <th>Embarked_Q</th>\n",
       "      <th>Embarked_S</th>\n",
       "    </tr>\n",
       "  </thead>\n",
       "  <tbody>\n",
       "    <tr>\n",
       "      <th>0</th>\n",
       "      <td>0.396833</td>\n",
       "      <td>0.143462</td>\n",
       "      <td>0.0</td>\n",
       "      <td>1.0</td>\n",
       "      <td>0.0</td>\n",
       "      <td>0.0</td>\n",
       "      <td>1.0</td>\n",
       "      <td>0.0</td>\n",
       "      <td>0.0</td>\n",
       "      <td>1.0</td>\n",
       "      <td>...</td>\n",
       "      <td>1.0</td>\n",
       "      <td>0.0</td>\n",
       "      <td>0.0</td>\n",
       "      <td>0.0</td>\n",
       "      <td>0.0</td>\n",
       "      <td>0.0</td>\n",
       "      <td>0.0</td>\n",
       "      <td>0.0</td>\n",
       "      <td>0.0</td>\n",
       "      <td>1.0</td>\n",
       "    </tr>\n",
       "    <tr>\n",
       "      <th>1</th>\n",
       "      <td>0.359135</td>\n",
       "      <td>0.129995</td>\n",
       "      <td>1.0</td>\n",
       "      <td>0.0</td>\n",
       "      <td>0.0</td>\n",
       "      <td>0.0</td>\n",
       "      <td>1.0</td>\n",
       "      <td>0.0</td>\n",
       "      <td>1.0</td>\n",
       "      <td>0.0</td>\n",
       "      <td>...</td>\n",
       "      <td>1.0</td>\n",
       "      <td>0.0</td>\n",
       "      <td>0.0</td>\n",
       "      <td>0.0</td>\n",
       "      <td>0.0</td>\n",
       "      <td>0.0</td>\n",
       "      <td>0.0</td>\n",
       "      <td>0.0</td>\n",
       "      <td>0.0</td>\n",
       "      <td>1.0</td>\n",
       "    </tr>\n",
       "    <tr>\n",
       "      <th>2</th>\n",
       "      <td>0.367921</td>\n",
       "      <td>0.014110</td>\n",
       "      <td>0.0</td>\n",
       "      <td>0.0</td>\n",
       "      <td>1.0</td>\n",
       "      <td>0.0</td>\n",
       "      <td>1.0</td>\n",
       "      <td>1.0</td>\n",
       "      <td>0.0</td>\n",
       "      <td>0.0</td>\n",
       "      <td>...</td>\n",
       "      <td>1.0</td>\n",
       "      <td>0.0</td>\n",
       "      <td>0.0</td>\n",
       "      <td>0.0</td>\n",
       "      <td>0.0</td>\n",
       "      <td>0.0</td>\n",
       "      <td>0.0</td>\n",
       "      <td>1.0</td>\n",
       "      <td>0.0</td>\n",
       "      <td>0.0</td>\n",
       "    </tr>\n",
       "    <tr>\n",
       "      <th>3</th>\n",
       "      <td>0.346569</td>\n",
       "      <td>0.025374</td>\n",
       "      <td>0.0</td>\n",
       "      <td>1.0</td>\n",
       "      <td>0.0</td>\n",
       "      <td>1.0</td>\n",
       "      <td>0.0</td>\n",
       "      <td>1.0</td>\n",
       "      <td>0.0</td>\n",
       "      <td>0.0</td>\n",
       "      <td>...</td>\n",
       "      <td>1.0</td>\n",
       "      <td>0.0</td>\n",
       "      <td>0.0</td>\n",
       "      <td>0.0</td>\n",
       "      <td>0.0</td>\n",
       "      <td>0.0</td>\n",
       "      <td>0.0</td>\n",
       "      <td>0.0</td>\n",
       "      <td>0.0</td>\n",
       "      <td>1.0</td>\n",
       "    </tr>\n",
       "    <tr>\n",
       "      <th>4</th>\n",
       "      <td>0.371701</td>\n",
       "      <td>0.054164</td>\n",
       "      <td>1.0</td>\n",
       "      <td>0.0</td>\n",
       "      <td>0.0</td>\n",
       "      <td>0.0</td>\n",
       "      <td>1.0</td>\n",
       "      <td>1.0</td>\n",
       "      <td>0.0</td>\n",
       "      <td>0.0</td>\n",
       "      <td>...</td>\n",
       "      <td>1.0</td>\n",
       "      <td>0.0</td>\n",
       "      <td>0.0</td>\n",
       "      <td>0.0</td>\n",
       "      <td>0.0</td>\n",
       "      <td>0.0</td>\n",
       "      <td>0.0</td>\n",
       "      <td>1.0</td>\n",
       "      <td>0.0</td>\n",
       "      <td>0.0</td>\n",
       "    </tr>\n",
       "  </tbody>\n",
       "</table>\n",
       "<p>5 rows × 24 columns</p>\n",
       "</div>"
      ],
      "text/plain": [
       "        Age      Fare  Pclass_1  Pclass_2  Pclass_3  Sex_female  Sex_male  \\\n",
       "0  0.396833  0.143462       0.0       1.0       0.0         0.0       1.0   \n",
       "1  0.359135  0.129995       1.0       0.0       0.0         0.0       1.0   \n",
       "2  0.367921  0.014110       0.0       0.0       1.0         0.0       1.0   \n",
       "3  0.346569  0.025374       0.0       1.0       0.0         1.0       0.0   \n",
       "4  0.371701  0.054164       1.0       0.0       0.0         0.0       1.0   \n",
       "\n",
       "   SibSp_0  SibSp_1  SibSp_2  ...  Parch_0  Parch_1  Parch_2  Parch_3  \\\n",
       "0      0.0      0.0      1.0  ...      1.0      0.0      0.0      0.0   \n",
       "1      0.0      1.0      0.0  ...      1.0      0.0      0.0      0.0   \n",
       "2      1.0      0.0      0.0  ...      1.0      0.0      0.0      0.0   \n",
       "3      1.0      0.0      0.0  ...      1.0      0.0      0.0      0.0   \n",
       "4      1.0      0.0      0.0  ...      1.0      0.0      0.0      0.0   \n",
       "\n",
       "   Parch_4  Parch_5  Parch_6  Embarked_C  Embarked_Q  Embarked_S  \n",
       "0      0.0      0.0      0.0         0.0         0.0         1.0  \n",
       "1      0.0      0.0      0.0         0.0         0.0         1.0  \n",
       "2      0.0      0.0      0.0         1.0         0.0         0.0  \n",
       "3      0.0      0.0      0.0         0.0         0.0         1.0  \n",
       "4      0.0      0.0      0.0         1.0         0.0         0.0  \n",
       "\n",
       "[5 rows x 24 columns]"
      ]
     },
     "execution_count": 8,
     "metadata": {},
     "output_type": "execute_result"
    }
   ],
   "source": [
    "test_x_scaled = scaler.transform(test_x)\n",
    "test_x_scaled = pd.DataFrame(test_x_scaled, columns=cols)\n",
    "test_x_scaled.head()"
   ]
  },
  {
   "cell_type": "markdown",
   "metadata": {
    "colab_type": "text",
    "id": "WvsDKzjdyNWi"
   },
   "source": [
    "### Implementing Logistic Regression"
   ]
  },
  {
   "cell_type": "code",
   "execution_count": 9,
   "metadata": {
    "colab": {},
    "colab_type": "code",
    "id": "yCG2gM5KyM-1"
   },
   "outputs": [],
   "source": [
    "#importing Logistic Regression and metric F1-score\n",
    "from sklearn.linear_model import LogisticRegression as LogReg\n",
    "from sklearn.metrics import f1_score"
   ]
  },
  {
   "cell_type": "code",
   "execution_count": 10,
   "metadata": {
    "colab": {
     "base_uri": "https://localhost:8080/",
     "height": 159
    },
    "colab_type": "code",
    "executionInfo": {
     "elapsed": 2906,
     "status": "ok",
     "timestamp": 1559907754529,
     "user": {
      "displayName": "Aishwarya Singh",
      "photoUrl": "https://lh5.googleusercontent.com/-72ZtNB76Qxg/AAAAAAAAAAI/AAAAAAAAAAc/Nsa5vQruND0/s64/photo.jpg",
      "userId": "01105858832371513140"
     },
     "user_tz": -330
    },
    "id": "TFrwDTRdybYF",
    "outputId": "be6a8867-192c-445b-a4ef-6ef855d43c89"
   },
   "outputs": [
    {
     "name": "stderr",
     "output_type": "stream",
     "text": [
      "C:\\Users\\dell\\Machine\\Anaconda3\\lib\\site-packages\\sklearn\\linear_model\\logistic.py:432: FutureWarning: Default solver will be changed to 'lbfgs' in 0.22. Specify a solver to silence this warning.\n",
      "  FutureWarning)\n"
     ]
    },
    {
     "data": {
      "text/plain": [
       "LogisticRegression(C=1.0, class_weight=None, dual=False, fit_intercept=True,\n",
       "                   intercept_scaling=1, l1_ratio=None, max_iter=100,\n",
       "                   multi_class='warn', n_jobs=None, penalty='l2',\n",
       "                   random_state=None, solver='warn', tol=0.0001, verbose=0,\n",
       "                   warm_start=False)"
      ]
     },
     "execution_count": 10,
     "metadata": {},
     "output_type": "execute_result"
    }
   ],
   "source": [
    "# Creating instance of Logistic Regresssion\n",
    "logreg = LogReg()\n",
    "\n",
    "# Fitting the model\n",
    "logreg.fit(train_x, train_y)"
   ]
  },
  {
   "cell_type": "markdown",
   "metadata": {
    "colab_type": "text",
    "id": "ll87PoJuPI4n"
   },
   "source": [
    "### Making predictions using *predict* function"
   ]
  },
  {
   "cell_type": "code",
   "execution_count": 11,
   "metadata": {
    "colab": {
     "base_uri": "https://localhost:8080/",
     "height": 555
    },
    "colab_type": "code",
    "executionInfo": {
     "elapsed": 2419,
     "status": "ok",
     "timestamp": 1559907754532,
     "user": {
      "displayName": "Aishwarya Singh",
      "photoUrl": "https://lh5.googleusercontent.com/-72ZtNB76Qxg/AAAAAAAAAAI/AAAAAAAAAAc/Nsa5vQruND0/s64/photo.jpg",
      "userId": "01105858832371513140"
     },
     "user_tz": -330
    },
    "id": "8lCGfbmBI-kj",
    "outputId": "4947b5a9-9709-4629-f85a-d018c369aa1e"
   },
   "outputs": [
    {
     "data": {
      "text/plain": [
       "array([0, 0, 0, 1, 1, 0, 1, 1, 1, 0, 0, 0, 0, 0, 1, 0, 0, 0, 0, 0, 0, 0,\n",
       "       0, 1, 0, 1, 0, 1, 1, 0, 1, 0, 1, 0, 0, 1, 0, 0, 0, 0, 1, 0, 0, 1,\n",
       "       0, 1, 0, 0, 0, 1, 0, 1, 0, 1, 0, 1, 1, 0, 0, 0, 1, 0, 0, 0, 0, 1,\n",
       "       0, 0, 1, 1, 1, 1, 1, 0, 1, 0, 1, 1, 1, 0, 1, 0, 0, 0, 1, 1, 1, 0,\n",
       "       0, 1, 0, 0, 0, 0, 0, 1, 0, 0, 1, 1, 0, 0, 0, 0, 0, 0, 0, 0, 1, 0,\n",
       "       0, 0, 0, 0, 1, 0, 0, 1, 0, 0, 1, 1, 0, 0, 1, 0, 0, 1, 0, 1, 0, 0,\n",
       "       0, 1, 0, 0, 1, 0, 0, 1, 1, 0, 1, 0, 0, 0, 0, 1, 1, 1, 1, 0, 1, 0,\n",
       "       0, 0, 0, 0, 0, 1, 0, 0, 0, 1, 0, 0, 0, 1, 0, 1, 0, 1, 1, 0, 0, 0,\n",
       "       1, 0, 0, 0, 0, 0, 0, 0, 1, 0, 1, 0, 0, 0, 0, 0, 1, 0, 0, 0, 0, 1,\n",
       "       1, 0, 0, 0, 1, 0, 0, 1, 1, 0, 1, 0, 1, 1, 0, 0, 1, 0, 0, 1, 1, 0,\n",
       "       0, 0, 0, 1, 0, 0, 0, 1, 0, 0, 1, 0, 0, 0, 0, 1, 0, 1, 0, 0, 0, 0,\n",
       "       0, 0, 1, 0, 1, 0, 1, 0, 1, 0, 1, 1, 1, 0, 0, 0, 0, 0, 0, 1, 0, 0,\n",
       "       1, 0, 1, 0, 0, 0, 1, 0, 1, 1, 0, 0, 0, 0, 0, 0, 0, 0, 1, 0, 0, 0,\n",
       "       0, 1, 0, 1, 1, 1, 1, 0, 0, 1, 0, 0, 1, 0, 1, 0, 0, 0, 0, 0, 0, 0,\n",
       "       0, 1, 1, 0, 0, 0, 0, 0, 0, 0, 0, 1, 0, 0, 1, 1, 0, 0, 1, 0, 0, 0,\n",
       "       0, 0, 0, 0, 0, 0, 0, 0, 1, 0, 0, 1, 0, 0, 0, 0, 1, 0, 0, 0, 0, 0,\n",
       "       1, 0, 0, 1, 0, 0, 0, 0, 1, 1, 0, 0, 0, 1, 0, 0, 1, 1, 1, 1, 0, 1,\n",
       "       0, 0, 0, 0, 1, 1, 0, 1, 0, 0, 0, 1, 0, 0, 0, 1, 0, 0, 1, 0, 0, 1,\n",
       "       1, 0, 0, 1, 1, 1, 1, 0, 0, 0, 0, 0, 1, 0, 0, 1, 0, 0, 0, 0, 1, 1,\n",
       "       1, 1, 0, 1, 1, 0, 1, 0, 1, 0, 0, 0, 1, 1, 0, 0, 0, 1, 0, 0, 1, 0,\n",
       "       0, 0, 1, 0, 1, 1, 1, 1, 1, 1, 1, 0, 0, 0, 0, 1, 0, 0, 0, 0, 0, 0,\n",
       "       1, 1, 1, 0, 0, 1, 0, 1, 1, 1, 1, 1, 0, 0, 1, 0, 0, 1, 1, 1, 0, 0,\n",
       "       1, 0, 0, 0, 1, 0, 0, 0, 1, 1, 0, 1, 1, 0, 0, 0, 0, 0, 0, 1, 0, 0,\n",
       "       1, 0, 0, 0, 1, 0, 1, 0, 0, 0, 0, 0, 0, 0, 0, 1, 0, 1, 1, 0, 0, 1,\n",
       "       0, 0, 0, 1, 0, 0, 0, 0, 1, 0, 0, 0, 1, 0, 1, 1, 0, 0, 1, 1, 0, 0,\n",
       "       0, 0, 0, 1, 0, 1, 0, 0, 0, 1, 1, 0, 0, 0, 1, 0, 1, 1, 1, 1, 0, 1,\n",
       "       0, 1, 0, 0, 0, 0, 0, 1, 0, 0, 1, 0, 0, 0, 1, 0, 0, 0, 1, 1, 0, 0,\n",
       "       1, 1, 0, 0, 0, 0, 1, 0, 1, 0, 1, 1, 0, 0, 0, 0, 0, 0, 1, 0, 1, 1,\n",
       "       0, 0, 0, 1, 0, 1, 0, 0, 0, 1, 0, 1, 1, 0, 0, 0, 0, 0, 0, 0, 0, 1,\n",
       "       1, 1, 0, 0, 0, 1, 0, 0, 1, 1, 0, 1, 1, 0, 1, 1, 1, 0, 1, 1, 0, 0,\n",
       "       1, 0, 0, 0, 1, 1, 1, 1], dtype=int64)"
      ]
     },
     "execution_count": 11,
     "metadata": {},
     "output_type": "execute_result"
    }
   ],
   "source": [
    "# Predicting over the Train\n",
    "train_predict = logreg.predict(train_x)\n",
    "train_predict"
   ]
  },
  {
   "cell_type": "code",
   "execution_count": 12,
   "metadata": {
    "colab": {
     "base_uri": "https://localhost:8080/",
     "height": 34
    },
    "colab_type": "code",
    "executionInfo": {
     "elapsed": 2258,
     "status": "ok",
     "timestamp": 1559907754533,
     "user": {
      "displayName": "Aishwarya Singh",
      "photoUrl": "https://lh5.googleusercontent.com/-72ZtNB76Qxg/AAAAAAAAAAI/AAAAAAAAAAc/Nsa5vQruND0/s64/photo.jpg",
      "userId": "01105858832371513140"
     },
     "user_tz": -330
    },
    "id": "7zgQQS_abvKE",
    "outputId": "9c38b16d-544e-446e-f7f4-dd11003824be"
   },
   "outputs": [
    {
     "name": "stdout",
     "output_type": "stream",
     "text": [
      "Training f1_score 0.7485148514851485\n"
     ]
    }
   ],
   "source": [
    "# Calculating f1-score\n",
    "k = f1_score(train_predict, train_y)\n",
    "print('Training f1_score', k )"
   ]
  },
  {
   "cell_type": "code",
   "execution_count": 13,
   "metadata": {
    "colab": {
     "base_uri": "https://localhost:8080/",
     "height": 34
    },
    "colab_type": "code",
    "executionInfo": {
     "elapsed": 3721,
     "status": "ok",
     "timestamp": 1559907756193,
     "user": {
      "displayName": "Aishwarya Singh",
      "photoUrl": "https://lh5.googleusercontent.com/-72ZtNB76Qxg/AAAAAAAAAAI/AAAAAAAAAAc/Nsa5vQruND0/s64/photo.jpg",
      "userId": "01105858832371513140"
     },
     "user_tz": -330
    },
    "id": "Wf4id-DOJCsn",
    "outputId": "cfc4c660-1865-426c-d37d-6a5ae26dd8a4"
   },
   "outputs": [
    {
     "name": "stdout",
     "output_type": "stream",
     "text": [
      "Test f1_score     0.7500000000000001\n"
     ]
    }
   ],
   "source": [
    "# Predicting over the Test Set and f1-score\n",
    "test_predict = logreg.predict(test_x)\n",
    "k = f1_score(test_predict, test_y)\n",
    "print('Test f1_score    ', k )"
   ]
  },
  {
   "cell_type": "markdown",
   "metadata": {
    "colab_type": "text",
    "id": "GYz-N4EVPapW"
   },
   "source": [
    "### Making predictions using *predict_proba* function"
   ]
  },
  {
   "cell_type": "code",
   "execution_count": 14,
   "metadata": {
    "colab": {
     "base_uri": "https://localhost:8080/",
     "height": 139
    },
    "colab_type": "code",
    "executionInfo": {
     "elapsed": 3219,
     "status": "ok",
     "timestamp": 1559907756195,
     "user": {
      "displayName": "Aishwarya Singh",
      "photoUrl": "https://lh5.googleusercontent.com/-72ZtNB76Qxg/AAAAAAAAAAI/AAAAAAAAAAc/Nsa5vQruND0/s64/photo.jpg",
      "userId": "01105858832371513140"
     },
     "user_tz": -330
    },
    "id": "TdyhO6NmdZ4_",
    "outputId": "1f9f1cb2-0f48-4d3f-951a-d42ee572bc44"
   },
   "outputs": [
    {
     "data": {
      "text/plain": [
       "array([[0.50532299, 0.49467701],\n",
       "       [0.90358557, 0.09641443],\n",
       "       [0.87905516, 0.12094484],\n",
       "       ...,\n",
       "       [0.23180909, 0.76819091],\n",
       "       [0.3139615 , 0.6860385 ],\n",
       "       [0.04488938, 0.95511062]])"
      ]
     },
     "execution_count": 14,
     "metadata": {},
     "output_type": "execute_result"
    }
   ],
   "source": [
    "# Predicting over the Train\n",
    "train_predict = logreg.predict_proba(train_x)\n",
    "train_predict"
   ]
  },
  {
   "cell_type": "code",
   "execution_count": 15,
   "metadata": {
    "colab": {
     "base_uri": "https://localhost:8080/",
     "height": 2344
    },
    "colab_type": "code",
    "executionInfo": {
     "elapsed": 3055,
     "status": "ok",
     "timestamp": 1559907756198,
     "user": {
      "displayName": "Aishwarya Singh",
      "photoUrl": "https://lh5.googleusercontent.com/-72ZtNB76Qxg/AAAAAAAAAAI/AAAAAAAAAAc/Nsa5vQruND0/s64/photo.jpg",
      "userId": "01105858832371513140"
     },
     "user_tz": -330
    },
    "id": "Uan07aK5l9oT",
    "outputId": "fe421e79-fd6e-4723-9a78-97a58765e1f0"
   },
   "outputs": [
    {
     "data": {
      "text/plain": [
       "array([0.49467701, 0.09641443, 0.12094484, 0.7826964 , 0.63158769,\n",
       "       0.11959969, 0.8276528 , 0.76837161, 0.52316437, 0.08819518,\n",
       "       0.10903798, 0.08834939, 0.12710635, 0.09929297, 0.60742357,\n",
       "       0.08735943, 0.30854485, 0.12325234, 0.07441008, 0.28061949,\n",
       "       0.10585236, 0.21134167, 0.07037308, 0.59759534, 0.09323402,\n",
       "       0.52618717, 0.08819866, 0.55834191, 0.59353586, 0.13131489,\n",
       "       0.81433108, 0.08838542, 0.58424828, 0.12972118, 0.01941743,\n",
       "       0.59135583, 0.21086397, 0.13152669, 0.0612354 , 0.27460293,\n",
       "       0.84284741, 0.39026631, 0.20569125, 0.71795573, 0.48472526,\n",
       "       0.94248256, 0.3573382 , 0.23520256, 0.17378959, 0.89340088,\n",
       "       0.13552784, 0.63959863, 0.2301236 , 0.60033807, 0.34034369,\n",
       "       0.64464108, 0.77324435, 0.28159577, 0.11224541, 0.30456324,\n",
       "       0.59461467, 0.28159577, 0.13033412, 0.45512495, 0.10073301,\n",
       "       0.97659383, 0.12001893, 0.08834939, 0.85824021, 0.67783387,\n",
       "       0.93271438, 0.75637983, 0.89304459, 0.44658065, 0.83485791,\n",
       "       0.23687093, 0.86224148, 0.55214579, 0.55621325, 0.13131489,\n",
       "       0.53475458, 0.13080709, 0.13479373, 0.02028359, 0.67893879,\n",
       "       0.94322394, 0.67072673, 0.08032531, 0.26771902, 0.93212215,\n",
       "       0.2979029 , 0.12972799, 0.09506526, 0.12972799, 0.20569125,\n",
       "       0.91146483, 0.3418204 , 0.12711304, 0.55762964, 0.57834495,\n",
       "       0.12972799, 0.12719486, 0.10238649, 0.13394006, 0.13174767,\n",
       "       0.05561826, 0.24643305, 0.0441297 , 0.74265351, 0.30335152,\n",
       "       0.2301236 , 0.43051081, 0.1315253 , 0.12996008, 0.55187684,\n",
       "       0.32760293, 0.1214587 , 0.92653905, 0.11603847, 0.13272724,\n",
       "       0.50877246, 0.5044609 , 0.23100313, 0.39858613, 0.93613385,\n",
       "       0.31812682, 0.37540097, 0.60024817, 0.12971981, 0.6625513 ,\n",
       "       0.09337049, 0.09933298, 0.39033532, 0.90659741, 0.1315253 ,\n",
       "       0.02818336, 0.51625862, 0.06844669, 0.31246679, 0.90818752,\n",
       "       0.92986   , 0.12469738, 0.65739938, 0.10791457, 0.24055093,\n",
       "       0.2480059 , 0.11246836, 0.93062871, 0.86925598, 0.90615759,\n",
       "       0.52613598, 0.48262527, 0.65730971, 0.07459505, 0.45144261,\n",
       "       0.08840002, 0.44375123, 0.27149245, 0.09093211, 0.8033654 ,\n",
       "       0.2966231 , 0.26771902, 0.31632938, 0.66336144, 0.04872749,\n",
       "       0.27326456, 0.12329152, 0.82116015, 0.33371377, 0.93788353,\n",
       "       0.05383518, 0.75574157, 0.61347837, 0.2845418 , 0.31718391,\n",
       "       0.47323358, 0.50944019, 0.38109   , 0.07837294, 0.09322382,\n",
       "       0.0847399 , 0.24638685, 0.04720906, 0.1184547 , 0.92447501,\n",
       "       0.35885625, 0.93105056, 0.25837671, 0.25428406, 0.16146324,\n",
       "       0.15120845, 0.06479288, 0.58345579, 0.31977867, 0.1270983 ,\n",
       "       0.15554443, 0.28159577, 0.90164363, 0.64526552, 0.26149917,\n",
       "       0.45197134, 0.40482075, 0.60024817, 0.11600129, 0.21424469,\n",
       "       0.88449814, 0.62896454, 0.08616329, 0.76816095, 0.12972799,\n",
       "       0.62123027, 0.60024817, 0.13152669, 0.14935047, 0.94556506,\n",
       "       0.08834939, 0.07703553, 0.904417  , 0.60932236, 0.13721523,\n",
       "       0.12337776, 0.31132312, 0.08838542, 0.89224428, 0.21407031,\n",
       "       0.1551269 , 0.08834939, 0.71513852, 0.46679755, 0.13250224,\n",
       "       0.71702871, 0.46203738, 0.08990426, 0.27326456, 0.17513316,\n",
       "       0.73531797, 0.37661157, 0.87274221, 0.1158007 , 0.04074659,\n",
       "       0.23997628, 0.08925085, 0.21086397, 0.13513191, 0.65360057,\n",
       "       0.09929297, 0.65416507, 0.2301236 , 0.54418289, 0.12020921,\n",
       "       0.92176723, 0.092827  , 0.65981822, 0.79962083, 0.95907455,\n",
       "       0.15635221, 0.41266929, 0.13562413, 0.08834939, 0.4462223 ,\n",
       "       0.04562261, 0.62557989, 0.09070963, 0.13033274, 0.92779122,\n",
       "       0.32892667, 0.56469991, 0.08213716, 0.08838542, 0.08832118,\n",
       "       0.74045883, 0.12975393, 0.82615266, 0.67296813, 0.49191333,\n",
       "       0.27529323, 0.33587986, 0.07589358, 0.31448122, 0.32067401,\n",
       "       0.06751161, 0.11959969, 0.60023655, 0.09036735, 0.1013227 ,\n",
       "       0.44330387, 0.05052692, 0.85305466, 0.09619567, 0.82697072,\n",
       "       0.90374658, 0.56259337, 0.94253333, 0.09598891, 0.03139896,\n",
       "       0.95011676, 0.05933208, 0.31887843, 0.63365483, 0.11595668,\n",
       "       0.54198096, 0.44165215, 0.23498163, 0.11002092, 0.12727537,\n",
       "       0.04400805, 0.07704543, 0.31486073, 0.09323402, 0.82200505,\n",
       "       0.60024817, 0.44971566, 0.10222668, 0.2301236 , 0.09004674,\n",
       "       0.1315253 , 0.11596287, 0.18333833, 0.1196595 , 0.56061788,\n",
       "       0.34185796, 0.12861414, 0.80779123, 0.94759709, 0.45762622,\n",
       "       0.31887843, 0.60403969, 0.08826865, 0.13637174, 0.25904277,\n",
       "       0.1233294 , 0.12972799, 0.01941743, 0.25197594, 0.08834939,\n",
       "       0.17305457, 0.10037983, 0.22750101, 0.80947248, 0.0556373 ,\n",
       "       0.28013136, 0.93905836, 0.07985744, 0.07211821, 0.32696829,\n",
       "       0.43204815, 0.65034868, 0.04819653, 0.18905074, 0.49682747,\n",
       "       0.36412738, 0.13455843, 0.80420015, 0.28351057, 0.46485565,\n",
       "       0.80373455, 0.05695518, 0.14550929, 0.13123429, 0.24482671,\n",
       "       0.89857567, 0.62716012, 0.13131489, 0.26816857, 0.47892857,\n",
       "       0.80383383, 0.16629576, 0.08838542, 0.86657555, 0.9617851 ,\n",
       "       0.7565576 , 0.93149602, 0.19834947, 0.65416507, 0.2547189 ,\n",
       "       0.44151692, 0.39049739, 0.03953916, 0.73429261, 0.86133928,\n",
       "       0.12322922, 0.72768116, 0.45840492, 0.12972799, 0.14218929,\n",
       "       0.93563599, 0.2301236 , 0.31827711, 0.30297575, 0.57742828,\n",
       "       0.42842908, 0.35615396, 0.86104122, 0.08821324, 0.08838542,\n",
       "       0.80383383, 0.64360917, 0.06454555, 0.11603847, 0.56910814,\n",
       "       0.76515433, 0.7625295 , 0.90241645, 0.49260979, 0.13201885,\n",
       "       0.119539  , 0.38171788, 0.09045329, 0.88392111, 0.40151365,\n",
       "       0.1147331 , 0.55621325, 0.24773556, 0.11935433, 0.05934827,\n",
       "       0.46059599, 0.96463158, 0.92385141, 0.58615695, 0.84740302,\n",
       "       0.48479425, 0.60481235, 0.6876414 , 0.25052621, 0.80917126,\n",
       "       0.16820656, 0.94406388, 0.10902626, 0.08788108, 0.07219588,\n",
       "       0.62617865, 0.86192881, 0.09377451, 0.06550666, 0.49238822,\n",
       "       0.60024817, 0.23277134, 0.18969894, 0.60010858, 0.22143743,\n",
       "       0.17192873, 0.08210983, 0.64998907, 0.31061904, 0.63238633,\n",
       "       0.70073635, 0.91629952, 0.82496283, 0.9296689 , 0.79930401,\n",
       "       0.53829704, 0.12491103, 0.08834939, 0.08990426, 0.17075963,\n",
       "       0.56026066, 0.12972253, 0.09688325, 0.22116744, 0.43029989,\n",
       "       0.07459505, 0.07671566, 0.88468118, 0.91407537, 0.96444692,\n",
       "       0.20394645, 0.14872608, 0.56644025, 0.25197594, 0.7084632 ,\n",
       "       0.75283332, 0.69991733, 0.9141777 , 0.93249633, 0.08838542,\n",
       "       0.45485256, 0.79223857, 0.22877772, 0.16629576, 0.60051779,\n",
       "       0.59441948, 0.62079972, 0.09337049, 0.2523117 , 0.89797423,\n",
       "       0.1351929 , 0.42483653, 0.4001967 , 0.66270854, 0.09776092,\n",
       "       0.11235985, 0.16529398, 0.73184872, 0.72360153, 0.40800954,\n",
       "       0.89886604, 0.56533293, 0.23311219, 0.08210983, 0.08210983,\n",
       "       0.08209436, 0.44375123, 0.10258932, 0.87542251, 0.08477364,\n",
       "       0.0676662 , 0.85822214, 0.26194203, 0.04409302, 0.12341173,\n",
       "       0.61431589, 0.12972799, 0.92964741, 0.33007956, 0.27326456,\n",
       "       0.13513191, 0.11228154, 0.09617159, 0.12087487, 0.26771902,\n",
       "       0.42273037, 0.76660672, 0.01941743, 0.50849293, 0.94892891,\n",
       "       0.33181724, 0.12640502, 0.89499365, 0.48498897, 0.23208168,\n",
       "       0.40048861, 0.72681197, 0.12404452, 0.04292316, 0.01941743,\n",
       "       0.08834939, 0.53896195, 0.08714136, 0.09030182, 0.04176597,\n",
       "       0.93186956, 0.07067698, 0.57993358, 0.88536092, 0.35865665,\n",
       "       0.46937284, 0.76676668, 0.56210859, 0.09926165, 0.08819866,\n",
       "       0.08832118, 0.08834939, 0.19950485, 0.60023947, 0.13152669,\n",
       "       0.6040426 , 0.12974417, 0.10037983, 0.11289002, 0.73762906,\n",
       "       0.93365095, 0.45016715, 0.30906863, 0.16629576, 0.88368189,\n",
       "       0.26553829, 0.50636623, 0.70799267, 0.90149205, 0.7226407 ,\n",
       "       0.03720396, 0.60030328, 0.05510729, 0.60024817, 0.18490466,\n",
       "       0.38555776, 0.08872483, 0.16792629, 0.12259431, 0.72105101,\n",
       "       0.08220551, 0.11622079, 0.9414122 , 0.2398941 , 0.21086397,\n",
       "       0.05951241, 0.87410234, 0.03575617, 0.37949211, 0.39029307,\n",
       "       0.70758504, 0.84546267, 0.08819866, 0.44335755, 0.82069084,\n",
       "       0.89492352, 0.10918303, 0.03797039, 0.04612539, 0.0359856 ,\n",
       "       0.60024817, 0.13152669, 0.71513852, 0.0556373 , 0.85750587,\n",
       "       0.66379451, 0.10546813, 0.0480093 , 0.11937619, 0.21730699,\n",
       "       0.38655311, 0.11334161, 0.62776446, 0.15160389, 0.9731716 ,\n",
       "       0.78752498, 0.04227134, 0.14095376, 0.13228669, 0.65416507,\n",
       "       0.08750887, 0.6001641 , 0.22602458, 0.12972799, 0.48883613,\n",
       "       0.86912544, 0.1973634 , 0.94390595, 0.77284024, 0.23208168,\n",
       "       0.14594605, 0.06928227, 0.13152669, 0.10574206, 0.05749609,\n",
       "       0.08361598, 0.25428406, 0.67029459, 0.59605862, 0.70757502,\n",
       "       0.11246836, 0.1297239 , 0.08834939, 0.94324366, 0.31718391,\n",
       "       0.11278841, 0.74990434, 0.94907993, 0.33274538, 0.64758123,\n",
       "       0.53290533, 0.14336745, 0.94556506, 0.94858576, 0.68592581,\n",
       "       0.12010319, 0.9475425 , 0.71490494, 0.08838542, 0.25138539,\n",
       "       0.69234755, 0.36327412, 0.49372653, 0.23498163, 0.63573378,\n",
       "       0.76819091, 0.6860385 , 0.95511062])"
      ]
     },
     "execution_count": 15,
     "metadata": {},
     "output_type": "execute_result"
    }
   ],
   "source": [
    "train_preds = train_predict[:,1]\n",
    "train_preds"
   ]
  },
  {
   "cell_type": "code",
   "execution_count": 16,
   "metadata": {
    "colab": {},
    "colab_type": "code",
    "id": "O7_cPchudkR-"
   },
   "outputs": [],
   "source": [
    "for i in range(0, len(train_preds)):\n",
    "  if(train_preds[i]>0.55):\n",
    "    train_preds[i] = 1\n",
    "  else:\n",
    "    train_preds[i] = 0\n",
    "  "
   ]
  },
  {
   "cell_type": "code",
   "execution_count": 17,
   "metadata": {
    "colab": {
     "base_uri": "https://localhost:8080/",
     "height": 34
    },
    "colab_type": "code",
    "executionInfo": {
     "elapsed": 5563,
     "status": "ok",
     "timestamp": 1559907759162,
     "user": {
      "displayName": "Aishwarya Singh",
      "photoUrl": "https://lh5.googleusercontent.com/-72ZtNB76Qxg/AAAAAAAAAAI/AAAAAAAAAAc/Nsa5vQruND0/s64/photo.jpg",
      "userId": "01105858832371513140"
     },
     "user_tz": -330
    },
    "id": "nMS-8UHtm6ul",
    "outputId": "9bc47d7f-ce45-4d2d-846d-547e02184d53"
   },
   "outputs": [
    {
     "name": "stdout",
     "output_type": "stream",
     "text": [
      "Training f1_score 0.7428571428571429\n"
     ]
    }
   ],
   "source": [
    "# Calculating f1-score\n",
    "k = f1_score(train_preds, train_y)\n",
    "print('Training f1_score', k )"
   ]
  },
  {
   "cell_type": "markdown",
   "metadata": {
    "colab_type": "text",
    "id": "Wq2nBd4yaJLy"
   },
   "source": [
    "# Confusion matrix"
   ]
  },
  {
   "cell_type": "code",
   "execution_count": 18,
   "metadata": {
    "colab": {
     "base_uri": "https://localhost:8080/",
     "height": 52
    },
    "colab_type": "code",
    "executionInfo": {
     "elapsed": 5082,
     "status": "ok",
     "timestamp": 1559907759167,
     "user": {
      "displayName": "Aishwarya Singh",
      "photoUrl": "https://lh5.googleusercontent.com/-72ZtNB76Qxg/AAAAAAAAAAI/AAAAAAAAAAc/Nsa5vQruND0/s64/photo.jpg",
      "userId": "01105858832371513140"
     },
     "user_tz": -330
    },
    "id": "_B0y2DfFZus5",
    "outputId": "05523d3b-19cf-413d-d839-3514d278a29a"
   },
   "outputs": [
    {
     "name": "stdout",
     "output_type": "stream",
     "text": [
      "[[128  16]\n",
      " [ 22  57]]\n"
     ]
    }
   ],
   "source": [
    "from sklearn.metrics import confusion_matrix\n",
    "cf= confusion_matrix(test_y, test_predict)\n",
    "print(cf)"
   ]
  },
  {
   "cell_type": "code",
   "execution_count": 19,
   "metadata": {
    "colab": {
     "base_uri": "https://localhost:8080/",
     "height": 173
    },
    "colab_type": "code",
    "executionInfo": {
     "elapsed": 4795,
     "status": "ok",
     "timestamp": 1559907759171,
     "user": {
      "displayName": "Aishwarya Singh",
      "photoUrl": "https://lh5.googleusercontent.com/-72ZtNB76Qxg/AAAAAAAAAAI/AAAAAAAAAAc/Nsa5vQruND0/s64/photo.jpg",
      "userId": "01105858832371513140"
     },
     "user_tz": -330
    },
    "id": "8iN2ugVDZkWS",
    "outputId": "26abffce-bb28-4786-81d6-ac09ad0e4402"
   },
   "outputs": [
    {
     "name": "stdout",
     "output_type": "stream",
     "text": [
      "              precision    recall  f1-score   support\n",
      "\n",
      "           0       0.85      0.89      0.87       144\n",
      "           1       0.78      0.72      0.75        79\n",
      "\n",
      "    accuracy                           0.83       223\n",
      "   macro avg       0.82      0.81      0.81       223\n",
      "weighted avg       0.83      0.83      0.83       223\n",
      "\n"
     ]
    }
   ],
   "source": [
    "from sklearn.metrics import classification_report as rep\n",
    "print(rep( test_y , test_predict ))"
   ]
  },
  {
   "cell_type": "markdown",
   "metadata": {
    "colab_type": "text",
    "id": "Tx7pAs3cosaz"
   },
   "source": [
    "# Parameters of Logistic Regression"
   ]
  },
  {
   "cell_type": "code",
   "execution_count": 20,
   "metadata": {
    "colab": {
     "base_uri": "https://localhost:8080/",
     "height": 104
    },
    "colab_type": "code",
    "executionInfo": {
     "elapsed": 4303,
     "status": "ok",
     "timestamp": 1559907759176,
     "user": {
      "displayName": "Aishwarya Singh",
      "photoUrl": "https://lh5.googleusercontent.com/-72ZtNB76Qxg/AAAAAAAAAAI/AAAAAAAAAAc/Nsa5vQruND0/s64/photo.jpg",
      "userId": "01105858832371513140"
     },
     "user_tz": -330
    },
    "id": "jjMoVU-VoyVo",
    "outputId": "9e3cda88-342d-45a9-8f1f-82e77c1a00e4"
   },
   "outputs": [
    {
     "data": {
      "text/plain": [
       "array([[-0.03483324,  0.00290013,  0.9995272 ,  0.09486364, -1.05437925,\n",
       "         1.17493838, -1.13492679,  0.876068  ,  1.08449093,  0.48118273,\n",
       "        -0.58818058, -0.80578062, -0.43078884, -0.57698001,  0.23067554,\n",
       "         0.6899365 , -0.08309987,  0.31876764, -0.59641794, -0.19446174,\n",
       "        -0.32538854,  0.16857483,  0.15122559, -0.27978883]])"
      ]
     },
     "execution_count": 20,
     "metadata": {},
     "output_type": "execute_result"
    }
   ],
   "source": [
    "# printing the coefficients\n",
    "logreg.coef_"
   ]
  },
  {
   "cell_type": "markdown",
   "metadata": {
    "colab_type": "text",
    "id": "MGWYxwjykZss"
   },
   "source": [
    "### Plotting the coefficients"
   ]
  },
  {
   "cell_type": "code",
   "execution_count": 21,
   "metadata": {
    "colab": {
     "base_uri": "https://localhost:8080/",
     "height": 680
    },
    "colab_type": "code",
    "executionInfo": {
     "elapsed": 3818,
     "status": "ok",
     "timestamp": 1559907759179,
     "user": {
      "displayName": "Aishwarya Singh",
      "photoUrl": "https://lh5.googleusercontent.com/-72ZtNB76Qxg/AAAAAAAAAAI/AAAAAAAAAAc/Nsa5vQruND0/s64/photo.jpg",
      "userId": "01105858832371513140"
     },
     "user_tz": -330
    },
    "id": "wxkPFx7Yp3Du",
    "outputId": "e3a2c141-29a5-4fe1-c5cf-3aba7ecea7c2"
   },
   "outputs": [
    {
     "data": {
      "text/plain": [
       "Text(0.5, 1.0, 'Coefficient plot')"
      ]
     },
     "execution_count": 21,
     "metadata": {},
     "output_type": "execute_result"
    },
    {
     "data": {
      "image/png": "[encoded data removed]",
      "text/plain": [
       "<Figure size 960x720 with 1 Axes>"
      ]
     },
     "metadata": {},
     "output_type": "display_data"
    }
   ],
   "source": [
    "plt.figure(figsize=(8, 6), dpi=120, facecolor='w', edgecolor='b')\n",
    "x = range(len(train_x.columns))\n",
    "c = logreg.coef_.reshape(-1)\n",
    "plt.bar( x, c )\n",
    "plt.xlabel( \"Variables\")\n",
    "plt.ylabel('Coefficients')\n",
    "plt.title('Coefficient plot')"
   ]
  },
  {
   "cell_type": "code",
   "execution_count": 22,
   "metadata": {
    "colab": {
     "base_uri": "https://localhost:8080/",
     "height": 206
    },
    "colab_type": "code",
    "executionInfo": {
     "elapsed": 3549,
     "status": "ok",
     "timestamp": 1559907759182,
     "user": {
      "displayName": "Aishwarya Singh",
      "photoUrl": "https://lh5.googleusercontent.com/-72ZtNB76Qxg/AAAAAAAAAAI/AAAAAAAAAAc/Nsa5vQruND0/s64/photo.jpg",
      "userId": "01105858832371513140"
     },
     "user_tz": -330
    },
    "id": "GWpGeLB-UsRE",
    "outputId": "7ac27612-3e35-4827-8bde-8b57e6a472b7"
   },
   "outputs": [
    {
     "data": {
      "text/html": [
       "<div>\n",
       "<style scoped>\n",
       "    .dataframe tbody tr th:only-of-type {\n",
       "        vertical-align: middle;\n",
       "    }\n",
       "\n",
       "    .dataframe tbody tr th {\n",
       "        vertical-align: top;\n",
       "    }\n",
       "\n",
       "    .dataframe thead th {\n",
       "        text-align: right;\n",
       "    }\n",
       "</style>\n",
       "<table border=\"1\" class=\"dataframe\">\n",
       "  <thead>\n",
       "    <tr style=\"text-align: right;\">\n",
       "      <th></th>\n",
       "      <th>Variable</th>\n",
       "      <th>coefficient</th>\n",
       "    </tr>\n",
       "  </thead>\n",
       "  <tbody>\n",
       "    <tr>\n",
       "      <th>0</th>\n",
       "      <td>Age</td>\n",
       "      <td>0.034833</td>\n",
       "    </tr>\n",
       "    <tr>\n",
       "      <th>1</th>\n",
       "      <td>Fare</td>\n",
       "      <td>0.002900</td>\n",
       "    </tr>\n",
       "    <tr>\n",
       "      <th>2</th>\n",
       "      <td>Pclass_1</td>\n",
       "      <td>0.999527</td>\n",
       "    </tr>\n",
       "    <tr>\n",
       "      <th>3</th>\n",
       "      <td>Pclass_2</td>\n",
       "      <td>0.094864</td>\n",
       "    </tr>\n",
       "    <tr>\n",
       "      <th>4</th>\n",
       "      <td>Pclass_3</td>\n",
       "      <td>1.054379</td>\n",
       "    </tr>\n",
       "  </tbody>\n",
       "</table>\n",
       "</div>"
      ],
      "text/plain": [
       "   Variable  coefficient\n",
       "0       Age     0.034833\n",
       "1      Fare     0.002900\n",
       "2  Pclass_1     0.999527\n",
       "3  Pclass_2     0.094864\n",
       "4  Pclass_3     1.054379"
      ]
     },
     "execution_count": 22,
     "metadata": {},
     "output_type": "execute_result"
    }
   ],
   "source": [
    "Coefficients = pd.DataFrame({\n",
    "    'Variable'    : train_x.columns,\n",
    "    'coefficient' : abs(c)\n",
    "})\n",
    "Coefficients.head()"
   ]
  },
  {
   "cell_type": "code",
   "execution_count": 23,
   "metadata": {
    "colab": {
     "base_uri": "https://localhost:8080/",
     "height": 131
    },
    "colab_type": "code",
    "executionInfo": {
     "elapsed": 2397,
     "status": "error",
     "timestamp": 1559907813938,
     "user": {
      "displayName": "Aishwarya Singh",
      "photoUrl": "https://lh5.googleusercontent.com/-72ZtNB76Qxg/AAAAAAAAAAI/AAAAAAAAAAc/Nsa5vQruND0/s64/photo.jpg",
      "userId": "01105858832371513140"
     },
     "user_tz": -330
    },
    "id": "pWP-VAcstr5J",
    "outputId": "f7e7ec7c-6c82-4f7c-c2d0-8ebc166a6251"
   },
   "outputs": [],
   "source": [
    "#selecting variables with high coefficient\n",
    "sig_var = Coefficients[Coefficients.coefficient > 0.3]"
   ]
  },
  {
   "cell_type": "code",
   "execution_count": 24,
   "metadata": {
    "colab": {
     "base_uri": "https://localhost:8080/",
     "height": 226
    },
    "colab_type": "code",
    "executionInfo": {
     "elapsed": 4140,
     "status": "ok",
     "timestamp": 1559907815966,
     "user": {
      "displayName": "Aishwarya Singh",
      "photoUrl": "https://lh5.googleusercontent.com/-72ZtNB76Qxg/AAAAAAAAAAI/AAAAAAAAAAc/Nsa5vQruND0/s64/photo.jpg",
      "userId": "01105858832371513140"
     },
     "user_tz": -330
    },
    "id": "XdCZihb6uLNI",
    "outputId": "e3bbf507-b9f1-4316-8aa0-b634c02701d5"
   },
   "outputs": [
    {
     "data": {
      "text/html": [
       "<div>\n",
       "<style scoped>\n",
       "    .dataframe tbody tr th:only-of-type {\n",
       "        vertical-align: middle;\n",
       "    }\n",
       "\n",
       "    .dataframe tbody tr th {\n",
       "        vertical-align: top;\n",
       "    }\n",
       "\n",
       "    .dataframe thead th {\n",
       "        text-align: right;\n",
       "    }\n",
       "</style>\n",
       "<table border=\"1\" class=\"dataframe\">\n",
       "  <thead>\n",
       "    <tr style=\"text-align: right;\">\n",
       "      <th></th>\n",
       "      <th>Pclass_1</th>\n",
       "      <th>Pclass_3</th>\n",
       "      <th>Sex_female</th>\n",
       "      <th>Sex_male</th>\n",
       "      <th>SibSp_0</th>\n",
       "      <th>SibSp_1</th>\n",
       "      <th>SibSp_2</th>\n",
       "      <th>SibSp_3</th>\n",
       "      <th>SibSp_4</th>\n",
       "      <th>SibSp_5</th>\n",
       "      <th>SibSp_8</th>\n",
       "      <th>Parch_1</th>\n",
       "      <th>Parch_3</th>\n",
       "      <th>Parch_4</th>\n",
       "      <th>Parch_6</th>\n",
       "    </tr>\n",
       "  </thead>\n",
       "  <tbody>\n",
       "    <tr>\n",
       "      <th>0</th>\n",
       "      <td>0</td>\n",
       "      <td>1</td>\n",
       "      <td>0</td>\n",
       "      <td>1</td>\n",
       "      <td>0</td>\n",
       "      <td>1</td>\n",
       "      <td>0</td>\n",
       "      <td>0</td>\n",
       "      <td>0</td>\n",
       "      <td>0</td>\n",
       "      <td>0</td>\n",
       "      <td>0</td>\n",
       "      <td>0</td>\n",
       "      <td>0</td>\n",
       "      <td>0</td>\n",
       "    </tr>\n",
       "    <tr>\n",
       "      <th>1</th>\n",
       "      <td>1</td>\n",
       "      <td>0</td>\n",
       "      <td>1</td>\n",
       "      <td>0</td>\n",
       "      <td>0</td>\n",
       "      <td>1</td>\n",
       "      <td>0</td>\n",
       "      <td>0</td>\n",
       "      <td>0</td>\n",
       "      <td>0</td>\n",
       "      <td>0</td>\n",
       "      <td>0</td>\n",
       "      <td>0</td>\n",
       "      <td>0</td>\n",
       "      <td>0</td>\n",
       "    </tr>\n",
       "    <tr>\n",
       "      <th>2</th>\n",
       "      <td>0</td>\n",
       "      <td>1</td>\n",
       "      <td>1</td>\n",
       "      <td>0</td>\n",
       "      <td>1</td>\n",
       "      <td>0</td>\n",
       "      <td>0</td>\n",
       "      <td>0</td>\n",
       "      <td>0</td>\n",
       "      <td>0</td>\n",
       "      <td>0</td>\n",
       "      <td>0</td>\n",
       "      <td>0</td>\n",
       "      <td>0</td>\n",
       "      <td>0</td>\n",
       "    </tr>\n",
       "    <tr>\n",
       "      <th>3</th>\n",
       "      <td>1</td>\n",
       "      <td>0</td>\n",
       "      <td>1</td>\n",
       "      <td>0</td>\n",
       "      <td>0</td>\n",
       "      <td>1</td>\n",
       "      <td>0</td>\n",
       "      <td>0</td>\n",
       "      <td>0</td>\n",
       "      <td>0</td>\n",
       "      <td>0</td>\n",
       "      <td>0</td>\n",
       "      <td>0</td>\n",
       "      <td>0</td>\n",
       "      <td>0</td>\n",
       "    </tr>\n",
       "    <tr>\n",
       "      <th>4</th>\n",
       "      <td>0</td>\n",
       "      <td>1</td>\n",
       "      <td>0</td>\n",
       "      <td>1</td>\n",
       "      <td>1</td>\n",
       "      <td>0</td>\n",
       "      <td>0</td>\n",
       "      <td>0</td>\n",
       "      <td>0</td>\n",
       "      <td>0</td>\n",
       "      <td>0</td>\n",
       "      <td>0</td>\n",
       "      <td>0</td>\n",
       "      <td>0</td>\n",
       "      <td>0</td>\n",
       "    </tr>\n",
       "  </tbody>\n",
       "</table>\n",
       "</div>"
      ],
      "text/plain": [
       "   Pclass_1  Pclass_3  Sex_female  Sex_male  SibSp_0  SibSp_1  SibSp_2  \\\n",
       "0         0         1           0         1        0        1        0   \n",
       "1         1         0           1         0        0        1        0   \n",
       "2         0         1           1         0        1        0        0   \n",
       "3         1         0           1         0        0        1        0   \n",
       "4         0         1           0         1        1        0        0   \n",
       "\n",
       "   SibSp_3  SibSp_4  SibSp_5  SibSp_8  Parch_1  Parch_3  Parch_4  Parch_6  \n",
       "0        0        0        0        0        0        0        0        0  \n",
       "1        0        0        0        0        0        0        0        0  \n",
       "2        0        0        0        0        0        0        0        0  \n",
       "3        0        0        0        0        0        0        0        0  \n",
       "4        0        0        0        0        0        0        0        0  "
      ]
     },
     "execution_count": 24,
     "metadata": {},
     "output_type": "execute_result"
    }
   ],
   "source": [
    "subset = data[sig_var['Variable'].values]\n",
    "subset.head()"
   ]
  },
  {
   "cell_type": "code",
   "execution_count": 25,
   "metadata": {
    "colab": {},
    "colab_type": "code",
    "id": "aeEEVtBbvFI6"
   },
   "outputs": [],
   "source": [
    "# Using train test split function\n",
    "train_x,test_x,train_y,test_y = train_test_split(subset, y, random_state = 56)"
   ]
  },
  {
   "cell_type": "markdown",
   "metadata": {
    "colab_type": "text",
    "id": "bP1qY6M2vFKX"
   },
   "source": [
    "### Implementing Logistic Regression"
   ]
  },
  {
   "cell_type": "code",
   "execution_count": 26,
   "metadata": {
    "colab": {
     "base_uri": "https://localhost:8080/",
     "height": 159
    },
    "colab_type": "code",
    "executionInfo": {
     "elapsed": 3376,
     "status": "ok",
     "timestamp": 1559907815982,
     "user": {
      "displayName": "Aishwarya Singh",
      "photoUrl": "https://lh5.googleusercontent.com/-72ZtNB76Qxg/AAAAAAAAAAI/AAAAAAAAAAc/Nsa5vQruND0/s64/photo.jpg",
      "userId": "01105858832371513140"
     },
     "user_tz": -330
    },
    "id": "fT8yiasyvFKf",
    "outputId": "73ab52a8-76a7-42c6-bb7a-68a95907cda1"
   },
   "outputs": [
    {
     "name": "stderr",
     "output_type": "stream",
     "text": [
      "C:\\Users\\dell\\Machine\\Anaconda3\\lib\\site-packages\\sklearn\\linear_model\\logistic.py:432: FutureWarning: Default solver will be changed to 'lbfgs' in 0.22. Specify a solver to silence this warning.\n",
      "  FutureWarning)\n"
     ]
    },
    {
     "data": {
      "text/plain": [
       "LogisticRegression(C=1.0, class_weight=None, dual=False, fit_intercept=True,\n",
       "                   intercept_scaling=1, l1_ratio=None, max_iter=100,\n",
       "                   multi_class='warn', n_jobs=None, penalty='l2',\n",
       "                   random_state=None, solver='warn', tol=0.0001, verbose=0,\n",
       "                   warm_start=False)"
      ]
     },
     "execution_count": 26,
     "metadata": {},
     "output_type": "execute_result"
    }
   ],
   "source": [
    "# Creating instance of Logistic Regresssion\n",
    "logreg = LogReg()\n",
    "\n",
    "# Fitting the model\n",
    "logreg.fit(train_x, train_y)"
   ]
  },
  {
   "cell_type": "markdown",
   "metadata": {
    "colab_type": "text",
    "id": "nprgzSRivFKo"
   },
   "source": [
    "### Making predictions using *predict* function"
   ]
  },
  {
   "cell_type": "code",
   "execution_count": 27,
   "metadata": {
    "colab": {
     "base_uri": "https://localhost:8080/",
     "height": 34
    },
    "colab_type": "code",
    "executionInfo": {
     "elapsed": 2661,
     "status": "ok",
     "timestamp": 1559907815985,
     "user": {
      "displayName": "Aishwarya Singh",
      "photoUrl": "https://lh5.googleusercontent.com/-72ZtNB76Qxg/AAAAAAAAAAI/AAAAAAAAAAc/Nsa5vQruND0/s64/photo.jpg",
      "userId": "01105858832371513140"
     },
     "user_tz": -330
    },
    "id": "sI8H3sxLvFKq",
    "outputId": "29ee7fee-1345-4136-c585-feaeaca26bc1"
   },
   "outputs": [
    {
     "name": "stdout",
     "output_type": "stream",
     "text": [
      "Training f1_score 0.7025948103792415\n"
     ]
    }
   ],
   "source": [
    "# Predicting over the Train\n",
    "train_predict = logreg.predict(train_x)\n",
    "k = f1_score(train_predict, train_y)\n",
    "print('Training f1_score', k )"
   ]
  },
  {
   "cell_type": "code",
   "execution_count": 28,
   "metadata": {
    "colab": {
     "base_uri": "https://localhost:8080/",
     "height": 680
    },
    "colab_type": "code",
    "executionInfo": {
     "elapsed": 3800,
     "status": "ok",
     "timestamp": 1559907817424,
     "user": {
      "displayName": "Aishwarya Singh",
      "photoUrl": "https://lh5.googleusercontent.com/-72ZtNB76Qxg/AAAAAAAAAAI/AAAAAAAAAAc/Nsa5vQruND0/s64/photo.jpg",
      "userId": "01105858832371513140"
     },
     "user_tz": -330
    },
    "id": "kOjZbA_0uNMg",
    "outputId": "f9ff494b-8c19-4608-f610-9f3fbac010d2"
   },
   "outputs": [
    {
     "data": {
      "text/plain": [
       "Text(0.5, 1.0, 'Coefficient plot')"
      ]
     },
     "execution_count": 28,
     "metadata": {},
     "output_type": "execute_result"
    },
    {
     "data": {
      "image/png": "[encoded data removed]",
      "text/plain": [
       "<Figure size 960x720 with 1 Axes>"
      ]
     },
     "metadata": {},
     "output_type": "display_data"
    }
   ],
   "source": [
    "plt.figure(figsize=(8, 6), dpi=120, facecolor='w', edgecolor='b')\n",
    "x = range(len(train_x.columns))\n",
    "c = logreg.coef_.reshape(-1)\n",
    "plt.bar( x, c )\n",
    "plt.xlabel( \"Variables\")\n",
    "plt.ylabel('Coefficients')\n",
    "plt.title('Coefficient plot')"
   ]
  },
  {
   "cell_type": "code",
   "execution_count": null,
   "metadata": {
    "colab": {},
    "colab_type": "code",
    "id": "Z9mFcQNrv3Ee"
   },
   "outputs": [],
   "source": []
  }
 ],
 "metadata": {
  "colab": {
   "collapsed_sections": [],
   "name": "Logistic regression Notebook.ipynb",
   "provenance": [],
   "version": "0.3.2"
  },
  "kernelspec": {
   "display_name": "Python 3",
   "language": "python",
   "name": "python3"
  },
  "language_info": {
   "codemirror_mode": {
    "name": "ipython",
    "version": 3
   },
   "file_extension": ".py",
   "mimetype": "text/x-python",
   "name": "python",
   "nbconvert_exporter": "python",
   "pygments_lexer": "ipython3",
   "version": "3.7.3"
  }
 },
 "nbformat": 4,
 "nbformat_minor": 1
}
